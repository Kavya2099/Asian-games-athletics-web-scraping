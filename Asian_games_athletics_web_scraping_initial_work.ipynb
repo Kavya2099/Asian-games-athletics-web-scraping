{
  "nbformat": 4,
  "nbformat_minor": 0,
  "metadata": {
    "colab": {
      "provenance": [],
      "authorship_tag": "ABX9TyMQPs2FiCi+LYOnLxil93FI",
      "include_colab_link": true
    },
    "kernelspec": {
      "name": "python3",
      "display_name": "Python 3"
    },
    "language_info": {
      "name": "python"
    }
  },
  "cells": [
    {
      "cell_type": "markdown",
      "metadata": {
        "id": "view-in-github",
        "colab_type": "text"
      },
      "source": [
        "<a href=\"https://colab.research.google.com/github/Kavya2099/Asian-games-athletics-web-scraping/blob/main/Asian_games_athletics_web_scraping_initial_work.ipynb\" target=\"_parent\"><img src=\"https://colab.research.google.com/assets/colab-badge.svg\" alt=\"Open In Colab\"/></a>"
      ]
    },
    {
      "cell_type": "markdown",
      "source": [
        "# Websraping project on Asian games\n",
        "\n",
        "Getting the list of countries who bagged medals in atletics from the year 1951-2022\n",
        "\n",
        "We'll be scarping out year, country, category, gender and medals--> gold, silver, bronze deatils from wikipedia\n",
        "\n",
        "https://en.wikipedia.org/wiki/List_of_Asian_Games_medalists_in_athletics"
      ],
      "metadata": {
        "id": "LvggX8ExZnB2"
      }
    },
    {
      "cell_type": "code",
      "execution_count": null,
      "metadata": {
        "id": "EDnw4wONLEYr"
      },
      "outputs": [],
      "source": [
        "!pip install requests --upgrade --quiet"
      ]
    },
    {
      "cell_type": "code",
      "source": [
        "import requests"
      ],
      "metadata": {
        "id": "1UldVxACcuUU"
      },
      "execution_count": null,
      "outputs": []
    },
    {
      "cell_type": "code",
      "source": [
        "wiki_url = 'https://en.wikipedia.org/wiki/List_of_Asian_Games_medalists_in_athletics'"
      ],
      "metadata": {
        "id": "M4Vvfj0Vcyqs"
      },
      "execution_count": null,
      "outputs": []
    },
    {
      "cell_type": "code",
      "source": [
        "#getting the response from url\n",
        "response = requests.get(wiki_url)"
      ],
      "metadata": {
        "id": "F1NOxFNzdTTj"
      },
      "execution_count": null,
      "outputs": []
    },
    {
      "cell_type": "code",
      "source": [
        "#getting the status code. If the status code is between 200-299, it means success\n",
        "response.status_code\n"
      ],
      "metadata": {
        "colab": {
          "base_uri": "https://localhost:8080/"
        },
        "id": "0I2EaD8ZdXdB",
        "outputId": "380b3197-cd02-4fd7-af62-437fccc76916"
      },
      "execution_count": null,
      "outputs": [
        {
          "output_type": "execute_result",
          "data": {
            "text/plain": [
              "200"
            ]
          },
          "metadata": {},
          "execution_count": 329
        }
      ]
    },
    {
      "cell_type": "markdown",
      "source": [
        "We could see have around 19 lakh text responses in the page. If we try to load entire thing here, it'll slow down the working so we are just looking into top 1000 text responses"
      ],
      "metadata": {
        "id": "W_5qF7nseVUb"
      }
    },
    {
      "cell_type": "code",
      "source": [
        "len(response.text)"
      ],
      "metadata": {
        "colab": {
          "base_uri": "https://localhost:8080/"
        },
        "id": "_vwdX9A8dbAX",
        "outputId": "740ee43c-5d8c-4f82-fca5-3b295fecb052"
      },
      "execution_count": null,
      "outputs": [
        {
          "output_type": "execute_result",
          "data": {
            "text/plain": [
              "1954061"
            ]
          },
          "metadata": {},
          "execution_count": 330
        }
      ]
    },
    {
      "cell_type": "code",
      "source": [
        "page_contents = response.text"
      ],
      "metadata": {
        "id": "SvDRjCmNdduw"
      },
      "execution_count": null,
      "outputs": []
    },
    {
      "cell_type": "code",
      "source": [
        "page_contents[:1000]"
      ],
      "metadata": {
        "colab": {
          "base_uri": "https://localhost:8080/",
          "height": 128
        },
        "id": "OmCJPN-ddfHQ",
        "outputId": "e50b900f-a3bf-4691-b532-9cd1f01e3319"
      },
      "execution_count": null,
      "outputs": [
        {
          "output_type": "execute_result",
          "data": {
            "text/plain": [
              "'<!DOCTYPE html>\\n<html class=\"client-nojs\" lang=\"en\" dir=\"ltr\">\\n<head>\\n<meta charset=\"UTF-8\"/>\\n<title>List of Asian Games medalists in athletics - Wikipedia</title>\\n<script>document.documentElement.className=\"client-js\";RLCONF={\"wgBreakFrames\":false,\"wgSeparatorTransformTable\":[\"\",\"\"],\"wgDigitTransformTable\":[\"\",\"\"],\"wgDefaultDateFormat\":\"dmy\",\"wgMonthNames\":[\"\",\"January\",\"February\",\"March\",\"April\",\"May\",\"June\",\"July\",\"August\",\"September\",\"October\",\"November\",\"December\"],\"wgRequestId\":\"d62550ba-1f28-4e8c-bed9-95a3ffc303a5\",\"wgCSPNonce\":false,\"wgCanonicalNamespace\":\"\",\"wgCanonicalSpecialPageName\":false,\"wgNamespaceNumber\":0,\"wgPageName\":\"List_of_Asian_Games_medalists_in_athletics\",\"wgTitle\":\"List of Asian Games medalists in athletics\",\"wgCurRevisionId\":1113433149,\"wgRevisionId\":1113433149,\"wgArticleId\":60572864,\"wgIsArticle\":true,\"wgIsRedirect\":false,\"wgAction\":\"view\",\"wgUserName\":null,\"wgUserGroups\":[\"*\"],\"wgCategories\":[\"Articles with short description\",\"Short description is different '"
            ],
            "application/vnd.google.colaboratory.intrinsic+json": {
              "type": "string"
            }
          },
          "metadata": {},
          "execution_count": 332
        }
      ]
    },
    {
      "cell_type": "markdown",
      "source": [
        "# Using Beautiful Soup to parse and extract information"
      ],
      "metadata": {
        "id": "NRR_uoFfevnX"
      }
    },
    {
      "cell_type": "code",
      "source": [
        "!pip install beautifulsoup4 --upgrade --quiet\n",
        "from bs4 import BeautifulSoup\n",
        "doc = BeautifulSoup(page_contents, 'html.parser')"
      ],
      "metadata": {
        "id": "WcYJPJ_Ne0YY"
      },
      "execution_count": null,
      "outputs": []
    },
    {
      "cell_type": "markdown",
      "source": [
        "Now, first we'll be getting the category of athletics. Here category refers to male/ female.\n",
        "\n",
        "So we need to find the tag at which male and female comes in the website. So with the help of inspect element we could find that it comes in the span tag at h2\n",
        "\n"
      ],
      "metadata": {
        "id": "F0UqU-fdhWNj"
      }
    },
    {
      "cell_type": "markdown",
      "source": [
        "![image.png](data:image/png;base64,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)"
      ],
      "metadata": {
        "id": "se2T3gZqqnUh"
      }
    },
    {
      "cell_type": "markdown",
      "source": [
        "so now we'll get those h2 classes"
      ],
      "metadata": {
        "id": "I7IV92ReiMqE"
      }
    },
    {
      "cell_type": "code",
      "source": [
        "category = doc.find_all('h2')\n"
      ],
      "metadata": {
        "id": "jV_Mmd8xf-QM"
      },
      "execution_count": null,
      "outputs": []
    },
    {
      "cell_type": "code",
      "source": [
        "len(category)"
      ],
      "metadata": {
        "colab": {
          "base_uri": "https://localhost:8080/"
        },
        "id": "AQFhafe3gkFh",
        "outputId": "2562f37f-8d0b-49be-ec8f-f3e42ca8857e"
      },
      "execution_count": null,
      "outputs": [
        {
          "output_type": "execute_result",
          "data": {
            "text/plain": [
              "7"
            ]
          },
          "metadata": {},
          "execution_count": 335
        }
      ]
    },
    {
      "cell_type": "markdown",
      "source": [
        "so if we look at this, we could see that there are around 7 items inside span tags and we need only 3 which are male, female and mixed.\n",
        "\n",
        "So lets split that those from others!"
      ],
      "metadata": {
        "id": "DEjKFxn1ib79"
      }
    },
    {
      "cell_type": "code",
      "source": [
        "category[1:4]"
      ],
      "metadata": {
        "colab": {
          "base_uri": "https://localhost:8080/"
        },
        "id": "H0bJ9h_3gltL",
        "outputId": "c0f1ed49-2e92-4552-c7b8-36a2c5a9a0e2"
      },
      "execution_count": null,
      "outputs": [
        {
          "output_type": "execute_result",
          "data": {
            "text/plain": [
              "[<h2><span class=\"mw-headline\" id=\"Men\">Men</span><span class=\"mw-editsection\"><span class=\"mw-editsection-bracket\">[</span><a href=\"/w/index.php?title=List_of_Asian_Games_medalists_in_athletics&amp;action=edit&amp;section=1\" title=\"Edit section: Men\">edit</a><span class=\"mw-editsection-bracket\">]</span></span></h2>,\n",
              " <h2><span class=\"mw-headline\" id=\"Women\">Women</span><span class=\"mw-editsection\"><span class=\"mw-editsection-bracket\">[</span><a href=\"/w/index.php?title=List_of_Asian_Games_medalists_in_athletics&amp;action=edit&amp;section=27\" title=\"Edit section: Women\">edit</a><span class=\"mw-editsection-bracket\">]</span></span></h2>,\n",
              " <h2><span class=\"mw-headline\" id=\"Mixed\">Mixed</span><span class=\"mw-editsection\"><span class=\"mw-editsection-bracket\">[</span><a href=\"/w/index.php?title=List_of_Asian_Games_medalists_in_athletics&amp;action=edit&amp;section=53\" title=\"Edit section: Mixed\">edit</a><span class=\"mw-editsection-bracket\">]</span></span></h2>]"
            ]
          },
          "metadata": {},
          "execution_count": 336
        }
      ]
    },
    {
      "cell_type": "markdown",
      "source": [
        "So here we are taking only the value and removing last '[Edit]' that is attached with the text"
      ],
      "metadata": {
        "id": "SCCgW6Eenm75"
      }
    },
    {
      "cell_type": "code",
      "source": [
        "category[3].text"
      ],
      "metadata": {
        "colab": {
          "base_uri": "https://localhost:8080/",
          "height": 36
        },
        "id": "O2ZOMrsanx4j",
        "outputId": "63f5d2c7-1129-4db8-89f7-5d6103a6c31d"
      },
      "execution_count": null,
      "outputs": [
        {
          "output_type": "execute_result",
          "data": {
            "text/plain": [
              "'Mixed[edit]'"
            ],
            "application/vnd.google.colaboratory.intrinsic+json": {
              "type": "string"
            }
          },
          "metadata": {},
          "execution_count": 337
        }
      ]
    },
    {
      "cell_type": "code",
      "source": [
        "category[3].text[:-6]"
      ],
      "metadata": {
        "colab": {
          "base_uri": "https://localhost:8080/",
          "height": 36
        },
        "id": "_RvfgKgcmcbB",
        "outputId": "1b9a9ad8-3efa-433f-efcf-b7e63c881667"
      },
      "execution_count": null,
      "outputs": [
        {
          "output_type": "execute_result",
          "data": {
            "text/plain": [
              "'Mixed'"
            ],
            "application/vnd.google.colaboratory.intrinsic+json": {
              "type": "string"
            }
          },
          "metadata": {},
          "execution_count": 338
        }
      ]
    },
    {
      "cell_type": "code",
      "source": [
        "\n",
        "for i in range(1,4):\n",
        "  category[i]= category[i].text[:-6]\n",
        "\n"
      ],
      "metadata": {
        "id": "Mi4ZssbUn0VY"
      },
      "execution_count": null,
      "outputs": []
    },
    {
      "cell_type": "code",
      "source": [
        "category"
      ],
      "metadata": {
        "colab": {
          "base_uri": "https://localhost:8080/"
        },
        "id": "18uC4cXRqB-Q",
        "outputId": "f37bb05f-3125-4bac-888e-0456fc4de3ba"
      },
      "execution_count": null,
      "outputs": [
        {
          "output_type": "execute_result",
          "data": {
            "text/plain": [
              "[<h2 id=\"mw-toc-heading\">Contents</h2>,\n",
              " 'Men',\n",
              " 'Women',\n",
              " 'Mixed',\n",
              " <h2><span class=\"mw-headline\" id=\"See_also\">See also</span><span class=\"mw-editsection\"><span class=\"mw-editsection-bracket\">[</span><a href=\"/w/index.php?title=List_of_Asian_Games_medalists_in_athletics&amp;action=edit&amp;section=55\" title=\"Edit section: See also\">edit</a><span class=\"mw-editsection-bracket\">]</span></span></h2>,\n",
              " <h2><span class=\"mw-headline\" id=\"References\">References</span><span class=\"mw-editsection\"><span class=\"mw-editsection-bracket\">[</span><a href=\"/w/index.php?title=List_of_Asian_Games_medalists_in_athletics&amp;action=edit&amp;section=56\" title=\"Edit section: References\">edit</a><span class=\"mw-editsection-bracket\">]</span></span></h2>,\n",
              " <h2>Navigation menu</h2>]"
            ]
          },
          "metadata": {},
          "execution_count": 340
        }
      ]
    },
    {
      "cell_type": "code",
      "source": [
        "category= category[1:4]\n",
        "category"
      ],
      "metadata": {
        "colab": {
          "base_uri": "https://localhost:8080/"
        },
        "id": "3NBf-h-HppXl",
        "outputId": "6a3f15d2-229c-4917-91ad-630cf206f32e"
      },
      "execution_count": null,
      "outputs": [
        {
          "output_type": "execute_result",
          "data": {
            "text/plain": [
              "['Men', 'Women', 'Mixed']"
            ]
          },
          "metadata": {},
          "execution_count": 341
        }
      ]
    },
    {
      "cell_type": "markdown",
      "source": [
        "Now we got the category!!\n",
        "\n",
        "Next we'll focus on getting the athletic sports type\n",
        "\n"
      ],
      "metadata": {
        "id": "yF9qf1SCqLaa"
      }
    },
    {
      "cell_type": "markdown",
      "source": [
        "![image.png](data:image/png;base64,iVBORw0KGgoAAAANSUhEUgAABJIAAAD5CAYAAAB8kR+VAAAgAElEQVR4nOzdeXhU9d3//2e+P/sVUBEMOllkiUIbYhObAJbFut2CJZCw5FYQFBWEIKhoG+6oaGMqLrmT3goCstxQhLJEGwIEghAKSCWhEJKS1BBv0LBlGSAFY4v4vXtd8/vjnMksmUkmO8vrcV1zMXM+y/mcMzmHzDvvz2f8bDabjWZY/clmHhs93Iea5/jjtDnk8Dmf91lP6eyfNVD/KKkjS+GtGGZHOrZas3bQ51QINTP6NGfYjVP4BZ3fgJ1b7uWetturXCU+2biNJx+Lbe9hiIjINaampqbZfXx17DgDoiJaYDQiIiJytfg/bbWjcxvmkPPLt3nO5/hPV3qFwlt5R122WmKGuQWRjpI6MovO5iO10LWXA4scZZ0XufblzqXuyB18avV4JHya4L1Pa9YOR1lCAR67EBERERFpU1Yy49OZuvEa+e00fxUp/qsoau9xiIhchdookPRXlr92B8+N7daINt14dHYwsdmltYGZJ7LOudU5x6cJpRyOH0TNlhhqlgdz+A1HAMiatYOHvwnm6JYYarYMYvk3pR76MBV+4VQ3hp3RPzAlo27gyZpVwJQ7Qo39mX3WBq8Kv6DPkk7stJdRTp8GglciIiIicm069EE68wtaqfOCnQR/UNJKnRey3j+Z9flQlJZMSlphw01aQFGasc+6qsiZPI+cijYZhojINa9NAkl/TR0PaxJpaDJbHZYo/mAGdo7GX8/mJXmuWUfWk2wq7cqLMd1q678Y/QObDpwDzrH38x94Y2IUFgC68ejErmz+/KTnLKHIe6lJs9c9x4lv6hlXdpkZrOrGo2mOqXcH8s5DtMWc/mbsj2wrBxp73CIiIiIiLcrCmCXjWDba0kL9dcE/qO7WorRkFmdUNblXa8Y8z+0rssktGcCD/X3sqP8kEqsn4fPEzPxVpEzO1mwCEREfXNfqe6j6Ix8dncvbs5vXjSVmGDUx5hpJb3zB/Vvu5Z6Ki2zmPJtHZrlWjj4PwPFSeOuNLN5y6+sEUOe/UGsBT0wpZzMA1xMb6n0cR9lBnylZTDHrLl8+jEctRvAp9v6uzTpOEREREbmGnNzP1JgTZAPRCx9wBHoKdhIcU208H9mTwiUDuQ2gcj9T+xv1cW/jVsbsoDp9udQHDn2wiZO9buD5mXXLz2zcROTMS06D9Wdz+cP0c9piCenCzQTWvo5IiMc6eQmLiWd6XECjTkVRWjLbSgbw9Iq67YrWHqTLjCSX3+GL0pLZ9q79VRei5oKRnbSEgk0AIQyvDSYVst5/L/7FsxhqnhZrxjwyGWeMs/8knh4xj5WTs3l6RXTdzwoiIlKr1QNJ53Jz+Hzv59wb+rrT1vGEHp3LF0v/Ha+T3Qq/oPOaThytzRIyWG7v5HgR1IlY4EWPi2Cfo1covDHRdbFubw5klLM5OrR2/aUDi7LMoFJd9qCWvd7DqQXclxZFzztg86nz4P2oRERERERqpcz8B5vLx7Gscj9T+xdzaLSFfpX7mbrkRgrLH+Y2zIDOByWUvxQGgQNZVj7QbG0lM34/mT8fxZjAEub3txKdP45lgRjBo71mtaiHKS83+plTZwSXeH6bxdiX2xjmzLyBzeWj6IeVzPg9nIq3B5EiGV9t/oIdN4vpLv0FMHRFEpa0ZFLSYklM8OEXccygELEkrvBUv5CSd0MIS3BssWbMM+pXR2IEj9Jd9j+UQtb7Fzv1EcmDS/eSmVfF0LgAoIqirXDnXEfQyhI3i8SextpKwxuTzSQico1p9alt3cYuobS0tPaxfgowZT2l9QWRACItvFHqvsbQOT5d4zR9zNKDUaHnmV+77pGx8LaxDlI37rv/et5a41jw+sCiBhbA/uY7o8xawPxsz1UOLHJdYLtn9+vhjpuwAPcMcp7K5jZWERERERE3iVlmcCawM+HmtjN/sZK95QSRwekEB6e7ZQWVMN/cHhy8h+e3mJsLKkiZ3YcxgTRaYryZ7eQ0huaKSEhiOJt9mC5WRc7kZHJD4r0GnawZe7mwdJhTYMcIAkVN8C1IZWcZ1Ae2mp8FKgr4mj5EuE/P6z+JxO2wzV9rLomIeNP6U9uarA+zt3SlV0IenUeW1m6NjR9EjX1NJLrxaFoox0fm0XmJuSk6tLbcEjOMnaey6DOy3Czsys4tUR5TVe+JCyZ2SrlRNzSYnfHXs/lzI7DkXP+eGYNY7jKmruzcYn6LXOS9HI3fQR/7VLvQYI7O8Plr6kREREREgLpT0OwOfVBMyuxwIzvJzEhqFYGdCecEscFmps/scMqjfG9ef4aRs4YymArZPa0rg6sbN03Oo6BoBofNo6gCIvKO0mXGrLqfC/JXkfIIDK+epYwkEREv2jyQ9LPZpZQ2XM1kLGb9aL11+jB7Sx+8LcF0z4wYamb4sCtLFH/Y4vq/o336GpH3UmP/a08DY3Ke9iYiIiIi0li3/dwC9ilmHsqje/kbTwqKeX4LLHgTCLyR6NQKDr0URj9KmB9T7VgjqSkKKpwCVo1hrFH09Yh4EmvXSCrknTsWcWfuO/DaYLZH55LCa9xzbAZlrxiBo4iEJEhLJmVypesaRfnFnHg1nPEu+wjAEnaBXHOamjUjnYJNmGsk1S/iga4sziuErV0JW+FaZs2Yx8qtfXi6WmskiYjUp02+tU1ERERERHwUOJC3F/6T2NopbOnMLzCK+o3rCTP3GNv33siCkY4202dXm20qGJLlX9vdmY2baqfIZZtt7f15FRVEYmpx7f6Dg9MJ/qCkwaEXpRlBpMYutA1GMOnpEUfJrP3WtipyFp33OIUtYsIAmLaEFP9kMrmPqFH2kkLW+yeT4r+ZE5SxzT/ZdXpd/3C6TNtMQVi4a8ZR/iojiKSFtkVEGuRns9lszelg9SebeWz08JYaj8hV55ON23jysdj2HoaIiFxjampqmt3HV8eOMyBKE3yuRcbC3APdvhHuH0x3+9a2VpW/ipQ94T4v2C0iIm3jMl4jSURERERE2oMxvW4PwTPtWzqwIH9U2wWRwFj4un9b7lBERHyhQJKIiIiIiLgKHMiy8oHtPQoREbkMaY0kERERERERERHxiQJJIiIiIiIiIiLiEwWSRERERERERETEJwokiYiIiIiIiIiITxRIEhERERERERERnyiQJCIiIiLSwr7Yl9feQxAREWkVCiSJiIiIiLSw//79KuYvXMzFi9+391BERERaVNsEkg6lEBoa6vSI549VDTU6SurILDp7eKQWNmLfhV+Y7XbwqbUZxyAiIiIi0ggFhYdJeGUOBYWHG9ewIpvFk7Px/KtrFTmTk0nxNx7r81tgoD4oSnPsy5oxj8UZXn6Zz19VO7YUr8cgIiJXsjYJJJ078Q1MWU9paan5WMK/B/jW9o23YqjZ4ngcjb+et974ggO+7ZlP15wnNn4QNVuG8ailGQchIiIiItJIFy9+z/yFi1mb/mm92Un1Bmec5e/g6xHxJFYnkbg9hBOPrKLILCpKS/atj8aOoSKb3JIBPNi/oR6qyFkEw6uTSKyOJ4qDZNb2ZwTA2irwJSIiradNAkmnv/6c+++8vUX6ssSE8Abn+bwRWUl3396tRfYtIiIiItIkNu9FRWnJrNzahzFxAXW2G9k9jmAR/Scx3V6vfzg9nepHJMRz59YlTQomeRsDQNHag3SZEY3r32QLWG/PPEqz/2IewNAVk4gwn0eM6OJUP4ChK2LhEQWTRESudG0QSDrHsaNwR89WDOZYC3iiduqbfQrbOT5NyGNKKbz1RhadFx2tp669fhapi8ypcGZ9a9YOx7S6hAJHeq61gCdG7iB1kVO5fR+mA4uyvJS5TttzmarnMr5GTuMTERERkctKx44deXHmdCaMf5ROnTrWKS9KS2YbsSSucAvUbDrI1yFG5tHwV8vI9RQcyi/mxKhuTu0CGLoiicFlS5yCOw3zOgYACil5N4Qwt2ykb6cdxb84icTqWHq+u5ecCvd2VRRtvUCXns6BqUjGV8fjv6h5mVMiItK+2iCQdJqv98LvJzrWSIrfcK7JvVmzyniLrtwfad9ylNQp5dxtnwL3ViemTPmCA3Tj0bRBLA/FmNo2o089dR3e+qYTR7fEGPULv6DPkk7sNKfV7byjnD4uAaEfeIsQo6/lwcRml9YGfqxZO3j4m2Cjry2DWP5NKU9kncMIWJVyOH5QbbvDbzgFv1Kdxrc8mMM+T+MTERERkctJ1M/u5ncpbxMVebeHUmOqV25IPIkJkXWLRw2ozQ6yhHSpW16RzeJHzhM1t27wJyIhieFs9mGNogbGAFgz9nJh6TAzy8jh5qXjGBoEEIj/qLrtitKWUBAWy/g60+ECGLrCyJxqTLBLREQuH60fSKo6xjfAM2vM9ZH2zIXX7iXlkG/N33rDdaHtPktg+fJ7ucdeodDKW6HBTLL/3xcZyvJQL1PffKgbe3+P2v+MD+SdJzY+tHZf98QFE5ttdQrsXM/yuD7GU8tNOH5FOMfez39w6qsbj6bF8IeYbmA9yabSrrwYY2ZoWaJ4MfoHNh1wBNfeWmNmPlmi+MMWp2MVERERkSvCs89M4sXnp3vMQjI0LXsIMIJI4Qfpsn2WGcxxVX+GUWPGUMjuaV0Z7GG6W32K0pLZVjKApz0Gp6rImbzEWOfJS/BKREQub9e1+h4C/p0lpf/u8vq5Ka8zftdfSez3swabv/FWDLMjoXaq2h0hLotmW09fhNLz9BlZ7tIu9vQ5cPu/qTF14RwnvoHN2Xl0XuK8/XpGWWkguHOe46Vw90QP0/kqLrKZ82wemeW6Pfo80IdH0wZBQp5jjKHBHE2LauCXABERERG5nNw7ZJBP9SISkiAtmZTJlTzdYOAHoJD14Qfpsj3JQ7aPU5DGKfhT8F4fFvTOJYXXuCd7GAfegcTBX/P8N68QVd8Y8os58Wo44306EoM1Y54RRPIyTW69/2bYnsT0BhfuFhGRy1XrB5K8aPzi2914NC2U4yNLeaJ7VyO7B7Dc3glCu3kJtrhOoWtMXehGzzsg9v5BtftyUW+ecFd6hcKm0+cg0q1tUCdigRe9ZhoZ2UuPAsZaSqX8OquH5zGIiIiIyBUvIiEJS8Y8MjOqHAtpe1GUtpkTAI8kk2Juu3lpPNPjAihKM4JIDfXh2xiqyFl0nqi5jcgaqsgmc9oF4CAr/Q+aG0MYXj2JCKrImWwEkeoGwERE5ErS+oGkQymEToT1pYn8zHw9fvn9zN3TlMBIH2a/ZaXzGwV8es8wIzMp0sIbb5SyqjDKyFyyFvCEuQ7SbPf/9xpTF7hnUFc2v1HKgRgj6GPN2mGumdTQdLNu3Hf/9Uz5/CTWGGMBxAOLsniYUGpm9GBUaB7zs86ZwSEjWHQ4fhB/iDlP6shSqB2PEZBC3zonIiIiclWzxM1iuv1FUDTTV3gui0hIIiLBcx8RCUl11jICiHrlKEZ3yygzJwqs+KaBMeTvoCDsPhI9TJ1zqUcAQ1fMMp9HM7062vPgzGl0IiJy5Wv9QFK/RErXpBAaGlq76Zk1pfx74/9QYogMZXloHlOmfEHPLfdyD32Yvfw7npiSRWezSmz8II+BIRpVF4i8l6PxO+hTOw3tetf1mephiRnGzlNZblPUjPWUjMwqpylz0aHUxHQDutUZH9Gh1Gj6uIiIiIi0pf6TSFTmkIiIeOBns9lszelg9SebeWz08JYaj8hV55ON23jysdj2HoaIiFxjampqmt3HV8eOMyDKU46LiIiIXKta/1vbRERERERERETkqtBui22LiIiIiEhj+DWjbbMmIYiIiNRSIElEREREpE00JxDUWvtWgElERBpHgSQRERERkRbRnoGipnIes4JKIiLSMK2RJCIiIiLSbFdiEMmdH1fHcYiISGtSIElERERERERERHyiqW0iIiIiIi3k4kV4Ixmqq+uWhf4EXpntQycVsPh1GLMCLO5l+ZDyiONlz+0wvn8zBuyRH5rmJiIi3igjSURERESkhXTqBFMn193esSM8+4z3dtYMWJzhww76Q2K1+SiGC49AkVlUlOZjHyIiIs2gQJKIiIiISAsK/QkMe9h125hY6NbNc/2iNFi5FcbE1d2e4m88ijw1rIBvRzmyliIS4M6tCiaJiEjrUiBJRERERKSFjY4Ff3/jeehPYNhQz/WK0mAbkOg+jW0TfB1iZB4NfxVynYJD1gwzwPQIRM11bTd0BQwug5S0lj0eEREROwWSRERERERamH2KW31T2nImQ24IJCZ4KBzlyFCyhLgWWeIcU9u+DoecCtfyiAQYDqRMBmtzD0RERMSNAkkiIiIiIq0g9Cfw6n94n9LW7OyhILhzFFS7BZK8ZjmJiIi0AAWSRERERERaSY/u9Zc3K3uoAr7eBGFO39pWb5aTiIhIC7iuvQcgIiIiInIti0gASwZkZsD0uPrrWjNg5TTH6+HVEGE+L0qDr0c03IeIiEhzKJAkIiIiItLOLHEw3f4iCKav8FxmiYNEL4GiiARHUElERKS1aGqbiIiIiIiIiIj4RIEkERERERERERHxSYtMbftk47aW6EZERERERERERC5jfjabzdbegxARERGRllVTU9PsPr46dpwfBd/VAqO5FlxtS4/+q70HICIilylNbRMREREREREREZ9cbX86ERERERFpB/Vl8OhXbpFrg651z5TheLXRT7qIiIiIiDSgNT426MOl6OPotaG932fda1pae7+jIiIiIiJyTWqJjyL6gOjgej73JMK+B2HOL9tpOMCJZLgwCO4e1n5jEGmpsEdBHoT8uJKu/re2SH9XMq2RJCIiIiIirebiDjjwpPEo/VtL936dbw/rdewNu44j1us48vJ17N3qY7tGPs5/dh1vf9Y6fcN17Em8jj1Wx/MRUcajtJXzAw6GwcHDcPoj2P5Ry/Zd+iScbeYY0qNgRBTssbr1vczYPiIK0otdy/YkOsrc2zVWzVbY/jLUWGFvGBzxsb+vFsCYQTB3i1vBYWP7mEEwZoHnNmMGwcrDzRu3r05/ZJz7a9G//hd2ZsFHKfCXvbB7ayCXvjeuwUvfX8eGVdfxUcp1/OGj6zhf7em6vTopkCQiIiIicoU58rLvH1bbW6dhcM9qCPm39h4J3GRp7xG0nAdSYGsBTKqnvCWzkW4MaHybnkktm41UZwxWeDsK7vZwHs5/Br/GOEdbC4CnHAGj0mVGttbWAti6DfYNh9LmDu7H0NnD5iMvew7C7PwV5P0C3pvoVnAG5k6H9/IgMw/ewxFourAFXsHYnpkHTIedZ5o7cEPNVti71UOBFb75H/jJ3S2zn8bwdu7ayr/+F/Z8BmF3wwPDjcfYSdCho1H2xU7o+zN4LhEeGgFfeQyUNyZYfOVQIElEREREGvR3awV//fN2/t+l7316La3nYBicfRj6OgVFjrwM28PMh1O2xumP4MhWR5nzB0WXNi9Djbm9Zisc3PoZe8Pmsj1sLts/+qtvA/ubI/PogI9ZJieSndokw0VvZSu97+fEOd+GZ3fTj6Hj7cbz0mWQbmatvP2ZmdmSCOet8HYinHdu6GmbF/YMmRHLXLc7Z8E4Z8g4bx/htg/nrJrUHB92Xuyo//ZnrkWly4wPxh7Li72Pwa5zD+jYw4cxOL1Hh3fULXZ+b2vqFtfLZQwWmFMAoR7qHd4Ns2PNF1Y4BuwrNMs+gjh7kO0M5AKHi+v24Sw9yvGzYj+H7ucXC3TENWDZ933g8boBkYf/C572EJy5cACYAz8xX5/6Bg7tggtA/i6Y+Zhj3KeB/QfqH/dXC2ClU+bTykEw5ldGf3anP4K8nfCzEXXbn94AHZ92DZJ5u98cfBmOfOQocw52e7vf1HeP8nbu2sq//gX/7xL86P/C2SoICHaUnamEGztD3wgjqFRyGP5RYzxvutbLZmzpYNaVFfYSERERkXbxl5xMqk5+jQ2I/MUjDb6W1nEwDFgH9zl/AD0MJ38Mj7zvuc3JnTCoxPggeDAMjvQ3glB934e+Zp2arfDXrXCf+UHy77PPcVfJ69zOXzkY9gVHxroGruo4B4dTIGQ1NGb1kJ5J0NN8fnEHHN1hZrD8Daw94Z6kum1OZIDlfejZzXX76Y/gyw9dt92yDgbcDVjgvhJz43Nwu1OdVcfgDx/DE0/BkG0waThYU6C3WV66DA4PhHFAbm+Y08Ax5b5m9LPVYgQf9sTCAxajH+sTsDXFqJceBXu2GWUPpBgPMDJpFn1mZBM5Z9WAEXBqULhR//xnsMhDcepu+EMBdLXC28Oh9JcQaoW3/2BuN8fwxDLYOtVoM8B+7kbAfT4MgZ8aWWgXd8BRt6KzK411k+zvbemTZsFh2P64W+UX4JHnmjYGaw7cnYIRIHsKZr8D+8AIKg2FYfbj3A2znwNfEvyOdYffPQe/3m3+zOw3tnceAfa7Xu04nQwoMQIpex92XGNex30cbv+F8XzlIGAO9NtlvD6dB4Nuw5j6Nh1mzoH9Pox70zfw+8XwzHQYuAlGjTKOtwvmdYP3+0flhxD4nNOG+u43240g9yMlRr3t70Hw+8a9p777Te09ygp7H4TTIxzXaGPO3aXvIftTsFY6tt3UGUaYwbetn8B3TpFLSyBEP2pkGHnSoSOE/AT++DH0CTP6sjtZBj1CjH3u2gI/CYfyk/WP72qiQJKIiIiINKh3xAAAev443KfX0sLMD1i37vYQ0AmAjh/C9v+BQe/XnV5zi1M2QeALUFkFWOoGXjqmOj9/2PwgF8CNPsQFLxYATzYuiARGUKHsT47X19uDCgFw/Z/gwAn4aRJ0cmrTqSeUvQzfJ0LoTx3bb3/OeDTWpCeM4AnPGUGddHtBjhFQOnwM6A4Ew+DuRtH5z+CJ1xx9/M4pK2bwO0Y/AJahjjqHP4JVH8Eqp33PNv8tXQa/dsrsGPyO2WY3zP5V44+pPrXHa3EEy84XQm6O8ajVhHPpi+o/QdBqDwV3mwGIllQMI8wAGZ+ZgSST9TP49SkjsFe6zLdAUtwvgWVO57AR+r4PvAzbTzqCY/VZOQhu3wQPA3N3ORUchjEfw+/zgC2+BZJGPWUEjZgID98G9gS/Iy+bgR8vAZqarfB9qmvgtaH7zR32vu6GW7YbmUedqf9+U3uPMjO63Pl67jp0NKaeefNEE36m+0YY/+7ZBlWnjaDUTZ3h//0A1Wdg/x4jGPX3s/B/r4frftT4fVyJFEgSERERkQb1ibiHPhH3+PxaWpiZUXMwDA7as2zcyjAX+v3+Ec8f8AC++x9gMHDY+FB3V4nxIbFmKxgT2P4FLPDQshX8zQgi2bOYXLJXusHdqzEynZ6EH3o7Akq3Pm08zq6EAynQ2Qwo1ZuR1ASWoVBVDDwIllPGGjq9zaktXX8JW5uw/tDvPE3DKjaCSPYyb5lErW3wO+37DW8NZSQ1lmUo/PoP8IcUI+hTegojIGiB3jnw696OjKuqY8DAJo/cJw0FbWrH3Qs2TYeZm4ygD4fhkFl2+yB45WP4/X8ZgaGvjgO9mj6mvu/DTebi5Z7O81ez4Q734J6v9xsr1E509nq/8Y2v567iJGxa57otciAMvB+OFBnBIGcPDHcEirz51/8a09rGP2usgVRVDh07wbkqI3A0dpJjaltYO6wj1V4USBIRERERuUIMMINJe1M9TPNwCjbZswBcWOHsdrjjfeAw8IijzlezgdTTTR5XpyD4IQXODmtkVlJvuMF8enI18KRbuRlQKn0S/olrZtKtT8MNQXC0Avhp0zOSvAnoDYf3gyUWAk5Bxm7o/UTT+7v7Ocj4zEuwZijYE812vAa84xhDRiE8YE5zS81p+QwlgK6RgH2aW8t376Jjb6j+G9z6UyMYWAP4Q4tnJN39oBEz7QpghYyPjCmHYLwXk+yBo2LjvP4upeX27c7jlFQvutwD/QZB/9uM1zs/hn4PGYGj/g9BP8zsojPw6Rpjqlpz3P4c8JGxbpFLQOgw/P0FGOCtYQP3m5p8+P4Fp2ymOvcb38bXmHMX1MNY+NqTvhENB408sU+F+9GPoOKEMZ3tuuugWwD8xMyIPHrE+Pe2wMb3f6VSIElERERE5ApiXzPEvtZRzVbIm+0o7+g2FeXvj8N283mP3f8yyu6uogf/TV4YQC96pF6gWcuk/xR++iT87UkoMzfZM41cpq/9CQ5grnH0U7BkGG0ALE/CD2a1izvgb07Tn653mjZX6rZAc4inaVItwNIdVr0Gv5sKoQMh9yMY0owgTuhU6B0FI+xT4oaa2TLhxhS3J6KMzbPfMRaGBgiNBYYbbQa/A7OdpsqlRzlNk4ty9IfbtLsRr8Gkj2FcfbNOLTDjHccYwIc29XB//w6sdmSO9YwzMskOYGzr/Cev3fjE5TwMh1T7ef0lDEl0nO9JHzumHIZOhcNRYI/Fzt7WegG0Iy8DHjLjvloAr6xxvB7ztiML6fmH4JlBZsFEyBxpPO0yEgb+yqgLMGqxmbXUTLc/B53d1i06shJ6vFK3bkP3my/DjDWXMDOVALgbeoB5v4Eeqfh0v/F27tqC+3pLXxbCqMeNYBVAeD/Hmkt9woxg77UyrQ3Az2az2dp7ECIiIiLSsmpqGvtdSHV9dew4Pwq+qwVGc61rv7/dnv4IKgd7+yD2r0b0pL8/i1wzDsP23MZPKzwYBoElbmsqXcH+9b+Qu9sIGnX1b+/RtBXf/l/Q/wgiIiIiItckbx8FGhNgErlKmN9il+uhqN3Xj2prd8Mj19B6P95c9yO4b1h7j+LypIwkERERkauQMpIuJ1fi327dg0lX4jGIiEjj+PaHhP/TyqMQEREREREREZGrhAJJIiIiIiKtSlPFRETk6qEcVRERERHx6meW/6+9hyDtQu+7iMi1x7d7vwJJIiIiIiKtzgb4tfcgmsHTsqpX8vGItCQtO+w73TeuBgokiYiIiIhIE/j64VkfHMWdAi/XrrZ873XvaS1aI0lEREREpE3YnB6uvtjX5oNpQ7Y2elxp2uq8XI4Pkbagn9HWokCSiIiIiEibc3jh1mwAACAASURBVP3A8t+/h/kL4eLFdh3UFa69gyPN/KBasJPg4J0caqGz0bKsZManM3Wjtb0HItJGFDStjwJJIiIiIiLtygZMp6AQEl6BgsL2Hk8LK3ibpcP8WDrMj3Ubq9ppEIWs909mfT4UpSWTktbeJ9lKZvwmMisbrnlm46Y2CuCUML9NAlnt814UpRn7FGlbl3vQqWljUCBJREREROSyMJ2LF6czfyGsTa8/O8maAYsz2m5kzRI1h2k7bIydMbadB9IF/6B2HkJ9oh6mvPxh+rX3ODyyMGbJOJaNtrRQf57fi6K0ZBZnND3YaM2Y57l9RTa5JQN4sH+Tu26iKnImK4AlvroMMiN9pMW2RUREREQuK9PB9hAwEuhUp7QoDbaVwNMrHNusGbBymuP18GqIMLfvBi5Mg28BXoXEBKd+3vXWJpsL0w6abWJJTIj0Ydx5bBk2mArzVdB7NkZG1d+i9EM/9mbZX83lvh1zCAWgin2zAvnyiFkUk8u0FwZ53M9NMyp5fHSAD+MzWEK6cDOBgJHtM+f4DZBaTfbsniw4coLnt/izOf9GFr8Jby8ZyG32hpX7meq+zZOCnQTHVBvPR/ak0Kn+oQ/SiU21V+zAgjfByE7aw/NbAPzZbA8mVe5nav8TZAOwh+CZZpv8UYwJBCODqJgUs7fohQ84Aj31jMGlzNwfzuMKTjf+nR1O+UthLvVd9kHdMSRmjePFKHPs6RB95ETd43Li/F4ARCTEY528hMXEMz3O9/cUjCDUtpIBPL2ibruitQfpMiMJx8iryJm8hIJN5svan/FC1k+uxD/sIAXvAnQhqngWQ4OAimwWh5vXBHDzUscYi9LmYQ3pSsG0MreyAIauiDUysLYnMb7NA1kircTWTJVrx9YNa83+k+37+hr9eU6dNmPXVjZ3KCIiIiJi+vbbb5v9OHDocHsfxjXjqSnTbU9NmW6b/vzLtkMFf/Va73Dqm7b3UrHZbK6PdbdgO2yru73qj9jecyrb8Qy2dQfr1rMdpLZfo83HNuPdL7Ctu+UD247yho6g0vbFi9iyDnmvcTZzrG1tZj2/8x+aa1syP7fuc1/7Ofix7b1b3nR9pBbUO2pr5kZbUFCOLb8iz/Zs0HrbvENVtg3TNto2VHxpmzctz2a12Wz576+3zTtks9kO5diC3v+y3v5sFXm2Z812tf2bbZyf22z2/Tg3/tI2LyjHlu9hjM9mVnkcu6ft9Y3BVpFne9bDPurbv/f9Vdk2TDPPTW1785hqz6dRkv/+es9j9cL4Oa//vfO9foFtXe3Ps+ngx17qF9jW3fKm7aM/VjrqPbPVVnfklbYdzziui8OpbzrqlW+1feS+P1ulbcczTv2KXOGanZEU8HgGtqGFLP9VNM+uNtMIU9eS/R8PMbab5zaFedmO9s9lkPufYwm5sbkjERERERG5ckX97G6enfwUnTp1dCsxvsI6ZzJ8PQIS4+q29R8F2/zBWoyRPeHk5qVGphFAxAjIPAH0r5vFxKvObYaZbQLxH+XD4K27OMkahjaQgeTu3MY4Niza4NgQk2v8GxzCTVmDWXpsDWPnTcD5Y0W3HlF890ogS085ZykB/SeRWE2jRS8Mpx9lMLIn46Og9gv0tvyDU5Sw70gH6GWFHhDdy98oc8kWcmTinPmLlewtl8gOPuHYwWwAK/u2wYI3wxo/QC9u63ED2TF7CD5uZg6ZvI/BKGPhwBaaPlfNqS3+DFlifx3GkNnF7KsEAqk9nwDde3VoVM8RCUmQlkzK5EqeXhGN9wl1RmbR1yPiSfSSwWTN2MuFpeNqrwEAgrpx87ubSSnx1H8Ig+199Q+n56ZirICFQtb7b8ZxVrsQNdfRqucMs5+gQLpwzm0UAQxdEQ+Tl5BS5muGn8jlq2WmtnWLZMpv5rL20gWib0wg4ffLyf5zGmPHdPFQOY/spdHMmV3I26kw+BeDFUQSERERkWvas89M4t4hg9y2+rm8GroCLGmQkuaYnuZcNhQj2JSyCaI8BJQArGVACFABmdOc6uVDyp6WOx6fWNeSswjuWm1jiAVjUW57FMcygcd3TADrWtYN8+O7vk4Bpag5TNsxx1zEe7Bj2lv+KlIeKXPdh8/T8tz5033kUU4W1MDwPnQ/XsYh/kl4DzPkEDiQZeUDPbasO/0LoBUWy456mPJyzG97K3ZMRfM6hitHUVoy24glcUVD710AQ1ckYUlLJiXN03tdyO5pXRlc7RZkCopmenW0MV3NP5lvRw3wHLCqqORC7Zg2c6L256mKnMnpjTiihgNeIleSlltsu0NHuhDIQzFTAFi+LIMyD9Uu7d7K1mlxjLipxfYsIiIiInJFcw0i+eEeRLKLSIDhQMpkz6GJoStg+KtQXeGhECh5F+502pXFDDblLGrCoJ1ZQrjpyET2FzS2YRT+FoAq9n38uod+J/D4jlyCjpTVyfEgag7TVq/hpmNmWf9JJFYnuT6anPlhoUffS5zaC91/HkYPrCzedqnBVrf93AIziz1885nRX/ZfjHftzMb95tpBvsk+Xk+qVdTDlOf3JPpIDWfqHYOZxeSlzPBPTvrwTXIGf7qPrGaf/T2v3M/i1A50D6y3UQOMxalzQ+Kd3rtC3rljKulVZ0mf3IfJfzzL2T9OJeQ9x7e9RSQkMZzNpEzOdr0u8os58Wq4azaSs6BoplfH0nPTOY/XkzXvKN86tb85xDy4/B2O9ZUaVMh6/yVUz0hq9LpPIperFl9sO/DBscxkOQu3rWXXsSlM6e1ceoHs1XlMeW0urGvpPYuIiIiIXOk8B5CcRSSAJQMyM2B6HFABi8OpXQSYUfC0U8bSt9MgxZzC1nO7I1Np8KvGdLhtQNRS8PhXYJ8NYuTqNax70o+l5hb7Ytuu09c2sHSRvWwCkTF+7B32OnsZy10z5sIpo5b7lLebZlSai3C7L9Bt9OVlRY1m6d6rAykz/8Hml6DffTeQnQrRbzbQKHAgby/cRGSwI1vFPu2t37ie0N9YNDt6YTgLRh41a7guWE1wussC2beN7kNicDHBqcU4L7btunC3sZ/bGhgDUQ9T6FLmvAh2GOMXHiWyfzrPQ22G05mNm4icaQ+iGeM3+rMw5s2eTO2fTrDTfsYEAj4Ho1wVpRlZO00JuEQkJGHJmEdmRpXZvoqcReeJmls3mGjNmMfKaRdqX9+8NN4p2FTGNv9ktgGMGsDTZlZUxIQB5IYvMa6lVwcQNeq8D6OqImfyZtBC23KV8bPZbE3/zjdnp9cS9ytY+MlYSv6jI/+WCpH/WUDBbKcL99wGnp10njnZU6h6y4/Bv4GxayvJeLzujeJC/nLm/vZ3rMk6QhUhDHpmJnPf+TUPBQBUsfaxQCZ+alb+bS62F7qw9p0E5q7O5khVCNGz55L2mwn0bc60ubM7mTNrFf8D/PLVVUwJb3pX1o3Z9Nh9Kyfn9WL3rD+T+eAvSB99q/cGxat49N2dQG+mzPsNv6ynqoiIiIi7mpqaZvfx1bHjDIjy+rd8aVENB5CawpoBmZgBp0ZpmY8IIu0mfxUpe8IbmZVWyHr/YsKqJ3nPYhKRFpzaVqsDg4fPIQAo/K9s8pxKyrKWw9Q4QhrooWzdRPoOWE6H53ZRZrNh+/5PPP+vNP4tciJrjwMEMOGT8xT8V7TRoHgNCa9l02XycnILC1jzQgDZqROZ+FFhfbvx0cMkrW1eEKk++z/cwPUfltYtCJ/Ep2tf4Zets1sREREREZGrV/9JWtRapJW0QiAJOjw4gucDgKoFbN1tT4MsZMP8QKJ/4WkBbien15IwYS2B/7mQucMD6ADQIYQJv5nLQ1Vr+fXSXRg9diFy0GCz0WBmLvo10aEBdAmIZMJvEpgCFOYUNC9Dt1Xcyvh5Y+vPRhIRERERaQGWuKZkI4lcqyIZr2wkkQa1SiAJBhH9K2M1+7e35RqBn7/uImP4BKIbmMBctm05G4C4X7hFj28PIRKo2lbIEfdG4SGuWU7dAo3XOVVUNeMoGlbKe8M2cL35eM9lccGzrJ9lL8vm96dct4/beBbrxmzuzwKySjxnJYmIiIiIiIiIXEZaKZAEkUMnEgmQupbsc5fY9clCRsQ+ZGQYeXWJsqO7AHh9kB9+fk6Pjv/G7wD+eomGvy+hLZxl/awSCmf8gh92jOWH1d0pfCWb9eZy/9aNB3mK7pzcMZYfdtwBWXVHbRkdzecxQEwYP7wQWqdcRERERERERORy0mqBJH42lplDAZazZvVCNmybSfRA35vPzbNhs3l6zGFQw81bn/U4mUdu4WX7FDXLAF6OuURm3lngLLt3X2L0g72wABDKMzPqD6GJiIiIiIiIiFzurmvR3v4F39e+COGhx6MhJ5sNv0rgoaXf0PBSZx0I6fMQsIvKsxeABtZTak/l/2Qjf2fjsA2u22OqATh+BCKfcqyDZOnRqS1HJyIiIiLSDI35Fjl9w5uIyLWk5TKSLn3PhcwCypxmcIX8YizG96pFM+HBhr6rzWzz4ASigYWrsz0slF3Fhmlvk3c5zG0LvoHR3MLnO8YaU9vsjxdCAX969YXCk2drq1tPXmy/sYqIiIiIiIiItIAWCSRdulBG9tKF7OJ3vP7bDRw5Z0Z6eo9g4qPAM1OI6+1U/9wudmUbz3O37eLIP5w66z2FBWsnEPDpRCa+uJbCc/ZGVWT/ZgrZQycwyJwlduFspfGkuMQlgMXpMjMIVUZZa622benFmL5/5/2N9mCRsfD2uI1ngVt58MEObFz0JfsB+1Q3EREREREREZErWbMDSVXr4ujY9Q5GpBYCkPduHGG3duTt/QABRD8+hZljHjInqVWx9jE/Ot76b7y+32y/eiJhN/kRt84R8Ql5fA2FuxYQVbWAuFv98PO7g8EzlnPpsTX896Mhtf10jV1oNPj0We7oGMfa08Z4/LpPZDkAy5kY6GeOpaXdyvh5YUQu+rP5zWwlJMWEkW6umWQspP137h+2geuH/ZnjvW/x2MvAIbcY39o26yDW1himiIiIiFzR1vtDkfm8KA3W53uvl2J/pLXZ8ERE5BrjZ7PZNKnZm7M7mTOrgsfXTuKn7TKAEpZP+CPB837DL29tuLaIiIiIXU1NTbP7+OrYcQZERbTAaKR+VeRMDoS5MDTItcSaAZnA9DjjdVEalDwA4/vX32POZKieYdargMXhMLgaWufd1McJEZFrSet9a5uIiIiIiDSgkPX+S/h6RN0gEsDuaTA4zm3jCVhsZh4tzvDca/Um8Lf3FwTTt8M2p8wmERGRplIgqUE7SZ4wieXFbbzb4lU8OuE9Pmvj3YqIiIhIWylkvf9m2J5Um3HkIh9OvFo3i+jENCO7KLEYmOYUHKpwBJguLHULTPU36uf6Q05FaxyLiIhcKzS1TUREROQqpKltl7mKbBaHH+XO4llmwMevTpWcydSZ7uY+tW29P4R5mLKWMxm+HkHdAJU5za3L9oanx/lOHydERK4lykgSEREREWlrQdFMr76P6vBkz4tn50NBmOfpbr6IGAHflrltNINIdxa3ZBBJRESuNQokiYiIiIi0i0jGV8fCI8l11joq2gM9H2h6z0Vb3drnQ4q54HZTg1MiIiKgQJKIiIiISDuKZHx1PHdudVq7qAJyS+DBxmQNOa2PlOLv9I1t9rJHYHirfWubiIhcS5q9RtLqTza31FhERERExPTkY7HNaq81kq40jjWS3NdBuvxpjSQRkWuJFtsWERERuQopkHSlqbvY9pVDHydERK4lmtomIiIiIiIiIiI+USBJRERERERERER8okCSiIiIiEi7s6EpYiIiciW4rr0HICIiIiIidg0Fk9p7LSUFu0RErnUKJImIiIiIXDEUyBERkfalqW0iIiIiIi3si3157T0EERGRVqFAkoiIiIhIC/vv369i/sLFXLz4fXsPRXxWwvzgdOYXNKaNlcz4dKZutLbWoK4QOg8i1wbjPqlAkoiIiIhIKygoPEzCK3MoKDzc+MYV2SyenI3vH8sLWe+/iiJPRfmrSPFPJsU/mcUZVY0fi8+q2DfLj6XD/Fg67G1KW3FP9bFmzCNlcjbWimwW+88jp6IZnVXuZ2r8fs40umEJ84N3cqgRLQ594C2IZXxwCw5OJ7hJY/HdmY2bjP00OqDWvs5s3NSKQazGv5e+K2S9fzLr86EoLZmUtMKGm1jXsm7WWs61yniq2Dcrjn2tdCrruzZrf/Y+KHFtVFu3ipzJLXEPy2NLI+9P5zbGmfc1P7a0wHXR4D2qcj9T7dd8M3/2WuvaUCBJRERERKSVXLz4PfMXLmZt+qf1ZidZM+a1XpCn/yQSq5N4emmX1um/VgBD5tmYtiOXoFbeU4PCArE0vhEvlo/jxajGtLEwZsk4lo1u/N58Z4yrPL8n0a24F4DbRo+ivHwcm2c3tmVbnIerVRf82/2CaUMers1DH6Qzh4EULuzgpVFXLO14jrqNzmDaDhv3xbRgp/Xcow6lnyA8axzl5eMoL3+Yfi242+Yz7kdabFtEREREpLXVs0Z2UVoy20oG8PSKAKCKnMlLKNhklK30PwjAzUvjmR4XYPx1Pvwg35pta7ebrBnzSJl2AehCVPEshjb44ct1fz23JzG+vw/HU/A2S1953Xwxl/t2zCG0vvrWtax7ciLfmS9vmlHJ46Pt485jy7DBVHgoO7cxjg2LNvi+H2dBgXThnPkB1Epm/H54cxRjAmsHVbttyF82ETnzEgCJWd6CSSXMDy4mZXY45S+FQcFOgmOqAYhe+EBtEOXQB+nEpppNgtONf+1tKvcztf8Jss1i53YAnNzP1BijvE6ZF87786XNmY2bWI+F4pnmOOxjq5eVzPg9PL/FfDmyJ4VLBnIbeD0PUML8+Bq69z3B86kAHViQb57/gp0E772RBUdOmH36s7n2A7N5ns1ejPejgfcPgDLmB+8x2jkfk8s5d9pPve+F2/Hiz2b7U6fjdT4PZzZuYg4WwmeeMMbg5Ry5nAcnlpAu3Izbxnp89aEfG7LA9bqoYt+sQL48YtRxXEtV7Js1Ex6M4stFr7uVQemHfuzNsvc8lrtq9+LaX9B7NkZGgXHN7qLrjAK+NK9PR5kPXK5N6PfSOJYBZzbW1ygASxhU9wyor5LHcROTy7QXBrkcZ8Ww19lbWwZbhqXRdXUGQ8wfgdIP/Sjs7nyf8sL5Xth3DWPnTaCbDyME6pwHg5WTRzrQfZx7ZU/XBcbPcTpEu19LLj/fewieCd5+9ly5/ew7XUtnNjruk9hERERE5Krz7bffNvtx4NDh9j6MK9ZTU6bbnpoy3Tb9+Zdthwr+6rXe4dQ3be+lFtQtKN9q++iZrbaqevdSadvxzAe2HeU2m81WYFt3y5u2j/5YaRQd/Nj2nlv7qj9+4Ch32v+6g/ZXBbZ1t9j7q0fVGtvaoXNtR7xWyLVl1VteafvixbG2L8zBnc0ca1ubWemhnvd+Dqe+aXvvFteH4zg8y39/o21Dhc1mO5RjC3r/S5vN9qVtXlCOLd+lznrbvENOGyrybM9Oy7NZbVW2DdPW257NrPuOWDM3ethet++6qmwbppljMvcdNC3PZq1t7yhzHYu3fRtjdBm/B9bMjbag2rF5blPnPHjow/2Y62770jYvyHHOrJkbzfNuM94Dp+NztHUfj+M81Pf+Gcdk78/53Lm9D4dynM6xs7rvheNYnPpwew+cj8n1vDqfQ9e+m61qjW3tUGxZ5jk6mznWtmR+rs1ms9mOzMfpWqq0ffGivZ7x3F7P+dpybu9+bR6Z79iP0cZelmvLGuq0r6o1trUvrrGdtTXt2rRz+RlpjkNznY7Jnef7iut9yHMd1/Nhczluex/2/TbtHrXeFhTk+mjourBV5NmeDXKUuf7sers/1aP2+qp/nMpIEhERERFpBVE/u5tnJz9Fp04dPZQamUBfj4gnMc6Xv7DbFbLefzMnal93IWqu/XkIg+199Q+n56ZirFDPFK9CSt6FE+8m1/6VG7rg38AIzuVlwIyFvmcGAe5ZR85ZD916RPHdK4EsPWVkDTiE0LXv6+wdVkC1U6YAQERCEhEJjRoAcIlTlXBo7z+JpoYzdIaRN9K9oWZbThAZfMLnDKH6uWYVQAcWvOkoTYw3M1gIY8jsYvZVgvckFSv7tl0ie4s928DeR8OjiF4Ybmb/WBgyvANzTlohqv5jc8m0AqIXNrwf8Ge6ec5u63EDHHcqmt2nNjPittGjWAZACae2+DNkib2S4zz0aOD9i1440OzPn+4jjxobCypIodqRGQYw8kbzibf3ooR9qf5ML697Ps78xUr2lktkBzuuQJymATrOq5FlYz/HPfpeIrZ/Oqe8Zrs1Ut81DDT76TYojpt2l3GOEKqPjaXHY/b7SQA/eXAsOSerIApgLHc9Zr++BjFyxyCgin274a7XBtXZBeRxLAsqsvxYWrttLF1rn88l0p6tY5nA4/PM8TTp2mxhwSHclDWYpcd8zxDqNigO3tnFudET6Fawi+9mTGnwHncuL4Pvjmxgw7CJjo0xxsE35R7V76VxlL/kKfvO+3VBIDCyJ+PNn4fuvbxND3Tlkl3knKkXeCPRqcUEH6lxZNR5oECSiIiIiEgLe/aZSdw7xNOHM7sAhq5IwpKWTEpaLIkJkT71W5S2mROv2utXkTM53XPFikoujOrmwzpBIQyvnkSET3tvutIPB1MRYw8UmdNs7KLmMG3HHGOKyLDBtdNQ7GsuDbEv4n1kLHeZAaWitGS2veu6j4am5XXv1YHikyV0x8L0Xv9gXwEU9+3Miw0NfmRPFvQ9wfPHq6kvLOeLQx84TY2zT83yyNv0Fne+TFWp36njl6BXA5UKdhKb6viwaUzjalv1vX/1LkDuZeqe7++Fq6YEFI0AgRGMC46pb/pkE5SX8V3vh+gGfNVCXTo0cjopTbs2W5xlAo/vmGBMqR3mx3e+TDmzTCCydxxfWSdwbh9EvuBbgN91mq7DZXEe6nHb6FGUj/ZQEDiQZeUDaxf8znaeoulEi22LiIiIiLSw+oNIDhEJSQxns/ENPu6Fm855/Na2m0PMqEH+jtq1jdxZ847ybYMLTkcS9moZuY1c5Ltbjyi+W7S80d/KdlP3EONJwXLH2iXOouYwbfUabjpW5vaNVEZA6b6YDZwvN7ZEJCSRWO36aOgD2m09biD7eAX0CqFfD8heYq1dH6chQ14ax2aK636jVL3+ycnKuluje5k5XwXFTmvwuKksI3vLDfSoN0BkYchweD69MWNyV8K+1A5E/9yHwEht9k8J62szGVqaP91HVrPP/s1YlftZnNqB7oFNfP+igkhMPUqmh/cBvL0XrmM49IEja+m2n1tgZnGTv0Wr30vjKFzYgeKTLfctWqX7XjevrQD8e2/gZJ79es5j/6IN3NSjvoCIa5tzG2c6XZuD6B3zOoUbG3d/aMq12WosE3h8Ry5BR9zvKQVUe3gLQodEcTJvLcd4yKfgWbdBceDlXtiy58H7deGL7OPVDVdyFziQZeXhJG75B6c8FCsjSURERESkHUUkJGHJmEdmRpVj4eygaAa/msw2/2S24VhUO2LCAHLDl5AyDXh1AFGjzjv1VFZbn1EDeHqFkeVkzZjHymkXzDpGW/tfxiMSYinxN/urbRddfwAqag5jZ8SxYZifsVhtbdaC6/S1imGvs9fMBAh9bA2FTwaydBEQs4a7+jq+Q9t1oV9j0d5uUGeBbvquYewLvp/XOgJvJDr1BKeyLBBVTfiWYhhuBBJcpm2lppNiz/Rxat7vpQdYEL+H4HhjygcuU0OM6WWOTJMwxi88SmT/dJ6H2qyYfuN6Qn9zKtrsniwY+U+XIabEpJtBC2P/nhaFzg4+UdvfbaMHGmMKLjZLnRet9i57pmM6XGLWuNqMJq/nISqcBewhMvgE4M+ChR2w7/FMveehsSyMebMnU/unE4z7+Ly/f96F8WJWBcH29wFHRpH398LCmHh/gs33IjErnMRU86c6cCBvL9xEpNNUuYaP1X0KnT+bPUyba5QjEx3TqWJymWZmxIS+kMuxYeZ1hpkt08D74Hxt3jQjl7v6pjnK3Ppr9GLSPnL9GSomOLW4WVlbrov0G+fBERgaxMAZsOFJP74EpwxIIOohbnplMLzn+u0ILveoLD+WYs+OnMBQl3thIxcd91k914WXIKndbaP7kBhsnFNfMhhd3wvjerFnbTrfH/xsNls93yFh59dwlauGD6dDRERE5DJXU1PT7D6+OnacAVGtPelJRNqSMS1tYAus9yRylbGuZd07MLQVgmVXG01tExEREREREZFrk7mW0tIny4hUEMknykiqQxlJIiIicuVTRpKIiIi0BmUkiYiIiIiIiIiIT1o+kLQf/PzA7zHwtL77235mufnI81Cnap1rnbh1LT5KERERERERERFppJYNJJ2GuHq+6fRtP3jdbdtgt2BS1ToInOBaZ8MEBZNERERERERERNpbiwWSqtaBX3fYUE+5PYiUawObDeaar9OcgkTLzSDS2LVGncq1xusNEzxnL7WHv62YxKMTJvHob3Zyplk9lfLesA28VwBYDzJuWDbrrfXVP8tnvzH3vaKkWXsWEREREREREWmsFgkk5b3lyCIa+6jnOrsyzfK1YE9ammIPEh0zN+x3BJsSHjf+DXjcEXAqO+1lAKchzpwGt/a06/Q5eyZT3ltO0+W8TLtrjB8/9Ts+/e3D3NbMfjzyGlS6lV/+dhULn+rdGnsVEREREREREalXy01t+62RQZQQ3oS2xb4FdrwGkpxM7O46fW7DBIh7DAb/xmnjpzDzcpsqZxlA+o5oxlvaeyAiIiIicmUqYX5wOsHBm8isdC059EE6wcHGY36Bc4mVzHh7mVO7gp3Gtvj9ZgZ+CfNrywtZ75/M+nwoSksmJa2w9Q8NY1/r851GnjGPxRm+/3m4vvrWjHmk+CeT4u+6DxERqatFAkmD3gDbG/XXKfvU+DcqxEPhp1AGVJWZrx8FT9UK1JjLDAAAIABJREFUyjxsdGcGtJynzm341DGdbo2ZMbUhs/lZSd5YN2Zz/bANxmPWQVwSiwr2OMo+dBpBbRZSKe89eYqNXOKpJxua6iYiIiIiAlTuZ2pwBUPKw0l0KzqzcROxhFNePo7y8nCIcQSMDn2wh+zhDxhl+Ray++/kEFYyl/yTBfnj2Nz3BOsL4NAHxZA1ijGB9l674B9UdxhFacmNCu648xrsqcgmt2QAD/Zvctf1ssTNIrE6ieGvNqJRRTaL/VdR1DpDEhG5bLX8t7a1s7lDHc9D7NPsfuuYTvfQmFYeQMEeeizqxOc7xvLDjrF83vsUPT4sNQtLee+Vv5P8nlF2svtFkup0EMorq7szmg58vFoZSiIiIiJXL+dsIPdMITOLqDYjqAGBA1lW/jD9POxj3zZYMC7MeFlZQzGXyP6LFShhX6o/00ebv3BW/oNsqtlXAHADPexBo707iSWcF6Pq7tYS0oWbQ2qjS0QkxHPn1iVNCiYVpSWzcmsfxsQF1C1be5AuM6KxgBnASWbltAt8O22JmUk0j5wKRz/27KKUOoGeAtbby3zNpMpf5ehvcrbjj8RB0UzfDtsUTBKRa0ybBZLsQR2PWUVmBlKAPQ3JzFBy5zGbyX0/t9fdNrYNlxTav+/vjJ5xFwPN1wMf687orCr2AxRUkcQtPGD+J2wZfQfJbTc0EREREbmMHPpgD6fix3nMFGo51ZzaYgaFCnYS3P8fRC/sYBRV1lA88ka6Y2QtBS+5kQWzASwMGf5PYoPTiT3SgeJU2PxSmFOfkYyvnsXQICOTZ7pL4CeAoSuSGFy2pFFT3orSktlGLIkrzGCRi0JK3g0hzJ6NFBTN9Ooknl7ahZuXxpNYnUSiOR6AiIQkc1sSidthm9M4vp12jrDqJBKr44kq2dzwNLaKbBYv6sbTZn9PjzjKSufj6j+JxOJu5DoFskRErnbXtefOy+yLbIdD3b87mE6D/Y8znoJEl5ezHD8GG7P+zPWLnLd3YIwVQk5ehL63Ok3b86dXXzje5uMUERERkfZVwr5USElNJ6V2WwcWONXo99I4yltqdwU7CV5yI4XlA2HjJrKdik5t3ETs8T6ULwnj0AcnOAXcNnoU5aONrKh9fW8gNjgdRvakcMlAn75sJiIhCdKSSZlcydMeg0N2VeRMXsLXI+JJ9JCJBGDN2MuFpeOI8PFQrRnzWDntgmPDq45FXG9eOszsJ4CIEV3IPFEF/b1+EsGad5RvN11gpf9Bp/7cKgVFM704m8XhyVRvT2J8K02/ExG5XLRZIOmhMcCnxuLXeY8bU812mQtg12YMDTTWNXodSFsHGY9D1Z9hg1l8+QeSbqVXbxj94C9IH31r3eIeneDIPykD8z/Tao4fadsRioiIiMjlwp/NHqejtew+uo8sJnaJIwh06Pgl6AUEdiZ8SzGxfcMpfykMsHLyCHCf2bRgJ7H0ZMERKwvyx9EjPZ31BQM9TnFz58gwimygppHBZElLJiUtlsQE9/qF7J7WlcHV3oM9LiqyyZwGUcVJRoZS/ipS9niuai27QJcHGu735qXxbllXdfe5OPwod9r3KSJylWuzqW0BjzsWvx7sB35+jm9XS3jcUW/KWuPfDROMOoETjNdj1zrWObqcDRxyCxsXfWlMZcO+8PYe43VUAMn8nfc3njUKC6o8rJEkIiIiIle/MIbMrmbxRu/frNKoNZK8sjBkeAeih4cYmUSV+1mc2oHon1vMMUDifea0tYJint/iz5AogBLmx8Dml0JwWS+pQVXkTE4mNyTeKShUyDt3TCW96iz/P3v3HhdVvT56/OP5/X5pmoqCouINlUQLU1S8htX2kiR4wcQsbf90C6Wl7p0eyjJCS2NLuyQzsa27cGdiXhAME90lbK+IYFKEIQIqCApesCg753c4f6xZa9ZcGe5envfr5UtnXb7rO2vWzDjPPM8zsbM9mL39Cle2z8X9XWOJWL/FYYwn3rQHEUBaJgWvednMRrqRZ60WsA2unQxzWWfr13oyyFplvWG4nuswDwhOst0DKS2GCK9ShutK64QQ4m7XoKVtr1cCugASKL+mpg8QdXgGLmEMIIESRNqhCzbd1rwf4/y8RLqOVfOomvHZ5scMPZM8eXXzTYJmGkrf+rQlvI+VMVy7M7nPBZ6fuZP8d6fwqgPf+gghhBBCiDvLwEVeeLkdxG2+YUE1SscsZRHllmkskxsUy0vqeJOG4hdiPE5oQpD262sDF3lx2C0WNwCasTZtIgMpYVdIDl3SJjIQ6DL+GAPU0rZF9mdxOlIpU7ObwWNDv8VhuO5Yw64dxYb9i9m/7hreb1vPanIN9KWbczwRq+IBJ7wzFzKmkx/DXwtnr3M4e3HCe4O7SfPVG8HRRAQr/+62z5hBdDoynL2rDButCidCN97kDWv41DmcvRj3mz4IJRNpHIwvm+Vw2Z0QQtwNmlRWVlY29iTuNN9vmsUXbu/xzjgr5WsN4PK+5cwvnMqXs/tWvbEQQggh7knl5eW1HuPM2XwGe8tHZNFI0mKIOOhlpdxNCCFEY2rUZttCCCGEEEIIYdWgWYRK42ohhLjtNFiPpLvNT5+9wtNvHqhlzXp1XeHrN2cx/7OzVW8qhBBCCCGEEEIIUcektE0IIYQQ4i4kpW1CCCGEqA+SkSSEEEIIIYQQQgghHCKBJCGEEEIIIYQQQgjhEAkkCSGEEEIIIYQQQgiHSCBJCCGEEEIIIYQQQjhEAklCCCGEEELUsUOHjzb2FIQQQoh6IYEkIYQQQggh6tjf/xFD1Efrqaj4tbGnIoQQQtQpCSQJIYQQQghRD9IzvmPxq6+TnvFd9XYsSmT97ERKrK1LiyHCOVz7szWtLmZatdORxmOV7FjD+h3FVrYqZv9s49wibN0HIYQQdzQJJAkhhBBCCFFPKip+Jeqj9WyJ/dJudpLt4IyZQbMILQtT/mQO5vq4GE4bVp2ODHdsjOrOoSiRI1mDeXxQVSN0YMymMG1+4/ueYJc2nhJkaqjAlxBCiPojgSQhhBBCCCHqW6XtVacjw/n0Kw8mB3awWK5k9xiDRSaKSrkx0QVXw81+i0Po+VV0jYJJtuYAcHrLCZzm+WnHUaSzVc08isywMmIxJVng1E0drwNjNgXAOAkmCSHEnU4CSUIIIYQQQtST+++/nwXzX2DG9Kdp3vx+i/WnI8PZSwChm8wCNbtPkOseomT2vJbHEV1wqGTHGiWAM+4a3m/r91MygobnRdsI7lhncw4AZJC1yp2+ZtlIN4JzcM4MI7QsgG6rUthfZNxeCTBFk943gOkm+w1gelkIzutqlzklhBCicUkgSQghhBBCiHrg3f8R3ot4B+8Bj1hZq5R6HXEPIXTxAMvVEwdr2UGu7k4mq1wDFxpK2zzI9VqjC+Io+i0OYzzxDvQoqmIOQMmOFK5vGEs/s+WtNwQxphNAR5wn6tcMYLpa2ka8lYBWB8ZsUjKnqhPsEkIIcfuQQJIQQgghhBB17E//PYsFL71gNQtJUbPsIROdvOk58TplZoEk+xlG1ZlDBt8Gt2G4lXI3R/R7zB2yLpkFs4rZPzua3KdsB6+EEELc3iSQJIQQQgghRB0bOWKYQ9s5nj1kRVE6ubv1ZWfWM4zS3/Vg9vYrXNk+F/fZX3Kl+Etm93iX9KrmkJZJwWteFtlIjjp9MI/WT3nrglkZbHWOpmxeGC/UMDglhBCi8f1nY09ACCGEEEKIe1m/xWG47ljDrh3FVQZYSnas4dPg64Zb7owvm6UFek5HKpk+NQnSWM6hmP3rruH9dnWyhjLY6hxPgeFW6w36uRSzf3Y87Asz65skhBDiTtOksrLSzm9ICCGEEEKIO1F5eXmtxzhzNp/B3jXNRxF3tLQYIg56SfmZEEIICxJIEkIIIYS4C0kgSQghhBD1QXokCSGEEEIIIYQQQgiHSCBJCCGEEEIIIYQQQjik1s22N2+Lr4t5CCGEEEIInZnTAhp7CkIIIYQQFurkV9ue/MOouhhG1JOv/5XMzH4TG3sa4h63+fRu+vZ0a+xpCGFXVm4hfa9/1djTEIIsp6caewpCCCGEEFZJaZsQQgghhBBCCCGEcIgEkoQQQgghhKhjhw4fbewpCCGEEPVCAklCCCGEEELUsb//I4aoj9ZTUfFrY09FOCyLKLdYotKrs08Ju0JimRtXUl+TukPIeRDi3qC8TkogSQghhBBCiHqQnvEdi199nfSM76q/c1Ei62cn4vjH8gy2Osdw2tqqtBginMOJcA5n/Y7i6s/FYcUcXtiEDWObsGHsO2TX45HsKdmxhojZiZQUJbLeeQ37i2ox2KVjzA05xuVq75hFlNsBTlZjj5Mf2ApiKR/c3NxicavRXBx3OW63cpxqB9Qa1+W43fUYxKr+Y+m4DLY6h7M1DU5HhhMRmVH1LiVb+GLhFkrrZT7FHF4YyOF6OpX2npvatfdBlulO2rbF7J9dF69hR9lTzden0rhAw+taE/bUwfOiyteoS8eYqz7na3nt1ddzQwJJQgghhBBC1JOKil+J+mg9W2K/tJudVLJjTf0FeQbNIrQsjD9ucKqf8TUdGLGmkuCkI3Sq5yNVqW9HXKu/EwsKg1jgXZ19XJkcHcQnk6p/NMcp8ypM64ZfPR4FoP2kiRQWBhG/pLp7NsR5uFs54dzoT5gGZOW5efKDWF5nKBkfNbOxUxtcG/EcuUzaQXBSJb7+dTiondeok7EFeCUEUVgYRGHhaAbW4WFrT3k9qpNfbRNCCCGEEELYUWl71enIcPZmDeaPmzoAxeyfHU36bmXdp84nAGi9IYQXAjso3857neCGYV9tuUHJjjVEBF8HnPDOXMiYKj98mR6v274wpg9y4P6kv8OGV98w3Hgb36TX8bS3fckWvpj5LDcNN1vOu8Qzk9R5H2XP2OEUWVlXGhfIznU7HT+OXqeOOFFq+ABawq6QY/DWRCZ31CalLRtxfDcD5v8GQGiCrWBSFlFumUQs8aJwUV9IP4CbfxkAfh89pgVRTn4QS8Bqwy5uscrf6j6XjjF3UAGJhtX6/QA4f4y5/sp6i3U26I/nyD6X43azFVcy5xvmoc7NrhJ2hRzkpT2GmxO6kRE9lPZg8zxAFlEh5XTpU8BLqwGasTbNcP7TD+CW8gBrfywwjOlMvPaB2XCeDaMoj0cVjx8AeUS5HVT2098nk3OuO47dx8Ls/uJMvPpP3f3Vn4fLcbt5HVe85hcoc7BxjkzOg46ruxOtMVtox5kPm7AzAUyfF8UcXtiRH35UtjE+l4o5vHA+PO7ND+veMFsH2R82ISVBHXkKD2lHMR2v07uVTPAG5Tn7DW3mpfOD4flpXOcAk+cmDFwUxCfA5Th7O3XAtS+UdetgbyOr88b/CMEvDzO5n0Vj3yBFWwd7xkbSZvMORhgugewPm5DRRf86ZYP+tbDP50xZMwMXB2YIWJwHRQnnf2xGlyDzja09L1Cu41jwM38umVzfB3GbD7auPVNm177uuXQ5zvg6KYEkIYQQQggh6sn999/P3NnP4z3gEavrT0eGs5cAQjcNMCzpwJhNYYwpSmT9GzB5k5/pt9ad/HihTM1LKWb/7Fj2D1MDRnnkEkJoWQelnO2NRPqZ729x/GjK5oURugmUMps17K8qAFWyhS9eBd+kSseDOq4zeCZphjbvwwvnc3iY8qGtNC6Sm/MuEWzxge0ox9Z545u0w+I4pyPD2bvKdJkaBHMNXEioYdn0MvW8utK1D5wHQxCjE4WL4MKeFoyINmTiTFKCMoet32l2hWSS+dFjFKrBBu/RFBaqAQSjgYuCKFyURZRbESPMswk6DuWTwqG6MY+xa4jxg13EXsgoDOITsohyM11nzeW43azv/hiFha6oHwCjuladVRUx/2fiC4P4RN0nvW8V+ygZR5N1x309rkQJvNg4DwDsKSBxvDK/y3G7GRCbxWQ1wLO6BNKCKIzWjwe7QjIhIYhCb1A+PO9mV9pEu48fQOL8EvzSgijsmEWUWw67gvoyuWMWUYN+5oVCJVBB+gHcQo4pAR47j8XJDw4q8452NczBEOa8dIy50Q+QUThaCx4N+CBL+6CdOF85ViHKtbQ1fagSBIv+hbVpQVYeywHGazRwIS/Yf9iMfnyWa89XEvyyIdj64VE8Xx5G9ocdOf/4JYLXqMGjjuzpqgZ4dvLDhcUEJ1WiBII2kj3pdVziAknhCMFJw9ACTgbZH3ZUjqMFjwI5rAVb3uA8lwhO2qG8JqzcQqn3DIqq/dysQic/XlBjcIvD6OfIPukb+aHXEYLXDDNZ7PlyJZ4vK0GwXmZB6aHzYP/RYkZM6gAc5WzC2wxIqiKIVLKFLz5zZ0pSJS6oj4U7wS8Pq8FrlFkQek8sL6EGOG0/LyYDrC7gQoLyXDr5QSzr40r4ZJJyfSvPy6GOZwumZ/JSHy8Koy2Dy/rXSQkkCSGEEEIIUQ+8+z/Cn2Y/T/Pm91tZq2QC5T4VQmigI9+wqzLY6hxPgXbbCe+31X+7M1wda5AX3XZnUgJ2AkkZZK2CglXh2rfc4IRzFTMoPboD5n3keBAJMM860mc9uHT15uarHdlwQckaMHKnTZ83SBmbTpkuUwCg3+Iw+i2u1gSA37hwCU6m/IIf5VymFUx4gC5V7bangAFuBQ5nCNlnmlUAzVj7lnFtaIghg4W+jFiSyeFLYDtJpYTDe38jcY+abaCOUfUs/D7yMgS4XBkxvhmvny8Bb/v3zeRDLuD3UdXHAWdeMJyz9l1bQL5u1RIPLbDSftJEJdBDFhf2OGvBIf156FrF4+f30VDDeM50mZCjLEwvIoIyY2YYwIQHDP+w9VhkcXi1My8UWp6Py8dLSNzzG4luxmcgujJA43lVAorqOe7a5zcCBsVywWa2WzX1+ZyhhnFchgXS8ts8SnGn7OwUuk5TX0860PvxKew/XwzeAFN4aJr6/BrGBDVw9C08tHSYxSGUYAoUJTRhg7ZsCm20f7/NADX46zqDZ9YY5lOj52Ydc3OnZcJwNpx1PEPIZVggrPyG0kkzcEn/hpvz5lT5Gld6dAc3f9zJzrHPGhf6K3e+Jq9RShDaWvad7ecFHYEJ3ZhuuB66dLdVHmhKn11kkqnX8QH8Vmfi9mO5MaPOijs/kHTqfXzmbjZZNOLN/bzvX9VboLhn/eCM+5LWJose/3MBm8b8TzUGacZKv058wg12JJZh7f3gyv4O+LzfnLmrz7H0ISsbCFH2DStfWI/Ws2/AC/x96RMoHSx+IubpN4jHn5VfzuRBi9tC1M7106f4U6L1Vp3efr4s7XdfA89IiLvLn/57FiNHWPtwplIyj1wjw4mIDCB0sWPfzp+OjKfgNXV7JSPJqqJLXJ/o4kCfIHfGl81y7Fv+Wsj+cDhF/mqgyDTrAe/XCU56XSkRGTtcK0NRey6NUJt4/ziFhwwBJXvf9tvSpXszMs9n0QVXXuj+M4fTIbNPKxZUNfkJ3Vjbp4CX8suwF5ZzxMkPdKVxammWVbbKW8w5Uqpi34X836B7FRulHyBgtfHDptXso3pm7/Gz24DcRume44+FqZoEFJUAgRKMc/O3Vz5ZA4V53Oz1BC7AmToa0qia5aTU7LlZ59QMyJItfDG2CTcdKTlzncGAXoGcKZlB6WEY8LJjAX7TMl2j2+I82KFmF1lQM/UMDb8T9SWaOnd0s+3MKG+LIBLA4eVj8Imy+psV4h6XvqmHRRAJ4Nv3u+G+ybHorRB14ydi9EEkgIz1/GnlN1wH4EFmfbmN7RI0Eo0gPTGFmIuNPQsh7mz2g0hG/RaHMZ545Rd8zFfuLrX6q22t3Q1Rg7QkrbeRuZKjOdyosuH0APq+lseRajb5dunqzc11G6v9q2wtu7gr/0jfaOxdouf9OsGbP6fl2TyzX6RSAkq+/ju5Vqgs6bc4jNAy0z9VfUBr37UFiflF0N2dgV0hMbpE649TlRGLgogn0/IXpez6hfOXLJf6dTd84Z2eqevBY+ZSHol7WtDVboDIlRHj4aXY6szJXBaHVzfDb4gDgREt+yeLrVomQ11zpsuEMg6r/0G6dIz1q5vRpWMNHz/vToSuzmGXlccBbD0WpnM4+YExa6n9EFeYn1njX9EauCiIjI+akXm+7n5FK/vwG4bnVgece+3k/FH1+XyUY+t20rKrvYCI6T6lcfN1z81h9PJ/g4y46r0+1OS5WW9cZ/BM0hE6/Wj+mpJOmZWHwHOEN+ePbuEsTzgUPHMZFgg2Xgvr9jzYfl44IjG/rOqNzHUcyieFXoTu+ZkLVlbfuRlJp95nzmaAkbzxVRQBhhBZWcICxi8/BJv/Tvx0dXkZ8QvH8PYR4+7GrCV13UjeeNOdt5dv1q1Ht99MNp74M17qAJfj+PNTy7UaatMsKMvjPftJOgv718eJEA77wZnA7QAVvBtTTJAhJK1mDrHdidgA43JKWzJ7Vju+VfefWkTebDtvmvrtB11hx6P1dD/E3SH7uNK0MeBtts98EC0DKeM4J8ue4A/O9jOQfto8jaXxA3hx/Wv8wVm/DAJWbGOWJxYZT97zNrD0cSXf6fq3q/jTugy8A/whPoF0TMcS9w7z7CM1Uyk+5wazOreGm0Ws/CiL9B7dCKCA+HPGfX769gBLj6t7uvDi/P78oaXhprZfX15sl8XHx82Pd4OYd08Ym5eqevTl79M64QRm43dj5aseElgVd6V+i8Nw3bGGXTuKjY2zO/kx/LVw9jqHsxdjU+1+MwZzxCuaiGDgtcF4T7ymGylP256Jg/mjoe9SyY41fBp83bCNsq/6zXi/xQFkORvG0/az31cJ79eZMi+QnWObKM1qtawF0/K1orFvkGLIBPCc9jkZMzuyYR3g/zkP9TF+lWLa6Fdp2usCFg266fM5U152/Lxa6PgAfqsLuJDgCt5leO3JhPHKG59J2dbqWCLUTB/d7gMXPcbakIO4hSglH5iUhijlZcZMk75M/yiHAYOUPidqVszAoG4wyFCKtqQbayf8YjLFCP9YQ9BCOb61ptCJbgXaeO0nDVXm5JZpWKtvWm1b4nxjOVxogrF3j83z4O3FWg4ywK0AcGbtR81Qj3jZ7nmoLlcmv9WNuYNiccN8frYfP9v6siChCDf1ccCYUWT7sXBlcogzbobHIjTBi9DVhqu641De+Wg3A3SlclXfV/MSOmfirZTNVcuPzxrLqfyPaP3FPF8+wtmxhucZhmyZKh4H/XOz5bwjPNQn0rjObLxqN5N2kOk1lInb6sxaZW2ZNulXzoMxMDSMofNg58wm/AC6DEjA+wlavjoc3jX9dQST16iEJmxAzY6cwRiT18JqNh13mJ3nhY0gqar9JA9C3ZRz6kgGo+ljoTxf1KxN/etDk8rKSju/IVG1zdviefIPo2ozRI1kRnkzZ7P1AE1mlDff+BqXq9uaUgNQlkEfdf2I4Yc4rF8+81NSF/SzCCKp1LnYP17172ttff2vZGb2m9jwB77NpG/qQeB2rJaapW/qwddDdMvNg0iqQVdIXX6TdhalbeptS1Lapth8ejd9e7pVveG9Qhfk0QI/JqoobcvezNRlCbrgkNl687I5A/VYaiBJY1JWd+/Kyi2k7/WvGnsaDUINGNkKJGnL1YCQtoUSMOqSpg/yGAU8N5pZnbGyn+n+f2hpP5B0+Vsr4+uCTHe7LKenmDktoFZjlJeX13oeZ87mM9i7vouehBANqdrNd4W4V5Rs4YuVMKYegmV3mzs0I6mMvFyAmTxhJcvHa0G6MXPIcDtVV/ysBHoOkVcE+mI/NatIXX+YN9l7YhLOah+m3HOU0Q+Of8Nh9EGs06wZ/Ec+/0ccz61RCw0bL3AkrPkPcvIBbvCklaCO9+xzJn2O0uOVIJKxd9J/EPtmN15Na8cnP9y0CAxd2e+kBJG0QJO6fT3dHXHnc/ZmyABIz4D4ZdMMH6ar0f/IcwgBJBB/NJ3rjz+Bk5bhNIQHgeunj5sFqQyBpp3fELD0CeM4EkC656UnpjDVvDagR1/mWfRI0mUc3Sxi5XEwyRK6mMPUfxYQf6SIAJNgj7rf7/xrWwofnyul8AbQsjWzXh3NLDAJOgUM74QTN4g/jkngSAlwZRF/sZMSqBJCCCGEqAta9qOSXSlBpKrdoYEkVR55l8GryvI1hVb2ZtVIHh+ibNvJfSRwiBGjH1V+taKTOyNAy0AqylPG+HyuN5/rhziSRxHg5TsTNm/m7ae8UX5Ew6wsTjSi/yKnFLxdACvBHiVw9F98vR3gBi9pDbj/h6CgG7ya1pqzRf8BZoGkCxeaAzA36CbtDNs/8WgFpDWv5/sj7lxO/GHpNroYytEUCSx9+qKDJWYPMjQA4uOVUrguJxKAAbzop4ShLl9Uso2MQSqDjEIuY4yhew/zliCSsHQuiz9924Ltj+t6yvVoz0BD2dr1vMukA95+3YyBz87deLFHAR+f+4XLYLyutP3uY6CnC5wza/CtCyJ5+/kaspl+4aI6j3dNe39cvPo7dJZG4EIIUVPGX0gTQgDG5tzCYXdos21n3HsCGLKKqpAZ5Y3PYG/+2SWK1BPpbJxZX/NSAlv0/zOpJ9LZ++ZIw/LNzBnszZpT9XVcUbX/waM7QHNyq+xt93/oeZt00xd3vwdnbmP7l9vY/uXbKEUsGRw/fb2KvQz7DvY3bP8Nx+KBAUMYWGUA6iIXatBvT9y9vP182f7qaOOf+X2VDM3jl/nJxj5ObVvU0dFvEKOWvw0Z7NAvxaWX/VpHxxZCCCGEEDVxx2YkqVk/n89dgPtXUQS0dyZgTToBmGceneabzWAsg1PL4mpOzViqqoG2s38Uqf6AoTTu85TTLOwvfQYai/eQG7C9NZ8s6UDPmGKCXP6HoOXnCELXcBvQgk5prVm7/7qxtC1W+Wa+V6f/Af7LZOwuXSqA5nwS25K5hh5Kn7wv2UjCNq3Ztdbj6EEC5g0gXt+3qCpqeds6pReSPruofecBQIaN/kvgWKhKCBtat8AbSE8s4KfiYraYAAAgAElEQVR+amlbAR+fA3q0sPiJWOt+51/bDD2SevTl7/rsp5Yt6Ayk30M9kYQQQggh7hR3bCCJ/n9m48zNzNl8SFdCpqeWqhl+I5TNzBls0QG7RpyHPMEIDlmWts38lNQFbjaad8OzvhJEalQPlbFjamsCtzfn1Vk9eNVigwrGDVBK2bwDrvD49nZ8+3433N/XbTLoCnOt9FhqN+Y6c99vzidp7fDxa1dPd0DcTZz6DcGbDNLXBTN1nX7NAIb0cwIuOzCKPvik7mc6vkVpm/YrcUIorPZIAhjS3na/rpadmDoki/TjBSx9t8BkldLjyAE3Szl+zvBvkxI2pe/S0CEQf9y8tM3sl+GEEEIIIUSDu0NL2xReC9JJ/cSyTm3Em/tJPaE2uu7HQv02w99k71dvMgL4POV0zQ7cfhLvG8YwGXdBP8CZgDX7eWO45ZzsZS+JhuE9+xx5q29YLH/8zwXkJRYTpHZWc7nJppgrPK7faGoRecvVHkjmfmOpyfY3ePfPFXU3cXH3cX6CpetfwPTXQQc42B/JSAkYYVnWZm38AS/wdwkiCUcMGWzaH8mKBx8fzcoh+iUuvDh/dJ01wrYcHwKekyCSEEIIIURja1JZWVlZmwE2b4vnyT+Mqqv5iHrw9b+SmdlvYmNPQ9zjNp/eTd+ebo09DSHsysotpO/1rxp7GkKQ5fQUM6cF1GqM8vLyWs/jzNl8BntLRrUQQgghjO7ojCQhhBBCCCGEKosot1jc3Haz65LpmpMfxOLmpvyJStevKWFXiLpOt1/6AWVZyDFDsXUWUdr6DLY6h7M1DU5HhhMRWY3+frVwOlI5pjbzHWtYv6PY4f3tbV+yYw0RzuFEOJseQwghhCUJJAkhhBBCCHGnu3SMuW5FjCj0ItRs1eW43QTgRWFhEIWFXuBvDBid/OAgieMfU9aluZI46AAnKWFX9C+sTQsivk8BW9Ph5AeZkDCRyR3VUZ1w7mQ5jdOR4dUK7pizGewpSuRI1mAer6df1nUNXEhoWRjjX6vGTkWJrHeOoYbNMoQQ4o515zbbFkIIIYQQ4o5Wwq6Qg7y0R7kVmhDEAl1zu5MfxBLwYzcyoodW/WuIHYfySSFAFofNjnF4L6x9q69y81I5mfxG5vESJk8q4/BqZ14odDWs+5lEyvBKhy60oKsaNEo5oASiTBv7AeDq7kRrtOgS/RaHUDI7mvWE8EJgBwfPg+J0ZDh7swbzx02W+53ecgKneWG4ghLA8TqB0vUymohgACe8MxcyppNhnFXqnu6ML5uFsUAzna3OJygAeC2A0MUDqp5YWgwR4/KUf08czB83+Snz6OTHC/tiiHCOAZNjCCHE3U0ykoQQQgghhGgEJz84yIWQIKuZQnWnjAt7DEGh9AO4DfoZv4+aKasulZM54QG6oGQtuUU/wNolAK6MGP8LAW6xBPzYjMzVEL+or27MAUwvU4I2roELzQJGHRizKYzhedHVKnk7HRnOXgIIVYM0JjLIWuVOXzUbqZMfL5SF8ccNTrTeEEJoWRihhvkA9FscZlgWRug+2Kubx43gUvqWhRFaFoJ3VnzVZWxFiaxf58IfDeP98akcPtXfr0GzCM104YjzGvYXOXx3hRDijiaBJCGEEEIIIRpcFodXQ4S/2p8okwizLQYuCqLQkWwkR6QfwC36ATIKR5v+8jBwIW43A/I9KIweSlfDsvaTJlJYGER8n9/wWgIBJv2SqtZvcRjjiSdidiIldrcsZv/scI64h9jMDirZkcL1DWMdzvjR9zvSMokMWmvjdKDfU05cL7BfhldyNIcbu0/wqWG8T4OvW27UyY8XMj3I9ZL+SkKIe4OUtgkhhBBCCNEonIkvHM3Aej5GlwmZBEQbS+RO5v8G3YGOrfDak0lAHy8KF/UFSjj/I+Br2DX9AAF0Y+2PJaxNC6JrbCxb04ealN/ZYswwqqp0TMlgco0MJyLSWqlZBt8Gt2F4mYNlckWJ7AoG78wwJUMpLYaIg9Y3Lcm7jtNjVY/bekMVZXpFiaz3yqGnekwhhLjLSUaSEEIIIYQQDa4vI5aUsT7Odr7OyQ+qlwVknSsjxjfDb7y7ktl06RjrVzfDb4irYQ4Q6msoW0vP5KU9zozwBsgiyh/iF7mDvl9SlaxlGGWwssdcYouvEDvbg9nbr3Bl+1zc3zWWiNnMYErLpOA1L5vZSDfyrNUCtsG1k2Eu6/KsrFfmlLXKesNwPddhHhCcZLuhdloMEV6lDNeV1gkhxN1OMpKEEEIIIYRoBAMXeeHldhC3+YYFExxsrG1VFlH68rhBsbykjjdpKH4hxuOEJgRpv742cJEXh91icQOgGWvTJjKQEnaF5NAlbSIDgS7jjzHALVaZ3yL7szgdGU3uU9VvtA1KMMl1xxp27Sg27F/M/nXX8H7belaTa6Av3ZzjiVgVj7HZth/DXwtnr3M4e3HCe4M76GJJN4LV5tzQbZ8xg8ikQfeqcCJ0403esIZPncPZi3G/6YNQMpHGYdbMWwgh7n5NKisrK2szwOZt8XU1FyGEEEIIYTBzWkCt9i8vL6/1HM6czWewt3xEFo0kLYaIg16O/bKaEEKIBlMnGUnTJo2vi2FEPdkWt1ceI9Ho5DoUdwK5TsXtYlvc3qo3aiAn0m0W9QhRv/5Xf554Qq5BIYS43UhpmxBCCCGEsKn3gz0b/JitHmjR4McUQog7RfnPvzT2FMQ9TpptCyGEEEIIIYQQQgiHSCBJCCGEEEIIIYQQQjhEAklCCCGEEEIIIYQQwiESSBJCCCGEEEIIIYQQDpFAkhBCCCGEEEIIIYRwiPxqmxCi0ZXfrKjX8Vu1bF6v44t7g1ynQgghhBBCSEaSEOI20c65db38EaIuyXUqxO3lypkT7F8eWOtxKsqK2B7sVQczEneaDWObNPgxP/fbxC9XfuGXK78Q4RzOlR9KGnwOomFd+aGEvQviba6LcA7X/vxy5ZcGnl3N5Z7LJ3HfAQAi3ovi2rXrvPTnUKvbjRoboP25du26xTajxgaQmpZu81ipaena/p99Hmuy7qU/h9od+3b201cf89NXH9fL2L9evcTeRT4AXD17kkN/nQHAxeMJbJ3yQK3GbrhAUsYhWi1Ox/xlsiQhiVYTEgx/DpFqsraULxcn6NZb28a43eoMexPIYfWEBFqty7FYU5KQZHVuQoi7UOFWjjW9jxRbf1Yeq/HQ51fa2/8Yp5rex6nj1d9W3Iusvf9V9V5Yc6nrrL8/CiEa1v7lgVw5c6LRx7gdNMa5aOigUot2LQgtC6PdQ64Netx7RV08nnUVrK5KaFkYoWVhjI8KIGXFv+r9eHWl7OpVenv0IvdcPl4P96VNGycGD/K2GhBKToonOSme0FcWsGFTjLb8s89jGTU2AL9xo20e59q16yxZ+pY2xom0dHLP5Wv7+z05huSkeFavfMtkbGFd5yH+TN/5c63GaJjStoxDtFp2DTxN0/ZLEpLwiIaNG/152hUoSee5CYdYsGckPgAl59mNGzl7vLH98lrKl4uPMicbljkyl8RsVg/zYMmAWtwfIcSdy206Q29NN9woJntGV35b+Dv9h9T3gYfS/9bv9bCtuDu58HSkP08bbpUkJOFxwZ3yeR71cjSfef6U18vIQgghhLBHH0js2L8ThccvNOJsHJOals6SpW9ZLE/8ej9/fvlFtu+Kx2eQt7a8Z4/u2r97e/Qi8/ss7fbzzwbx/LNBRLwXZfN4R1PTCH1lgXbb78kxHDp6nJ49urPps89JTlKyvXwGebNk6VsEz55FmzZOtbqPwr56zkgyZAEtq2CZX1OzdaWkJN8iIMRbCSIBuHqzwO8aUQmlyu2iCuJ7tLQZRFKymY4yp0cbx4JINGWZX1NWLKvqm1zDvNU/6re0GYfMvgVWttNnQpUkJPGcOn8hRN2orKRg5x4OzggmYegY9j4xkZNLV/Bzfj290R5fpctSmkZ2oW6dWUbTsdhis52/5ZRuvTGryFqWkSPbHuNU01Vkx05Ttpuxleu6bWzPQzS4hr5Ozd6r9O89JQlJtFqXo2QaGdavzjDLAtZlIJlnJNnPFhai/m0P9tIySRzJCDi2YTEbxjZhw9gmJhko38dFacs3jG1CRVmR1XXn/r3d5Nj5R+K02/lH4ji2YbFDx1a3u3LmhMlx9eOpt83X7V8eSN6hnex62UcrszMfR7V/eaDJGOpxrY2hUs+jOt/9ywOpKCvSxvg+LkobQz2H6nr9OVO3u5PPhTXqmOoY6vnavzyw1mWP+tKlI5EpJusinMMBpdxNX+J2+vMMi23N7+uVMydMzrn5fQHl+tU/f+xlaZmPr7/f+uOYn3/1uZR/JM7kcdLvv395oMW15ug5tvU8Ni9J1d+29Xjq74d6vZk/x9XbV86cYNfLPuQd2mlx7dbUkcgUuyVsOXvP4DakS62P8+2SfXzcLZKPu0VyIVnJ3FH/rS4/GXVU235X4Bfa8m+X7DMZx9o+PoO8SU6Kx2/caJKT4pn9/LPExcaw9v0ILWhkq8Ts0NHjeD3ct1r3J/P7LHp79NJu9/boRXFxCbnn8i0ymfzGjeaqjWPnnssn4r0oLQtKLcdTy+LUMj09tSTs1KdL2TrlAQ79dQa/Xr3E1ikPsHXKA1pZ2qG/zuDq2ZMA2nqVI+Vrexf5sHXKA1opmko9ztYpD2jjq6Vp5svVY6nLLxy1fs3qy9zUuVXn+NAApW3dQ4ZRvmcss2w8Hx7p7GKxLP7CNQBKLlYQcC7Pzn9mXTiwx5/yeY6ng3YP9Gaj5zVG20zhz2H1hGxY4U/5Hn/K9wxj47ls5T/oA1xZRgUF6mt8RgkrgO8uqv95LyUlGSb6WN4nIUQNVVaSER7BqbcjuZH9E//v9//D79dvcPHrf5H8XAhXv/u+bo93fBUpvhm0P/c7vrd+xzdlAJd7qMGkY5zqMYtmKYZ1t1JoNquraXAoPINmhn37xUyi3HcV520dy+Ftw7ic+xflmFum48QxTjX15beY8ybzkGBSI2ro69TwXvVdyDDDe5Unj0QfNf0iIzGb5GHKe1lOSFNWLEtQspr2+FO+0Y2AxDy+tFLTrWQLN1feX/f4kxNSwWgJJolGUPLjUe1vj9EzbW6Xd2gnHR4eSXBSJZM/TGXXy8p/gvOPxJGd+AnBSZXaun8+42Z13c+Xja++g/64guLvD2m3cw5spl/gX6weW/3wqY4zNDiSirIidr3sw3NfFGrLk96abPLhvfj7Q9qc0j5Vvg4d8+YO3EdOYfKHqUzdkElFWRHJ7802mb/+w27ap8u0dae3v0dFWZHFGPbO1Y2LP5H42jiCkyp57otCjqxbCIDH6JnauT/37+207f6wNvdLp5Pp8ejUu+JcmAtOqtT+HhocqZ2v/kGvOrS/Lb9c+YVNvut5KXsxoWVhdPR246KVjJPhi0eRs/eMdjvz8wweeX6gxXbqfR371i52veyjPZ79pr6iBWj6TX1FO8c5BzZz4+JP2v43Lv5Eu96Dbc5Xfy5bd35QG3NocKS2fPi8NSYBxUunkwlOqqT78Ekkvzdbe7zV83Zsw2I8Rs/U9r90OlkLBlV1ju09j+2x9XjqXyuS3ppsd4x2vQcz+cNU3EdO0e5fbZz+PIOO3m5aCdt3nxk/lH/ut4kI53A6ervR79nalc5cSM6nVZdWvFiwmBcLFtNllDEb6PJ3l7Tlqe8dpuzHKwBM3vGMthzQlgOkRR012efXUssfHykuLjHJAHp81EiOpqaZbKP2MerT28NuGVt9S9x3gD69PUhOiufCxUKWLV9FclI8cbExNrOiLh6Lx6XPMKbv/JmbRWc5uHwi03f+zMS/55C+cQkA3Uc9Q+kZ5X9LF47G0bprXy3wcvmHf9NlmO3rJ33jEh57czfTd/5My069uHg8AVCCSxP/nsP0nT8zfefPHF/7ImAsTZu+82fG/jWZrJ3vKfM8nkDu/n9o6yquOPZlZnWPD/UeSPLgaX9bQRUXfEeZZQeVpBOVaNyi4MIt4nEhx8Z/Zl39vfGhulx4eokbAYnZVnsqlSTkscLPU1f6pmxPdDapeDDK7xa7U5X/qJdcrCDArw0kn1f6K5WcZzcu+EqZsxB1pvDAQc7Hf2113f+tqCD9jZX8v//7f+voaMVkrwnjvpgoPNX/owx5je5hcVz+zFo/I6UEzaQsLuwv2r5OI6dwHxlUFFrZtZrbtvrDUO3f12P/RnlgDJ5BHYzzSAnn91n/sB20EvWqYa9Tw3uVpxvvae+xHixZ0Yb46Gzje6qnG7MM72WuPi4E0JSNgYbSONeuTPS8RX6R2cDkEBN9i2UrRmrvr67+yhcwUZJtKxrQqFc2kZ34CQDZiZ/Qffgkk+wZfVaC+8gp2ge8dr0H4z5yClfOnKD4+0MM+uMKbUx76/SBou7DJ3F6u/KfcvUYzZ07Wc3UuJi2zyLIdPlMKv2mvkJz507asuHz1mjBGUD7YNuu92Cu5lsPNF8+k8rV/O+1Y+562YeLacZMgVGvbNL+7T5yCr+U2nqzwWQ79Vx1HjROOwfNnTvRtvvDVJQV0b63j3buL51OZtQrm8hNjr3jz4Wt66eq82Uv6OKIy5nFPPra47Ro10IZ84medLaSceL+RE/+vepbQMlgatvLRdtHT72v7Xv70Lb7w9rj2eHhkVpAtMPDI8lNNjYj9vSbS/6ROPKPxOHpNxewnj2mHx+gf9CrXDqdDJiePzXoqN9O1XnQOItAz8W0fSS9NVnbP+/QTi4bPnDrz7G1x8je87i6bL1WNJR+zw7A/YmegFLCduO8MWvm2cTZhJaFcSm9kM/9NtkawiEuD7Un9b3DZG+zDM4NXDBM+/fjq8dxJVP5ElKfdWS+n+/bxqCP5zQvKq78QsR7UVoGj/5vtTeSzyBvEr/ebzLO2vcjSE6K58czOVYbcjcUv3GjtbK7wYO8mfVsEABt2jjh9VAfq5lUnYcG0HmIPwAd+4/G6xkl6H1/24607tqXX69ewtljELn7/wEogaMhL33M+UM7+PXqJW1bfSaRPvPHe85q7m/bEYD2Dz1KRelFfr16iRvns9j9Jw9tnxvns7Tx1AyipP89Shun9Mej2twAege87NA5qcnxG6ZHkg2u/mM5cCGB0ROUiBeebhwIaUq8IXBm3rPB1d+bjclHiUoo5Z82A1SOHNib90JK8Vh2iFF7RtJNt6rgwi1IzKZVYrbZTm1YAHTr0lTLmEpJholLXMmfU0IBQGopjLLXz0kIUV0X9yTZXf9LYRFXMzJxGVwXjc/y+W0HNFvYwWRpq56TIBdgKN1jJnHa9z5SAMJS8F061Mo49as8Nw4e/gsmld+d3bmPvAafi1A07HVqeK8yL/3u1JwALL8lNGpOt6reoEpu8h1NmdhJv9CFbj1qOlMhaqZd78G07vwgV86coHXnBwElgKFmGahsBU9auNjOWFDXtXC2vc3weWvIPxLHz5fPa9lQ3YdPsjh+dTzQvmu19+k39RUt0NJQmjt30s49KI9F8nuz6fDwSDr2Uz6w3Innwtr101Ae6NjSoe0efe1x8r7J5VJ6IYNCat68sfvwSaR9uox8w2Pm2meYFljqOUr50Dw0ONKh89mygzsVZUX88xk37fzZK29Ux90wtgltuz+sZRo990WhSUARsAjiVOcxsvccr44WLm78UlZ1ELahDF/sS943Z/nlyi9WA4mOuN+lOS8WLCZ7WyYfd4tkQsxUk6wkvRauLbmQnM/ZPWe0bCR9aZstoa8s4PFRI3Fu2xaAMzlnLbKMBg/yJvdcvkl/JFB6Ip1IS+fatesO9zHq0MGVMzlntbHO5JzF6+G+tG3jROK+Ayb9k8xvN5T723akZadeWhZS214DOb72RVz6DKP9Q48C1W9y3bprX8Z/YJkTvneRD0Ne+pi2vQZy9exJLSMJsHie1Yat40ND/mqbDT7z1BIyf8ojveHCLQK6tLGxdd39Z1b9htVqiZufp3FO2h/l21lXHxcCEktI5Rr52c3p5urBKL9rJGdAwQUpaxOirv1acrnqbYob7jcXnYK2GUrewiHcV/oTCeD2u06FaGg/fbqYBYtW82/1Mj/9GQsWLeb9feqCTL5ctJgFqw5Q5uCYHqNncir2XS14YUveoZ1adkn+kThuXPyJ5s6d6PDwSK1UCpQPreq6B9p35VTsu9q60zv+ZjJmj0enknNgs5YNZUvnQeMs9m3f20crr1IdWbeQ9r2rzqNv2cFd+1BrbRxH6Me4cuZEjfr7dOw3ilOx72pBtM6DxpFzYDOufYbZ3Od2PxeOULOy6tIDrg+Y/Ox73je5VkvbADzG9yY77gfyvjmrNWD+Pi7Kbo8uW1p3fpCcA5vp8ehU2vUezM3iPC6m7asyw0qfyaQGEEE5Nyo1Y80eNSBUUVZk9dpwlL3ncXPnTlzN/157zPS9ztQ56x9PW68VLZzdTDLccg5s1v7dwsXNpDSwPuR9k6v9W+2TVdMgkp7nNC8mxEzl8neXtGVqv6RfSyv4dsk+XB5qD0CrLq205dYymaz58UwObds4cSbnrEn/ItXIYUPYvku59vW/4qb+2lp1mmGPHDbEJMMp8ev9DPMZRJs2TviNG62Nn5qWzuznn3V4XFuunj1p0SvIEe0fepSsne/RfdQzgJK9lJ/8BS4OvOaZUzOE1DIzy/VKwOj8oR3asubtupgElc7Ef1jt4zp6/EbNSLKUQ3IiPLLCBX2vImOZWSkF5+CRYXURrFFK1nbPyeYVT2Mj8G5dmkLyTUrAemaRa1cmeqZTkFDCCj9XlgAlXZry3cV0OOfCLElHEqJO3e/anhs/5drfpmMHu+sd151mgXA9vxiGGMcsz40DzPpjDHkN31uvcT12Gqd3H+R60HQaSquek2B3PtcZasxKupiH/M5b42nY69TGe1VRBfFArb6Dc23JIxQqJW/awMp7L7Xv/SlEtbTv7UPSW5MZMd/+f4TdR04h8bVxWlnUc18ogYPuwyfx8+XzJo2B1Q+3D09awKXTydq64fPWmIypfqPbedA4u8ceGhypNREGY9aMeR+XyR+mOvQtcYeHR5L01mQtk2PsW7tMxhk+bw0PT7L/LNePoS9Tqg7XPsM4sm6hdu47PDyyyiDE7X4uHOlzpJZl9Zv6ipa5U1vtHnJlfFSA1lT70dcet1rapm579WwpXrXskQNKMDA78RPtXLfs4E7LDu4O7at/DNVAauvOD5ost2V7sJf2XBw+bw3NnTsxNDiS7cFebNhu/IDraOaRveexegz1ujCfl/njaeu1Qs2AtHb/1PO3YWwTxr61q9Z9kqzJjvuBbU//U7sdWhZWq/EuJOezZ5YxqKZmGoHSI0ldNyFmKve7NKfLqO7smbWd1PcO02GQG57THAs+P28oCbPV70jfdPvb5EMmv/Km/sqao3r26I7fk2MYNTYAgNUr39ICUaGvLNCWez3Uh7XvR1Rr7Lrk0tuH9I1LGPgn5Vp36TOMS6cO0LaXZb8zRzz25m52/8n4i72dhwYw8n9voeeY/9aWewYYXwcffOpFLv/wb63Rt/ec1TW9K3aPD9CksrKyVjmem7fFM23S+Cq3K0lIwiPZhZxIY+mX+bLUdQmMPudm87a1MRTWgk7mclg9IY/uG8cafyVOHTP6FniqxzE2MFXL56zOMxEC1G0yDtFq2TXj7dvMtri9Dj1GQtQne9dh+c0K2jm3trquaP9BToRa/ryoqkXnTjyxM4b/9Z/W4+JXym7QqmVzG3sXkz2jK78t1PU50pptb1P6F5ncVppck6Jur+x/feJ5hgZ14PzK+8hHV+5WuJVjPXbiZGVfx7c1Pyaga7Y9NKiDlduipm7P69TwPnTBnfJ56pu5+XuV6W2L98uSdJ6bU8GCPWrvo1K+XHyU/GeV983UdQmMxpPyeR66ZtvKtua3RcPYFreXmdMCajVGeXl51RtV4czZfHo/2LPW41RXqwdq/218be1fHsiI+R/WaZmAELez/csD6R/0aq37Qt2Orpw5wanYdxnz5o6qN74DlP9s+YtvVfm4W6RJUKkhpKal8+OZHC3oJO4et0WPJI8JasppGw7sMQaJfOb5c2Cd7fV1Mwel79IcbYkHSzbe5Lk5R2kVbVjk6WYSvPIZ1gYSK4xlbANcWcY1sPILdLez8pv2emnUnr0PRUI4qtPoUXQNGM/5+L0W6/6zeXO8337d5ofzGhnyGr4pq0jpcR9KsdIkY1DJ0NQ6Re2RBEqfpAYP3gyl/60UTjXtSsosZcl9EkRqVA1+neLBkj2weoLxvaquvsxw9R9LDkl4qP0LaSNBJHHPUXu3SBBJCCFqzmeQt9bYuiHlnstn9gumGYt+40Y3Su+ku1WDZSSJxmPrG/bymxW02/lYvRzzypSDEkgSJmqa6QFAZSXn4/eSty2O8tx8/qtFc9oNG4xn8PO06NrZ7nGryvQQQk+uU3G7kIykxstI2r88kLxDO602BxbibiYZSXeOOyUjSdy9brMeSeJudzl2HX1yR1C29JFGnMV3/K3pV7xjZc3rKUv5yxDjNmi37Slh+4yNnF/oyLa2nVrtyb4nsgkdaFqqqZRSWmYE6Etd1HJLU03ZqCvlNI5f8zk2miZN6DrRj64T/Rp7JkLYJtepEHeFu+WDphDVdTdf++16D76r758jJIgk6pIEksQ9yonoc/OYqv/l0MJ9PN9jJX9LWcpfhjzCX241YLDrZATT2Uq2zSDPNaISSu2Xrfh56vqnGAJNc5LAEEzqv2Qr+zwjOJUdSv86nbwQQgghhBBCiHvF/2rsCQhhonAfzzddibP2Zx3bC0HJ+lnJ87GmP599YuVKno/NsrLuO/7WdCV/O16NY7uN46Uw+C6/xGJ/5Tj7+Jtubso6JRspZAe846ufw3cm25rP21Qp26PP8fZMO+Edz6YQnc6X1fj1cFf/sRzwu8WcHTmGJf2Zs/IcH+8sdXwQIYQQQgghhBBCRzKSxO2jcB/P9zjJI/WwDikAACAASURBVClL+WwIaEGaJfvw3TIO34lOhOw+xeWgcbQH4Dv+He6E/7m++HLQdN3xH3gncCA/1qLUzNyeWbn4n1tKmZuhRM93C4/emsHULXPApLRNKYv7LmYOZUGuhtsbeZ45fBZkpVV88UH2M4Z37PVJ7uHOgh7ZjF6djq/FrxbaZv4T4S7depAcfZDSKVO53VrDXym70dhTEKJKcp0KIYQQQoh7nQSS7nVzM6rc5Pff/4cvv/wJgKeffpD77vuPqsetyYctt3F8dmucboErvhOdYLdyq/3InkyYlUtKIUpJ2vEfeCewJz+6Wa478a98Jkz8gyHg5KDjW3gy3Inoc65AseX6sBFaKVz7kT2ZQC4FhTDYzXSzy7GHlSCWFjR6hL+k/ICz7784ETQD8/aFpUf2k+zxYpWBHZ95niybkE1MhjdLBjh2l1w7N4fsCgpQAkkMHMd/p3zMweKpTL2NfuBLmgyLO4Fcp+Jedean3MaeghBCCCFuIxJIElWKijrF4MHtqaysJCrqFIsX13e3ZrNm2IGGv9364x94koRDJUwNcjUNFhnWnb8IuJVQ8L0T/s/by9u5TkiPlYSYLX09Zalp36QaKMi9Dg93MA1idXZmAmVWt7+Ym8yontZaf5vzYMmKElotO8SoPSPpVuMZJpNbCNxGgSQhhBC3r8b41TYhhBBC3L4kkCSq1KbNfaSmXgagbdv76vFIxgDSBENZ2OXYdfTZra531ZW3dTCUtbmarOvzr+/4S+diEujJarsBISvNtu8EAzzZ6HmU0etyyOlS9eYlFyvA00UXdOpMT1+Q75aFEEIIIYQQQtSENNsWVbp27XcGD27H4MHtuX799/o7kNrX6NZS672EMJSU7cglJVYpa/N1M1sX/gPbD+XCxP7VK2urQ916OsH3xVzWL7xYxp46Gd2Fp5e4EZCYR8yFqrYtJSX5FvRoqeupdJHclDqZiBBCCCGEEEKIe5AEkkSVFizoT1FRBUVFv7BggYPNeWpqRxkF6r+Pb6HPrOum69364x94nZBZ+ZblY2798Q/MJ2QW+I90tB113WsfNILXd5xkif4X3HzzmRDzB4v+SACde44iOfei4wdw9ea9EFiReMvuZiUJ6czJbsrGQA+zNaPoeadlYgkhhBBCCCGEuC1Iads9rsVfqxdLnPu+Y9vlz7lme2X4VziHf2W6LOwpypbO4OuwlTzZdKWyLHAgP6ZAH19dg221AfeO67z+h0fMBjaswzRTqf4Zyup8V/JO2FOULX2Ev9yCvzXdiPMsZYsJMTZ+sQ1wGT6GUV+fpZT+Dv+Smqu/O8uis1mhX5iYTavEbN2CNhzYMxIf/TYn9/EP3zEckv5IQgghhBBCCCFqoEllZWVlbQbYvC2eaZPG19V8RD3YFrfX6mNUfrOC7hvb1Msx8+dca5RfOLocu44lBNoM2tyeStke/Dosj673X1I7tdqTj3seInqKoyGrumPrOhTidiLXqbhdbIvby8xpAbUao7y8vNbzOHM2X5ptCyGEEMKElLaJu0gJKbsbt6ytZlyYGtKDNzafqufjnGLfxv/mxUYIIgkhhBBCCCGEuDvUbyAp4xCtJiRY/lmcTknVe2tKEpK0ffT/rmpbcQ85vgXnphtJmBh45/0SG8DAULYynYiT9XeIU6unw+eh9K+/Q9SBY5xqeh8puj/HYotNNyncyrGm08gurPujn195Hykrj9md26njdgYo3k5I8HZKzRZbvIZZeV1cnaFuncPqCQm0WpdjNkopXy42bGfjOKK+6R4DcxmHaDXhEKkNPidIXWfteqmOUrYHh7Dd7Klmcp9K0nnO2vu57rip6xKsnoOShCTDdjaOI4QQQggh7ij13yPJ042cSG/0OSKp6xLwWIzF8rrg6j+Wcv86HlTc/obMoMx+7+nbXv8l2fUa5Knv8Wvt+CpSfMO4L+Y8vkFqjV8x2TO6krI7hn5bpuPUqBMcSv9b9n61sJTtb+5nzPLoqntdmb8uZhyi1bIkum8cy9PqwsQ8vgz0MN7W6zCVd54M4fWdjzVKmaK4u5TufJ39T75DdJWltU3ZqL9GyWH1hGye69KGf/qr1+E1ohJKdbf1XJi6fAwhb27nsQ1THe4JJ4QQQgghbi+N0mzbZ94wNi4+yisJXXX/2VT+Q6o1D/bzpHye+a9NqSqIWZzACkNf4YCQYdo4JQlJeCS71EuQ6m5ktym2EA3mGKd8w2iV8jv9h+iXd8Bzy3mY0ZXs2McYGmT8pPvbZ9NICY9TbgSaBprOr7yP/HDdMGEp+C4dqvy7cCvHesxCDQndF3PeZFz4llNNfVE7ixjndIxTTX3BYo4GJzfyhseLZNekz9UATzZ6HmV3ailPGwLhAZ4wZ3U6vjZey1ymvEgPz42cmnK7Z5ndu0oSkvCIViPcps3vTdeZB2hK+XLxUeaovfPN3w9L0nluTiHxhnGX+ZkeN3VdAqMTdQvsvp+eYuPSHryYXZOwjgezQvLwSD5Pifpe7tkUotP50meszSDoix6ebDw5ldCBNTikuO2t/msEexOVC3DJ/w5lvJ9fFXsYqftVZ5/6tPaj9fyUcxYAZ+e2hC1b2sgzqrnUE2mcPXuOGc9Mu6PGbmypJ9L45+dbtdsNfR1cvXqNDz/62OKYW77YxtWrV3lp/gsNNpfGZP44ADz37HR8Bg+yu93QIT4m12X4ipV49Opl9Vpd+9F6AKvnNHzFSsrKrmq3oz6IrNkdseLrffsBeHLcmDoZ73a+Nswfnwc9et0287x69RpvLX+HhS/Po2fPHo09He1c1eW1Vl36cwKw9+skk8erkXokueA7qinxF9QghhJEYoU/5Xv8Kd8zjI3nsnkuwUbhRvY1eNaw7Yo2xEen86XUslVbq5bN6/WPEA47/i3lhNPWWoCGDnguDOf33Qe5ri2Lo5y/4Hvrd3xvpdBqxyyyDSVw51feR/73MfS79buyPiUcwn0NJWnHONVjFs1Sftf2bTarq2m5WngGzc4p6/vFTKLcdxXnHbgLp775B//9RN2FdB551p1l2YW8Yut1kM709P0H++qxHFLUnBIoas6BPcp7VU5IBaPVsq+MQybrylc0Z84ctSTMEETq4WnyfqiVkBmCSI+o75crYIUuaJS6LoHR59zI2WN8jyQx23o5Hii/5DhnXN0FI3u4s8DvFnNW2y4x79xzFP/4pr57wonGsDnmMx57/HG+OZjMNweTteXncnNZ/deIRpxZ9YWvWEmvXj2J+iCSqA8ieW7GdFJPpDX2tPh6337tg6dQrP1oPbm55+pt/KFDfLTroD6CSLm557QghqNmPDPN7gfwmox5u9M/DlEfRPLPz7ey5Ytt2vqv9+1n79dJJttcvXrVZBuAY8dTuXrV9Iv0q1evaUFjW95683XlteDZ6bf1ua3q2lA11muJ/nFU59FY9K8dbdu2IeqDyNsiiARw9uw5HvTo1ajvO1Wdk0Zrtu3auTmcu2noGZLHCj9PlgxQ17rw9BI3iM623m/C041Z6rYDXFnGLfKLGmLWQoj6cD0/AwLdaWVrg87u3LcjD+PvD02i/fOGDCOG0jYMfs/NB6Dr0t/x1ZfBDXnc9riGcjWTDKOwv+Bp6LPlNHIK95FBRZX9mE6xb+Moeta0P1dGNnOymzLRR58V4sGSFW2It/U6iAuPPSkfyBvDimVWegUt0/+nNIeY6FssW2HMQHL192ajp1L2ZWHASMrVbKWMbOZkt+GAlkGkvB8GJObxZQmUpJYSb/IeOJIDuuQNn3n+lOuz2Aa4sszOfTn1zT8Y1bNztc+B/n4GjOpqkjXnM8+TZdmFxNgIXrkMH8OojfuQK/fuU1xcTK9exuy32yWzqLq+3refIT6DTTIEevbsYZH9IIRoPFEfRGpBoatXr5G4d59FoO+l+S+Qc/asSeBo6BAfiw/nqSfSGDrEB0c4t21b+8kLAMY/OZazZ3Mbexq3pZyzZxn/5FhSUxv/CwxbGqW0zVzBhVuQmE2rxGyzNW1Y0CgzEkLc6a7HTuP0rDjtthJMGkr3mEmc9r2PFDAteauN4rOcowfjHC1ryy7EY4JpdGrZCn/LUqABIzngl8DodTmUz2tjfaycs5TSX/rNNKBlK/x1X3wYZByilRqxKbnJdzRlYif9Bi50U7/QMZQyjp6QYDFeycUK8HShm35X15Y8YmitXnDhFvRoaRK46dalKVwwnY5p6Rw2gkmlnM2BHk84evXcYs6cBOboF/l5Um7RD8mDJStKaLXsEKP2jDS9L5pznC2G/jUpBRW3rYcf9iJw8iSLbKQ/zZkNKKVry958kxXLl7NjVxxt2iiva5tjPsOzTx+L8Z54bJT2779v3ESPnj0tluvHqSvHU0/w8vwXba7PzT3Hmg/Xabf1JTYLFi3muWena+UbUR9EamUx+jIO9Vv446kntJKZt958nbZt27Dli2306mUMXKm31Q/LAIl792nbL1i0WJuLvixDX5rnN35c7U9MNW35YhvHjhu/Con6IFLLDlFLi8xLt/T3RV+WFL5iJS/Pf5G2bduY3N7yRSw/5Zzlp5yzDVZ2ppZ76EtO1n60Hh+fQfgMHmRx3p8cN4bc3HPs/TqJtm3baufkrTdf59q1a9q1pF47jgQs9eVQ+uvR2bktz82YbnXM6sxLPc/W9lHH9Rs/TrsO1ccBrJec1ZcHPXpx7do1yq5etRkI8ujVi7O5ufi0VeY0xGcQ/9yy1SRQnLh3Hwtfnsfer5OqPObx1DR8fIz3z/xc2HpOmpd1WSuh+nrffm0cNdhl7TUCbJfe6q8N89cZdTv1OOp9V4+nLjMvCaxPbQ2BubUfradXr54k7t1n9Zq1dh8dOTfm1zpA2dWrOLdta/HasWDRYu15bf46r8+gqu/zlHoiDY9evejZswdlV69y9eo17b6Baamleq7U1yWVej7sPYfNt7W1TP9ap39db7RAUsnFCujhiitQAHZ7OEjVmhB3N6fuA8CQcWS1ofbFPH63l7GkYwwghdP91ja6qr2N1GMFbcM3CENzb19Swq31SapnVn6EwBafQDcC5mSzetgwuputc+l2e6Tfiupy4elIf57GUIq2LIEVhj5JvlXua58xgNSGA3vG4qOWjtcJ815OdqjBsnU55HQxW9ehFz2Q0py70Xg/P3r37s0Tj43i/7d390FR3GkewL+5u8LE2+WchnO8M+cpDAavYqLGGdzElySnvCWoq0J8i5qYxKiI5BbiqYtKWLVSaMUYjJKop6ioKFlRw4skRogbYaB8L5fIDBqjG8aFwcOsiVbluD96uumeNwaYAYTvpyoVpqf717/u6e6xn3meX0dFRyP53WUICg7G9h07kZt7GMnvLgMA3Lx5EyZTNfR68cavwliBV+fMlcdIAoCE+HhVkCghPh6bMzKwJ2s33k9Pl5f1FeU/2pWsVvHGX3nTkpCYhABBkG8KTaYaOWiSkJgkz5uatg5mc408n/LGs7CoGNn7D7otSVHe+Ep/p6atU/UlNW0dVqesQPb+HAiCIN8ASGPDdKSZM+LkmyypjCYyYgI+2rJVnsdYUYmoyHC5j8ogRMaWbfIyrsQvfhsZW7YhKjLcZyUpZeVG+cZJunGUslqkG7h6qxUG/Uhk78+BwTBS/hwztmyD1bY9V6tNmD1rOmbOiJP3x8wZcXIAo61jxezNPqA6BgA4tNmWfrlaRrmezZs2wFhRqTrWOpIgCKi3Wm1/Oz9nBUGjykjSaDQIEAT5XDRWVHoUaJVu0gMCBKfBA+W55uycNOhHyse2FNRQfubGikqUGytU+9HVNcL+/C4sKkbGlm1OjyFlGxlbtsFYUelwLbFaGxzW3RH2Zh+Qz38AMJnMch9a2kZ3+8bdsW4fbHd27bBaG7A3+4AqqJS9PweRERM6ZD8Zjc3XxTCDXvWZpaatQ1RkuCpYKwWR7K8DrvZFYVGxQ8A3e39Oi0Fg5bXCbK7prEBSHUpL7mPiOHFD//3fegElYpkbB8gm6oHCXoA/xsJavhwDHMZJqkXVh6vhN+mGB09tq0Vt3hEng3Y7W+dyjL2/XAw85Z3CnVemt7X3jixnMXv+PSTYypWUWSStDoxrR2DjgjqE7KtyyCqp+64GQLA3ekzepP01nsYtseRaMYD2dzUA7IIqhkUxaFwkjouUZ6xD7OO9gap7+E65qOUuLgAYCOffl999L2Ueid+tTjOmPFKN9JevyU8PdJod5TGxJC9v/jVk2Vc31ZrAI7f7CgoOxslTJSjIz5eDP/aee240cnMPQ683oKLC6FAC19DQgMuXL2Hqbyc7TA8dMgTLkpNVGUq+YP8LsMRkNmNUmEH1XnRUBKpNZvlmRLrJ1OnE19K8ITod6q1Web7oqAj5vciICUiw/crdmj7W11tVv0JL06tNJlVWlVhC4rtxhFz1T9k3aXuVN/HlxgqsTlkh3+grb2KiIsPFDAIvDULcVs6yDsIMI1FQeAIG/UgYKyoRZtADEMtRysqNqswTk9mMAEHA4BCdvH0humCPsl88EaLTOWRI2WtLv1wtI2X2SDe2uuBg7N13AIKg8dqA0Z6yWq0IEEbKWRvO52mQz0WJdGzFL34bBYUnsGTxQjQ0uH8AkXSTbrU2OGRpSNvt7pyUgslSJsngkObArslkRr3V6pBR5+oaYX9+u7t+KNvQ6YKd7idlJo+vB79WBmajoyIcznlJS9vobt+4O9Y9CTibzGbU11tVGTrKAKIv95MUmJb6adCPxEdbtsoBP2mafX/tv5cA1/tCpwvC3n0HVD+AOJtmT3mtCA4O6pxAkvHjM5iP/qi2pcNrYwYhJbNK9RQ35dPXiKi7G4VhpakoHeuHMlV2UC2qZg7AbWThqVZkDP18vRYI62dbXnwCm5jNZP/kNTHw5DdpM/oAijGYWsmWYSGX6tgCCSXnAMNwMYAgBc7bQhszAjtKxKd4OZQohehY1tbl2J5mZivtMgCwHDsrjn20IVAug5Of4ma5gbyqXpiUHAhomzN5xCzdOhxKv4Wj0aHYqwVg+77MOjdCDBadOy0+oU1xH37hZh0wPFBcNkl8Gqrz0rZA6EKA4u/qgGcCAWgwMLTK9vTAQKdldK2iHYGNC2wZUg5D5QRBx7K2bi0qOhqXL19Cjdlx/AspANTQ0IBTX32FN958y2GeJ58c6jQIpdcbcPJUifx0OF+UtoXodA6/2rfEVTZEawQEtH7sFXflXN7oU1vZl38pB9SNigxHuW3cj5aypIQuOh6NsuRECoZJ7LMCAPh0MHAp8yshMcnt8dCWfjlbxp40IG9hUXGryvPaSxogO37x29BoNNi774DTTKFqk8nhXJY+P2NFJQIEAYKgaTGQJBEEDQICBJfBZlefQWraOsyeOR3BwUGqMitALLWqr3csYXLWdlve88TqlBUwm2uQkJjk09K29rTt6fZ74xx01U9f7ydjRaVDEAsQ+9+W7zpX57CydHDNqpVyxpxyWkvnvu8H2666hRC7QUnHI1Q9GChCkLyjP5B5Rp5HCiIxQ4mohwhbLj9FrbSXn+2/Abgz6YZ68Gy3+iE0PQuQ2xiAn5feQN+pQOOXZZACVo1jm9u//WSpF8rahiFifgnM8rBH4kDZ4qDMYuB8o8M4Mq0RiNhZ9hfzOpwqLPHqk+LIe7Qx4bYntdm+0zJ7NweOho/GF9EN8nv+82/h6TSpZCwQsRtsT2p72Xb8BClLv8XvywvSgN/7emOHHKSRHlRxRl72+qzfYEcokHam2mk/h734GkrMN50uPz5fOeh3W/fDIMdMum+KUeLNJ8VRl7Ena7fqdUF+PjSCAI0g4Psb6oG8nn/hBRw/dhQAHP5xLL2uqHD+qAEASH53GV57/XWYTM6P7faIjJiA/IIi1YC8ZnMNjBWV0AUHOzz1Kb+gCLo2ZEeVGyvkv7P358hBFUHQqLKHlOMMKct0pH/kO3uqT4AgqII33sp+aQ3ljZ1yW4ODg1BtMqHcWIkw21gzzraloPCEnEkSIAgw2YKSZnON6lHsyvKmjhRm0CN7/0FVMCxEp2v1U6g0Go1X+i8F7azWBoc229Kv1i4TGTEBs2dN75DMNylQOXuWmE0uCBqMCjMgNW2dar6MLdsQotM5vSEOM+ixd5+6tMrTddfXW5226e6cBJqvbeV2AyiHGfRYumSRQyaTq2uE/WdTWFTc6tJV+5I/QDw316xaiWqT+yfYdYSWttHTfeOOq2uHs+u8ki/3U7mxAkuXLFI9fTA6KgLlxkqXx5er/ra0L+IXv41RYQb52upqmuRqdfPA9caKSh9nJA0fjcbjHs6rHYG9x51nH2ljwtEYY3uh/BsAEILk4yHO5yWih4z4FDW3+k/HqPvqMrQBKx5ggJv3kf0AodLftpI2Z1TtOLTlvm/DXnwN00+ex7JnbLfHLq5/LV+j1Nc0mX17tadQXPoaFn7iri3yLnFsI6ecfN7uPmuxpM39emJdve3wfTmieV5n36XD3bT1TARem1WE88nDxMCOq+9i7QjsbeH73LAoxklWn3g8J8uvbQHQBZnuG6OHUuiQIQ4DZCuDRC8+P04e30ivN2BZcjLeT0932lZqWpqqtE0ac2lP1m78z86d8rRX58z1+nZIGRYJiUlySYByoGz7G76lSxa1KfsnRKeTf3VWZjFERkxAQmKSalweiVRGVFZuxJpVK7Fk8UKseW+tQz/jF7+NhMQkeVDY6KgIlzdF3qAsVwHEoEaAIMjbZz8QcphBj3JjherXfGmwW2lblGUvUZHh+PCjj7F33wEMDtGpglRSSUZB4QmfDLZtv23SL/UG/Uh5kGbJzBlxSE1bp8omaGk8FeVYW86yeeyzE5TrA9QD7yrLfZRttqVfni5jP4i0r8aPcfU5KPsrZUVJlIML25PGu/F0bC37gYxdcXVOhhn0chvOBgYPDg7C7FnT5c8McH2NmDkjDhlbtsnvKa9PnlJeSxKXxmPTh80ZoPbHWGdoaRvd7RtPj3VX1w5B0GD2rOkOpbkG/UiHa78v2B+T0npnzohzuE5K1wz776U1q1a63BfKAbPFcrU4p9PsDQ7R4aMtW+XrzSNNTU1N7dnQPTlHETc5qj1NkI/lHCngZ0Sdrvsfh3U4/NZK4L1MTOuAkp26zxZgJdYicwoL27yp+x+njjr0WKo9jAWrgLWfTGNJZgtyjhTg1biJ7WqjsbHNBbuyb03X8cRg34xF5GoMpZ5A+WSlnqiwqFgOxhCRo55+jXCH+6Zr8H1pGxFRjxCIae9NQPGqw7YHtftQ7WGsLJyAtQwikRcETlmLCYUrcbjW12uqw+FVxZjwHoNIJJa92Q+yTT1HfkERg0hERA+xTnpqGxFRN9RvGjI7otSso9ZDPUQgpn3SEaVmHbUe6upefH6cy8G0qXsrLCpGfkGRXLpDREQPJwaSiIiIiKjDnDxV0tld6HQ9tSQjMmJCj912otbgeeIa903XwNI2IiIiIiIiIiLyCANJRERERERERETkEQaSiIiIiIiIiIjIIxwjiYiIiIhcGrLmx87uglf8ec2vOrsLRERE3cIjTU1NTe1pYE/OUW/1hYiIiIhsXo2b2K7lGxsb292Hb03XMTlb2+52uoIjMy2d3QUiIqJuwSsZSXGTo7zRDPlIzpECfkbU6Xgc0sOAxyl1FTlHCjq7C7Luk8nTXbaDiIioc3GMJCIiIiIiIiIi8ggDSURERERERERE5BEOtk1EREREHvH/1T92dheIiKgdGn/8W2d3gboBZiQREREREREREZFHGEgiIiIiIiIiIiKPsLSNiIjIA4137/m0ff9f9/Zp+0RERETUfVy8dBlGYyXu/fRTi/MmxC/06roZSCIiIvLQP3/2vE/a/euUUz5pl4iIiIi6n3JjBfZlH4RG0CBQ0MjTq0010Aga/HRPDC491vsxNFgb2ryelJUrnE5nIImIOh0zPYiIiIiIqDvZuf1TAMDrb7zp9bbzC08gRBeEJfGLVNMTEpMwyqCHyWQCAOh0OhQUnmjXutLWrnOYxkASEXUJl6pqsGRVBq5cqfFqu7cvH3Hzbi2qZg7A7VzltFQMvL8cA7zaC6K2qEb6y1W4sOA32BsT2Ib3PWsfaTFIHt7evlJPlvzfKfhrXZ38+s3X5wIAPt25G7u2b8W3V6tx5OjnWJaU2FldJCIib7q4Gwk7byN2eTLGaDu7My2wfIEP1hfiGgBA+3D02QMN1gaMMugdpifEL4QgaORAkq8wkEREXcKLT36PC8dXYHfet0he+yka6u74doW3DqAsaA6QdQNjs/vJk+8cjMPFXnG4V5OD0P6+7QKRR0rOIv3xcLtgTx0OJVUhDcDENjccguTjIe3tHREAYOP7axEQIKimPffsKKfzzntjIXZt39oR3SIiop5OOx7vbBqP+qJ0pBZ0dmd8T6cLBgD07+/bGxkGkoioa/inGPwDHsH86cGYEjUGf/hwDz74JBdNv/yfD1ZWi6pkMYg06pV+qnf6vJKDgWY//OV0LSC9V74epWNXy/P4lz7AsDDx7zsH43DRPAV9L8+RM5v8VO06Zj01v1+G872+wqNZ53B7zhFgahaeyp6OPqr1TUZfBrV6tKfHBeLCmWpguCLoY7mBPGiQEtqAC8qZz52Gf4qyDl6DL46PhgGA5dgJ/A6BeDrzFtIApKSFAinKjKQ6HEo6g/lVzUtPlLOdqpH+8jUMXNAb8zMbHNomIiKiburibiTsvIRBUcl4J0KdylNbkI6E8xaoM30s+Hp9Og5ZbDMNm4vN84bi6q4kZPwQidXLxyMAkDOFHn99A2Kf8k5XxWCRtOKhiN80F4PdLmHXV62ifw+BapMZcFG29thjjzXP42V37jQwkEREXcUjQNN9AIAGJdj4+zl4a9ZLeCd1GwqKy7y7qluncCc3Ff+a3c/p2wNWPGgubStfj9KxwMD7tmm3DqAsKA5VyuBO6hz8XPoAY7Ol+RNQNToHof1tQaQnSzE2W/xl/s7BOFycn0q1rAAAA8pJREFUI70PAKtx21yKsfdzFOs7h741D8T3y9ejNCgOYDCpa3jzXIuzPHjwCw4dugoAiI0dDD+/v2+53fr/df3e4wMwqaQKRoTIQRuLsQ4YNwgDSxSBpHOn4Z9yDzt2xCBWC0ila+M/rkbjIjEIdTSzDpN2xKBRel9eiS2IFBSKxg3ivJZjJxCSeRaHDOG29u5jfkkgqo+PhtY2v7JtIiVX5Wzz3lgo/3/M6Gcxf96ryDv2Of6YdxwAMCT0CXmZeW8sxG8nvYw/5h13mvFERESdyYKvMRebN/UVgzEFlzBm3lBc3ZWOQ4jE6k3jEWD5Ah+s340PipLxzoihwM5zuGIZjzFaoP78OVzTRmKOV4NIQOzyDR6XrtUXZeGQxZOAk2d2bv8UTYrXtT/8AADYYRsrSTLfS2MmmUxmmHwQKHLn5Jdf4quTXzKQRERdyC/3gPqPgb8Zgft/xhNBicjPWo/8k2VY/PsMXL92yzvruXkND6YOgn+LM9ai6sPV8C9VBJb6T0do1me4uLsMoStsZRtTszDQlqGEsBfgj9X4+SaA/v0Qmv0AoYoW+4yeAj98plqL/39K5R/i+vyybjQHjcKWY+BqP1xXro+6tM2bz0Ov74umpiZs3nweSUnPtLPFQIwddw9Z5wCDLXOotASYlKwBShSzDR+NxuPK5UIwLlosf5OFBmKs039cBSJ2QwxiFVO0hkBMzKxTzZUyawS0cp96ASV3If4OST3d75atlP/e+P5al/Pt2r5VVdr2p2/KUFdvlV/nHfscf/qmTFUWxzI4IqJO9NRcbN7k7A0tYqOGArAopl3ChfPAoKihYlaPdihGagtx6IfbQEQkYrXpqDxvwZgI4MpZCwaNGOql7B8Lrpy1AMPmtmr8o4B/6QvgEjISk+TMqfZ6xMNp3hAVGY6oyHC38xQUnmj3YNuSz3IP49zZswBY2kZEXcmPJ4G7J4C7pcDfPQrcLQH8xyN6uAlXjq/HupdS8Jcr13yyajFTSDEw99QsPJU9ED/nAo25fii1X2D1f7Wq/Rvr/HA9VXo12cVc1/FzLvDoUnWmlH/wZKBjf2ygdtBo/GA03gYACIKfV9rUGgJxIddW3ma5gTwEYqMWjsclAFjOYvb8WzgqvY5u3bqMHx/D+HzpVS9MamunqUexzxiqq6/3aLmqq9X4+vQ3+Pr0N/K0MaOflQNJk2Je8m5HiYiok2jxHyO0OHT2EuqHAZUWLUYO6+SfomxBsqu7kpBxfjcSEts3GLf909l8+dQ2wH1pm2oeL5kydRr69NHgq5Nf4v8BEiwGWIen8WwAAAAASUVORK5CYII=)"
      ],
      "metadata": {
        "id": "KuLqpMt_qw_X"
      }
    },
    {
      "cell_type": "code",
      "source": [
        "selection_class = 'mw-headline'\n",
        "\n",
        "sports_tags = doc.find_all('span', { 'class': selection_class})\n",
        "\n"
      ],
      "metadata": {
        "id": "EmnVFMNJq373"
      },
      "execution_count": null,
      "outputs": []
    },
    {
      "cell_type": "code",
      "source": [
        "len(sports_tags)"
      ],
      "metadata": {
        "colab": {
          "base_uri": "https://localhost:8080/"
        },
        "id": "rHV4ARTQrJoB",
        "outputId": "ea87cabc-c1a4-4343-917a-e48940b7d2ce"
      },
      "execution_count": null,
      "outputs": [
        {
          "output_type": "execute_result",
          "data": {
            "text/plain": [
              "56"
            ]
          },
          "metadata": {},
          "execution_count": 343
        }
      ]
    },
    {
      "cell_type": "code",
      "source": [
        "sports_tags"
      ],
      "metadata": {
        "colab": {
          "base_uri": "https://localhost:8080/"
        },
        "id": "LN5jf4H5rPW-",
        "outputId": "8105a4cb-a706-45ca-c939-9e829104e51c"
      },
      "execution_count": null,
      "outputs": [
        {
          "output_type": "execute_result",
          "data": {
            "text/plain": [
              "[<span class=\"mw-headline\" id=\"Men\">Men</span>,\n",
              " <span class=\"mw-headline\" id=\"100_m\">100 m</span>,\n",
              " <span class=\"mw-headline\" id=\"200_m\">200 m</span>,\n",
              " <span class=\"mw-headline\" id=\"400_m\">400 m</span>,\n",
              " <span class=\"mw-headline\" id=\"800_m\">800 m</span>,\n",
              " <span class=\"mw-headline\" id=\"1500_m\">1500 m</span>,\n",
              " <span class=\"mw-headline\" id=\"5000_m\">5000 m</span>,\n",
              " <span class=\"mw-headline\" id=\"10,000_m\">10,000 m</span>,\n",
              " <span class=\"mw-headline\" id=\"110_m_hurdles\">110 m hurdles</span>,\n",
              " <span class=\"mw-headline\" id=\"400_m_hurdles\">400 m hurdles</span>,\n",
              " <span class=\"mw-headline\" id=\"3000_m_steeplechase\">3000 m steeplechase</span>,\n",
              " <span class=\"mw-headline\" id=\"4_×_100_m_relay\">4 × 100 m relay</span>,\n",
              " <span class=\"mw-headline\" id=\"4_×_400_m_relay\">4 × 400 m relay</span>,\n",
              " <span class=\"mw-headline\" id=\"Marathon\">Marathon</span>,\n",
              " <span class=\"mw-headline\" id=\"10,000_m_walk\">10,000 m walk</span>,\n",
              " <span class=\"mw-headline\" id=\"20_km_walk\">20 km walk</span>,\n",
              " <span class=\"mw-headline\" id=\"50_km_walk\">50 km walk</span>,\n",
              " <span class=\"mw-headline\" id=\"High_jump\">High jump</span>,\n",
              " <span class=\"mw-headline\" id=\"Pole_vault\">Pole vault</span>,\n",
              " <span class=\"mw-headline\" id=\"Long_jump\">Long jump</span>,\n",
              " <span class=\"mw-headline\" id=\"Triple_jump\">Triple jump</span>,\n",
              " <span class=\"mw-headline\" id=\"Shot_put\">Shot put</span>,\n",
              " <span class=\"mw-headline\" id=\"Discus_throw\">Discus throw</span>,\n",
              " <span class=\"mw-headline\" id=\"Hammer_throw\">Hammer throw</span>,\n",
              " <span class=\"mw-headline\" id=\"Javelin_throw\">Javelin throw</span>,\n",
              " <span class=\"mw-headline\" id=\"Decathlon\">Decathlon</span>,\n",
              " <span class=\"mw-headline\" id=\"Women\">Women</span>,\n",
              " <span class=\"mw-headline\" id=\"100_m_2\">100 m</span>,\n",
              " <span class=\"mw-headline\" id=\"200_m_2\">200 m</span>,\n",
              " <span class=\"mw-headline\" id=\"400_m_2\">400 m</span>,\n",
              " <span class=\"mw-headline\" id=\"800_m_2\">800 m</span>,\n",
              " <span class=\"mw-headline\" id=\"1500_m_2\">1500 m</span>,\n",
              " <span class=\"mw-headline\" id=\"3000_m\">3000 m</span>,\n",
              " <span class=\"mw-headline\" id=\"5000_m_2\">5000 m</span>,\n",
              " <span class=\"mw-headline\" id=\"10,000_m_2\">10,000 m</span>,\n",
              " <span class=\"mw-headline\" id=\"100_m_hurdles\">100 m hurdles</span>,\n",
              " <span class=\"mw-headline\" id=\"400_m_hurdles_2\">400 m hurdles</span>,\n",
              " <span class=\"mw-headline\" id=\"3000_m_steeplechase_2\">3000 m steeplechase</span>,\n",
              " <span class=\"mw-headline\" id=\"4_×_100_m_relay_2\">4 × 100 m relay</span>,\n",
              " <span class=\"mw-headline\" id=\"4_×_400_m_relay_2\">4 × 400 m relay</span>,\n",
              " <span class=\"mw-headline\" id=\"Marathon_2\">Marathon</span>,\n",
              " <span class=\"mw-headline\" id=\"10,000_m_walk_2\">10,000 m walk</span>,\n",
              " <span class=\"mw-headline\" id=\"20_km_walk_2\">20 km walk</span>,\n",
              " <span class=\"mw-headline\" id=\"High_jump_2\">High jump</span>,\n",
              " <span class=\"mw-headline\" id=\"Pole_vault_2\">Pole vault</span>,\n",
              " <span class=\"mw-headline\" id=\"Long_jump_2\">Long jump</span>,\n",
              " <span class=\"mw-headline\" id=\"Triple_jump_2\">Triple jump</span>,\n",
              " <span class=\"mw-headline\" id=\"Shot_put_2\">Shot put</span>,\n",
              " <span class=\"mw-headline\" id=\"Discus_throw_2\">Discus throw</span>,\n",
              " <span class=\"mw-headline\" id=\"Hammer_throw_2\">Hammer throw</span>,\n",
              " <span class=\"mw-headline\" id=\"Javelin_throw_2\">Javelin throw</span>,\n",
              " <span class=\"mw-headline\" id=\"Heptathlon\">Heptathlon</span>,\n",
              " <span class=\"mw-headline\" id=\"Mixed\">Mixed</span>,\n",
              " <span class=\"mw-headline\" id=\"4_×_400_m_relay_3\">4 × 400 m relay</span>,\n",
              " <span class=\"mw-headline\" id=\"See_also\">See also</span>,\n",
              " <span class=\"mw-headline\" id=\"References\">References</span>]"
            ]
          },
          "metadata": {},
          "execution_count": 344
        }
      ]
    },
    {
      "cell_type": "markdown",
      "source": [
        "Here we can see that we have category that is repeate here, and the classes that are repeated here along with last two values--> see also and references\n",
        "\n",
        "so far now we'll split tags as female,male and mixed"
      ],
      "metadata": {
        "id": "5mKaeHXOwK43"
      }
    },
    {
      "cell_type": "code",
      "source": [
        "sports_tags[1].text"
      ],
      "metadata": {
        "colab": {
          "base_uri": "https://localhost:8080/",
          "height": 36
        },
        "id": "MzmvwRixwV9m",
        "outputId": "fff0424b-641b-4129-f3f4-ff96ed31e47f"
      },
      "execution_count": null,
      "outputs": [
        {
          "output_type": "execute_result",
          "data": {
            "text/plain": [
              "'100 m'"
            ],
            "application/vnd.google.colaboratory.intrinsic+json": {
              "type": "string"
            }
          },
          "metadata": {},
          "execution_count": 345
        }
      ]
    },
    {
      "cell_type": "code",
      "source": [
        "sports_male=[]\n",
        "\n",
        "for i in range(1,26):\n",
        "  sports_male.append(sports_tags[i].text)"
      ],
      "metadata": {
        "id": "37nNKbPBwdmG"
      },
      "execution_count": null,
      "outputs": []
    },
    {
      "cell_type": "code",
      "source": [
        "len(sports_male)"
      ],
      "metadata": {
        "colab": {
          "base_uri": "https://localhost:8080/"
        },
        "id": "1Be6zPxzbZeN",
        "outputId": "0da1cb3b-f132-4a80-fb2d-67bdc63ca24b"
      },
      "execution_count": null,
      "outputs": [
        {
          "output_type": "execute_result",
          "data": {
            "text/plain": [
              "25"
            ]
          },
          "metadata": {},
          "execution_count": 347
        }
      ]
    },
    {
      "cell_type": "code",
      "source": [
        "sports_male"
      ],
      "metadata": {
        "colab": {
          "base_uri": "https://localhost:8080/"
        },
        "id": "nIeylqrezoS_",
        "outputId": "bc871218-d0bc-4c48-9009-da08814883d9"
      },
      "execution_count": null,
      "outputs": [
        {
          "output_type": "execute_result",
          "data": {
            "text/plain": [
              "['100 m',\n",
              " '200 m',\n",
              " '400 m',\n",
              " '800 m',\n",
              " '1500 m',\n",
              " '5000 m',\n",
              " '10,000 m',\n",
              " '110 m hurdles',\n",
              " '400 m hurdles',\n",
              " '3000 m steeplechase',\n",
              " '4 × 100 m relay',\n",
              " '4 × 400 m relay',\n",
              " 'Marathon',\n",
              " '10,000 m walk',\n",
              " '20 km walk',\n",
              " '50 km walk',\n",
              " 'High jump',\n",
              " 'Pole vault',\n",
              " 'Long jump',\n",
              " 'Triple jump',\n",
              " 'Shot put',\n",
              " 'Discus throw',\n",
              " 'Hammer throw',\n",
              " 'Javelin throw',\n",
              " 'Decathlon']"
            ]
          },
          "metadata": {},
          "execution_count": 348
        }
      ]
    },
    {
      "cell_type": "code",
      "source": [
        "sports_female=[]\n",
        "\n",
        "for i in range(27,52):\n",
        "  sports_female.append(sports_tags[i].text)"
      ],
      "metadata": {
        "id": "dd9wEHfsztn_"
      },
      "execution_count": null,
      "outputs": []
    },
    {
      "cell_type": "code",
      "source": [
        "len(sports_female)"
      ],
      "metadata": {
        "colab": {
          "base_uri": "https://localhost:8080/"
        },
        "id": "8_e7WTMYbdXn",
        "outputId": "b012b48e-aa8b-4464-8d30-3ec2e5d40569"
      },
      "execution_count": null,
      "outputs": [
        {
          "output_type": "execute_result",
          "data": {
            "text/plain": [
              "25"
            ]
          },
          "metadata": {},
          "execution_count": 350
        }
      ]
    },
    {
      "cell_type": "code",
      "source": [
        "sports_female"
      ],
      "metadata": {
        "colab": {
          "base_uri": "https://localhost:8080/"
        },
        "id": "7WJlWjKU0DyF",
        "outputId": "371a05dc-5c66-4e88-a74f-63fdb54f6f42"
      },
      "execution_count": null,
      "outputs": [
        {
          "output_type": "execute_result",
          "data": {
            "text/plain": [
              "['100 m',\n",
              " '200 m',\n",
              " '400 m',\n",
              " '800 m',\n",
              " '1500 m',\n",
              " '3000 m',\n",
              " '5000 m',\n",
              " '10,000 m',\n",
              " '100 m hurdles',\n",
              " '400 m hurdles',\n",
              " '3000 m steeplechase',\n",
              " '4 × 100 m relay',\n",
              " '4 × 400 m relay',\n",
              " 'Marathon',\n",
              " '10,000 m walk',\n",
              " '20 km walk',\n",
              " 'High jump',\n",
              " 'Pole vault',\n",
              " 'Long jump',\n",
              " 'Triple jump',\n",
              " 'Shot put',\n",
              " 'Discus throw',\n",
              " 'Hammer throw',\n",
              " 'Javelin throw',\n",
              " 'Heptathlon']"
            ]
          },
          "metadata": {},
          "execution_count": 351
        }
      ]
    },
    {
      "cell_type": "code",
      "source": [
        "sports_mixed=[]\n",
        "\n",
        "\n",
        "sports_mixed.append(sports_tags[53].text)\n",
        "sports_mixed"
      ],
      "metadata": {
        "colab": {
          "base_uri": "https://localhost:8080/"
        },
        "id": "Zbdm2q6R0GOH",
        "outputId": "facb673a-2fb8-4829-bbf8-a9b8ade92b3e"
      },
      "execution_count": null,
      "outputs": [
        {
          "output_type": "execute_result",
          "data": {
            "text/plain": [
              "['4 × 400 m relay']"
            ]
          },
          "metadata": {},
          "execution_count": 352
        }
      ]
    },
    {
      "cell_type": "markdown",
      "source": [
        "So totally we have 25 sports in male, 25 sports in female and 1 in mixed, which sums upto 51 categories. \n",
        "\n"
      ],
      "metadata": {
        "id": "Gki2NA5dbhO2"
      }
    },
    {
      "cell_type": "markdown",
      "source": [
        "Now we'll look into the year column."
      ],
      "metadata": {
        "id": "pdhFJ55efoRt"
      }
    },
    {
      "cell_type": "code",
      "source": [
        "table=doc.find_all('table')\n",
        "len(doc.find_all('table'))"
      ],
      "metadata": {
        "colab": {
          "base_uri": "https://localhost:8080/"
        },
        "id": "qr2Y45Vaf0L1",
        "outputId": "f5495d9a-51ec-4b8c-edb4-d55b2d1207aa"
      },
      "execution_count": null,
      "outputs": [
        {
          "output_type": "execute_result",
          "data": {
            "text/plain": [
              "54"
            ]
          },
          "metadata": {},
          "execution_count": 353
        }
      ]
    },
    {
      "cell_type": "markdown",
      "source": [
        "We have 54 tables where as we have only 51 categories. \n",
        "\n",
        "We need to be careful when creating a dataframe with tables with those categories such that each categories matches with the table."
      ],
      "metadata": {
        "id": "jEUXTn5Rb1wN"
      }
    },
    {
      "cell_type": "code",
      "source": [
        "table[0].text\n"
      ],
      "metadata": {
        "colab": {
          "base_uri": "https://localhost:8080/",
          "height": 128
        },
        "id": "MOkL_V6Tnkue",
        "outputId": "2b51d680-a446-4c70-8dac-7c0a85446f58"
      },
      "execution_count": null,
      "outputs": [
        {
          "output_type": "execute_result",
          "data": {
            "text/plain": [
              "'\\n\\nGames\\n\\nGold\\n\\nSilver\\n\\nBronze\\n\\n\\n1951 New Delhi\\n\\n\\xa0Lavy Pinto\\xa0(IND)\\n\\n\\xa0Toshihiro Ohashi\\xa0(JPN)\\n\\n\\xa0Tomio Hosoda\\xa0(JPN)\\n\\n\\n1954 Manila\\n\\n\\xa0Abdul Khaliq\\xa0(PAK)\\n\\n\\xa0Genaro Cabrera\\xa0(PHI)\\n\\n\\xa0Marian Gabriel\\xa0(IND)\\n\\n\\n1958 Tokyo\\n\\n\\xa0Abdul Khaliq\\xa0(PAK)\\n\\n\\xa0Kyohei Ushio\\xa0(JPN)\\n\\n\\xa0Isaac Gomez\\xa0(PHI)\\n\\n\\n1962 Jakarta\\n\\n\\xa0Mohammad Sarengat\\xa0(INA)\\n\\n\\xa0Mani Jegathesan\\xa0(MAL)\\n\\n\\xa0Rogelio Onofre\\xa0(PHI)\\n\\n\\n1966 Bangkok\\n\\n\\xa0Mani Jegathesan\\xa0(MAL)\\n\\n\\xa0C. Kunalan\\xa0(SIN)\\n\\n\\xa0Hideo Iijima\\xa0(JPN)\\n\\n\\n1970 Bangkok\\n\\n\\xa0Masahide Jinno\\xa0(JPN)\\n\\n\\xa0Anat Ratanapol\\xa0(THA)\\n\\n\\xa0C. Kunalan\\xa0(SIN)\\n\\n\\n1974 Tehran\\n\\n\\xa0Anat Ratanapol\\xa0(THA)\\n\\n\\xa0Masahide Jinno\\xa0(JPN)\\n\\n\\xa0Suchart Jairsuraparp\\xa0(THA)\\n\\n\\n1978 Bangkok\\n\\n\\xa0Suchart Jairsuraparp\\xa0(THA)\\n\\n\\xa0Ramaswamy Gnanasekaran\\xa0(IND)\\n\\n\\xa0Suh Mal-gu\\xa0(KOR)\\n\\n\\n1982 New Delhi\\n\\n\\xa0Rabuan Pit\\xa0(MAL)\\n\\n\\xa0Jang Jae-keun\\xa0(KOR)\\n\\n\\xa0Suchart Jairsuraparp\\xa0(THA)\\n\\n\\n1986 Seoul\\n\\n\\xa0Talal Mansour\\xa0(QAT)\\n\\n\\xa0Hiroki Fuwa\\xa0(JPN)\\n\\n\\xa0Zheng Chen\\xa0(CHN)\\n\\n\\n1990 Beijing\\n\\n\\xa0Talal Mansour\\xa0(QAT)\\n\\n\\xa0Zheng Chen\\xa0(CHN)\\n\\n\\xa0Sriyantha Dissanayake\\xa0(SRI)\\n\\n\\n1994 Hiroshima\\n\\n\\xa0Talal Mansour\\xa0(QAT)\\n\\n\\xa0Vitaliy Savin\\xa0(KAZ)\\n\\n\\xa0Chen Wenzhong\\xa0(CHN)\\n\\n\\n1998 Bangkok\\n\\n\\xa0Koji Ito\\xa0(JPN)\\n\\n\\xa0Reanchai Seeharwong\\xa0(THA)\\n\\n\\xa0Yasukatsu Otsuki\\xa0(JPN)\\n\\n\\n2002 Busan\\n\\n\\xa0Jamal Al-Saffar\\xa0(KSA)\\n\\n\\xa0Nobuharu Asahara\\xa0(JPN)\\n\\n\\xa0Chen Haijian\\xa0(CHN)\\n\\n\\n2006 Doha\\n\\n\\xa0Yahya Habeeb\\xa0(KSA)\\n\\n\\xa0Naoki Tsukahara\\xa0(JPN)\\n\\n\\xa0Wachara Sondee\\xa0(THA)\\n\\n\\n2010 Guangzhou\\n\\n\\xa0Lao Yi\\xa0(CHN)\\n\\n\\xa0Yasser Al-Nasheri\\xa0(KSA)\\n\\n\\xa0Barakat Al-Harthi\\xa0(OMA)\\n\\n\\n2014 Incheon\\n\\n\\xa0Femi Ogunode\\xa0(QAT)\\n\\n\\xa0Su Bingtian\\xa0(CHN)\\n\\n\\xa0Kei Takase\\xa0(JPN)\\n\\n\\n2018 Jakarta–Palembang\\n\\n\\xa0Su Bingtian\\xa0(CHN)\\n\\n\\xa0Tosin Ogunode\\xa0(QAT)\\n\\n\\xa0Ryota Yamagata\\xa0(JPN)\\n'"
            ],
            "application/vnd.google.colaboratory.intrinsic+json": {
              "type": "string"
            }
          },
          "metadata": {},
          "execution_count": 354
        }
      ]
    },
    {
      "cell_type": "code",
      "source": [
        "import pandas as pd\n",
        "\n",
        "df=pd.read_html(str(table[0]))\n",
        "# convert list to dataframe\n",
        "df=pd.DataFrame(df[0])\n",
        "df.head()"
      ],
      "metadata": {
        "colab": {
          "base_uri": "https://localhost:8080/",
          "height": 206
        },
        "id": "rnSKl7BXsJXl",
        "outputId": "02349494-50c9-41b3-d4ec-6116a9968a2b"
      },
      "execution_count": null,
      "outputs": [
        {
          "output_type": "execute_result",
          "data": {
            "text/plain": [
              "            Games                     Gold                  Silver  \\\n",
              "0  1951 New Delhi         Lavy Pinto (IND)  Toshihiro Ohashi (JPN)   \n",
              "1     1954 Manila       Abdul Khaliq (PAK)    Genaro Cabrera (PHI)   \n",
              "2      1958 Tokyo       Abdul Khaliq (PAK)      Kyohei Ushio (JPN)   \n",
              "3    1962 Jakarta  Mohammad Sarengat (INA)   Mani Jegathesan (MAL)   \n",
              "4    1966 Bangkok    Mani Jegathesan (MAL)        C. Kunalan (SIN)   \n",
              "\n",
              "                 Bronze  \n",
              "0    Tomio Hosoda (JPN)  \n",
              "1  Marian Gabriel (IND)  \n",
              "2     Isaac Gomez (PHI)  \n",
              "3  Rogelio Onofre (PHI)  \n",
              "4    Hideo Iijima (JPN)  "
            ],
            "text/html": [
              "\n",
              "  <div id=\"df-8689599e-4afc-4f67-af37-40f87dff89d8\">\n",
              "    <div class=\"colab-df-container\">\n",
              "      <div>\n",
              "<style scoped>\n",
              "    .dataframe tbody tr th:only-of-type {\n",
              "        vertical-align: middle;\n",
              "    }\n",
              "\n",
              "    .dataframe tbody tr th {\n",
              "        vertical-align: top;\n",
              "    }\n",
              "\n",
              "    .dataframe thead th {\n",
              "        text-align: right;\n",
              "    }\n",
              "</style>\n",
              "<table border=\"1\" class=\"dataframe\">\n",
              "  <thead>\n",
              "    <tr style=\"text-align: right;\">\n",
              "      <th></th>\n",
              "      <th>Games</th>\n",
              "      <th>Gold</th>\n",
              "      <th>Silver</th>\n",
              "      <th>Bronze</th>\n",
              "    </tr>\n",
              "  </thead>\n",
              "  <tbody>\n",
              "    <tr>\n",
              "      <th>0</th>\n",
              "      <td>1951 New Delhi</td>\n",
              "      <td>Lavy Pinto (IND)</td>\n",
              "      <td>Toshihiro Ohashi (JPN)</td>\n",
              "      <td>Tomio Hosoda (JPN)</td>\n",
              "    </tr>\n",
              "    <tr>\n",
              "      <th>1</th>\n",
              "      <td>1954 Manila</td>\n",
              "      <td>Abdul Khaliq (PAK)</td>\n",
              "      <td>Genaro Cabrera (PHI)</td>\n",
              "      <td>Marian Gabriel (IND)</td>\n",
              "    </tr>\n",
              "    <tr>\n",
              "      <th>2</th>\n",
              "      <td>1958 Tokyo</td>\n",
              "      <td>Abdul Khaliq (PAK)</td>\n",
              "      <td>Kyohei Ushio (JPN)</td>\n",
              "      <td>Isaac Gomez (PHI)</td>\n",
              "    </tr>\n",
              "    <tr>\n",
              "      <th>3</th>\n",
              "      <td>1962 Jakarta</td>\n",
              "      <td>Mohammad Sarengat (INA)</td>\n",
              "      <td>Mani Jegathesan (MAL)</td>\n",
              "      <td>Rogelio Onofre (PHI)</td>\n",
              "    </tr>\n",
              "    <tr>\n",
              "      <th>4</th>\n",
              "      <td>1966 Bangkok</td>\n",
              "      <td>Mani Jegathesan (MAL)</td>\n",
              "      <td>C. Kunalan (SIN)</td>\n",
              "      <td>Hideo Iijima (JPN)</td>\n",
              "    </tr>\n",
              "  </tbody>\n",
              "</table>\n",
              "</div>\n",
              "      <button class=\"colab-df-convert\" onclick=\"convertToInteractive('df-8689599e-4afc-4f67-af37-40f87dff89d8')\"\n",
              "              title=\"Convert this dataframe to an interactive table.\"\n",
              "              style=\"display:none;\">\n",
              "        \n",
              "  <svg xmlns=\"http://www.w3.org/2000/svg\" height=\"24px\"viewBox=\"0 0 24 24\"\n",
              "       width=\"24px\">\n",
              "    <path d=\"M0 0h24v24H0V0z\" fill=\"none\"/>\n",
              "    <path d=\"M18.56 5.44l.94 2.06.94-2.06 2.06-.94-2.06-.94-.94-2.06-.94 2.06-2.06.94zm-11 1L8.5 8.5l.94-2.06 2.06-.94-2.06-.94L8.5 2.5l-.94 2.06-2.06.94zm10 10l.94 2.06.94-2.06 2.06-.94-2.06-.94-.94-2.06-.94 2.06-2.06.94z\"/><path d=\"M17.41 7.96l-1.37-1.37c-.4-.4-.92-.59-1.43-.59-.52 0-1.04.2-1.43.59L10.3 9.45l-7.72 7.72c-.78.78-.78 2.05 0 2.83L4 21.41c.39.39.9.59 1.41.59.51 0 1.02-.2 1.41-.59l7.78-7.78 2.81-2.81c.8-.78.8-2.07 0-2.86zM5.41 20L4 18.59l7.72-7.72 1.47 1.35L5.41 20z\"/>\n",
              "  </svg>\n",
              "      </button>\n",
              "      \n",
              "  <style>\n",
              "    .colab-df-container {\n",
              "      display:flex;\n",
              "      flex-wrap:wrap;\n",
              "      gap: 12px;\n",
              "    }\n",
              "\n",
              "    .colab-df-convert {\n",
              "      background-color: #E8F0FE;\n",
              "      border: none;\n",
              "      border-radius: 50%;\n",
              "      cursor: pointer;\n",
              "      display: none;\n",
              "      fill: #1967D2;\n",
              "      height: 32px;\n",
              "      padding: 0 0 0 0;\n",
              "      width: 32px;\n",
              "    }\n",
              "\n",
              "    .colab-df-convert:hover {\n",
              "      background-color: #E2EBFA;\n",
              "      box-shadow: 0px 1px 2px rgba(60, 64, 67, 0.3), 0px 1px 3px 1px rgba(60, 64, 67, 0.15);\n",
              "      fill: #174EA6;\n",
              "    }\n",
              "\n",
              "    [theme=dark] .colab-df-convert {\n",
              "      background-color: #3B4455;\n",
              "      fill: #D2E3FC;\n",
              "    }\n",
              "\n",
              "    [theme=dark] .colab-df-convert:hover {\n",
              "      background-color: #434B5C;\n",
              "      box-shadow: 0px 1px 3px 1px rgba(0, 0, 0, 0.15);\n",
              "      filter: drop-shadow(0px 1px 2px rgba(0, 0, 0, 0.3));\n",
              "      fill: #FFFFFF;\n",
              "    }\n",
              "  </style>\n",
              "\n",
              "      <script>\n",
              "        const buttonEl =\n",
              "          document.querySelector('#df-8689599e-4afc-4f67-af37-40f87dff89d8 button.colab-df-convert');\n",
              "        buttonEl.style.display =\n",
              "          google.colab.kernel.accessAllowed ? 'block' : 'none';\n",
              "\n",
              "        async function convertToInteractive(key) {\n",
              "          const element = document.querySelector('#df-8689599e-4afc-4f67-af37-40f87dff89d8');\n",
              "          const dataTable =\n",
              "            await google.colab.kernel.invokeFunction('convertToInteractive',\n",
              "                                                     [key], {});\n",
              "          if (!dataTable) return;\n",
              "\n",
              "          const docLinkHtml = 'Like what you see? Visit the ' +\n",
              "            '<a target=\"_blank\" href=https://colab.research.google.com/notebooks/data_table.ipynb>data table notebook</a>'\n",
              "            + ' to learn more about interactive tables.';\n",
              "          element.innerHTML = '';\n",
              "          dataTable['output_type'] = 'display_data';\n",
              "          await google.colab.output.renderOutput(dataTable, element);\n",
              "          const docLink = document.createElement('div');\n",
              "          docLink.innerHTML = docLinkHtml;\n",
              "          element.appendChild(docLink);\n",
              "        }\n",
              "      </script>\n",
              "    </div>\n",
              "  </div>\n",
              "  "
            ]
          },
          "metadata": {},
          "execution_count": 355
        }
      ]
    },
    {
      "cell_type": "markdown",
      "source": [
        "Here we need to modify and add few things\n",
        "\n",
        "1. I need to add gender and sports with this dataframe\n",
        "2. I need to change the column name of Games to Year an extract only the year\n",
        "3. I need only the country name from the other three columns"
      ],
      "metadata": {
        "id": "bW00KlVZMzeq"
      }
    },
    {
      "cell_type": "code",
      "source": [
        "#making our changes\n",
        "#adding columns\n",
        "df['Category']='Male'\n",
        "df['Sports']= sports_male[0]\n",
        "df.head()\n"
      ],
      "metadata": {
        "colab": {
          "base_uri": "https://localhost:8080/",
          "height": 206
        },
        "id": "JgLDRbwJNn2w",
        "outputId": "29679d5a-bb8b-4a6f-c786-d5a6efdc05d2"
      },
      "execution_count": null,
      "outputs": [
        {
          "output_type": "execute_result",
          "data": {
            "text/plain": [
              "            Games                     Gold                  Silver  \\\n",
              "0  1951 New Delhi         Lavy Pinto (IND)  Toshihiro Ohashi (JPN)   \n",
              "1     1954 Manila       Abdul Khaliq (PAK)    Genaro Cabrera (PHI)   \n",
              "2      1958 Tokyo       Abdul Khaliq (PAK)      Kyohei Ushio (JPN)   \n",
              "3    1962 Jakarta  Mohammad Sarengat (INA)   Mani Jegathesan (MAL)   \n",
              "4    1966 Bangkok    Mani Jegathesan (MAL)        C. Kunalan (SIN)   \n",
              "\n",
              "                 Bronze Category Sports  \n",
              "0    Tomio Hosoda (JPN)     Male  100 m  \n",
              "1  Marian Gabriel (IND)     Male  100 m  \n",
              "2     Isaac Gomez (PHI)     Male  100 m  \n",
              "3  Rogelio Onofre (PHI)     Male  100 m  \n",
              "4    Hideo Iijima (JPN)     Male  100 m  "
            ],
            "text/html": [
              "\n",
              "  <div id=\"df-7faf6676-ca3e-423e-9644-9d5bd17dad93\">\n",
              "    <div class=\"colab-df-container\">\n",
              "      <div>\n",
              "<style scoped>\n",
              "    .dataframe tbody tr th:only-of-type {\n",
              "        vertical-align: middle;\n",
              "    }\n",
              "\n",
              "    .dataframe tbody tr th {\n",
              "        vertical-align: top;\n",
              "    }\n",
              "\n",
              "    .dataframe thead th {\n",
              "        text-align: right;\n",
              "    }\n",
              "</style>\n",
              "<table border=\"1\" class=\"dataframe\">\n",
              "  <thead>\n",
              "    <tr style=\"text-align: right;\">\n",
              "      <th></th>\n",
              "      <th>Games</th>\n",
              "      <th>Gold</th>\n",
              "      <th>Silver</th>\n",
              "      <th>Bronze</th>\n",
              "      <th>Category</th>\n",
              "      <th>Sports</th>\n",
              "    </tr>\n",
              "  </thead>\n",
              "  <tbody>\n",
              "    <tr>\n",
              "      <th>0</th>\n",
              "      <td>1951 New Delhi</td>\n",
              "      <td>Lavy Pinto (IND)</td>\n",
              "      <td>Toshihiro Ohashi (JPN)</td>\n",
              "      <td>Tomio Hosoda (JPN)</td>\n",
              "      <td>Male</td>\n",
              "      <td>100 m</td>\n",
              "    </tr>\n",
              "    <tr>\n",
              "      <th>1</th>\n",
              "      <td>1954 Manila</td>\n",
              "      <td>Abdul Khaliq (PAK)</td>\n",
              "      <td>Genaro Cabrera (PHI)</td>\n",
              "      <td>Marian Gabriel (IND)</td>\n",
              "      <td>Male</td>\n",
              "      <td>100 m</td>\n",
              "    </tr>\n",
              "    <tr>\n",
              "      <th>2</th>\n",
              "      <td>1958 Tokyo</td>\n",
              "      <td>Abdul Khaliq (PAK)</td>\n",
              "      <td>Kyohei Ushio (JPN)</td>\n",
              "      <td>Isaac Gomez (PHI)</td>\n",
              "      <td>Male</td>\n",
              "      <td>100 m</td>\n",
              "    </tr>\n",
              "    <tr>\n",
              "      <th>3</th>\n",
              "      <td>1962 Jakarta</td>\n",
              "      <td>Mohammad Sarengat (INA)</td>\n",
              "      <td>Mani Jegathesan (MAL)</td>\n",
              "      <td>Rogelio Onofre (PHI)</td>\n",
              "      <td>Male</td>\n",
              "      <td>100 m</td>\n",
              "    </tr>\n",
              "    <tr>\n",
              "      <th>4</th>\n",
              "      <td>1966 Bangkok</td>\n",
              "      <td>Mani Jegathesan (MAL)</td>\n",
              "      <td>C. Kunalan (SIN)</td>\n",
              "      <td>Hideo Iijima (JPN)</td>\n",
              "      <td>Male</td>\n",
              "      <td>100 m</td>\n",
              "    </tr>\n",
              "  </tbody>\n",
              "</table>\n",
              "</div>\n",
              "      <button class=\"colab-df-convert\" onclick=\"convertToInteractive('df-7faf6676-ca3e-423e-9644-9d5bd17dad93')\"\n",
              "              title=\"Convert this dataframe to an interactive table.\"\n",
              "              style=\"display:none;\">\n",
              "        \n",
              "  <svg xmlns=\"http://www.w3.org/2000/svg\" height=\"24px\"viewBox=\"0 0 24 24\"\n",
              "       width=\"24px\">\n",
              "    <path d=\"M0 0h24v24H0V0z\" fill=\"none\"/>\n",
              "    <path d=\"M18.56 5.44l.94 2.06.94-2.06 2.06-.94-2.06-.94-.94-2.06-.94 2.06-2.06.94zm-11 1L8.5 8.5l.94-2.06 2.06-.94-2.06-.94L8.5 2.5l-.94 2.06-2.06.94zm10 10l.94 2.06.94-2.06 2.06-.94-2.06-.94-.94-2.06-.94 2.06-2.06.94z\"/><path d=\"M17.41 7.96l-1.37-1.37c-.4-.4-.92-.59-1.43-.59-.52 0-1.04.2-1.43.59L10.3 9.45l-7.72 7.72c-.78.78-.78 2.05 0 2.83L4 21.41c.39.39.9.59 1.41.59.51 0 1.02-.2 1.41-.59l7.78-7.78 2.81-2.81c.8-.78.8-2.07 0-2.86zM5.41 20L4 18.59l7.72-7.72 1.47 1.35L5.41 20z\"/>\n",
              "  </svg>\n",
              "      </button>\n",
              "      \n",
              "  <style>\n",
              "    .colab-df-container {\n",
              "      display:flex;\n",
              "      flex-wrap:wrap;\n",
              "      gap: 12px;\n",
              "    }\n",
              "\n",
              "    .colab-df-convert {\n",
              "      background-color: #E8F0FE;\n",
              "      border: none;\n",
              "      border-radius: 50%;\n",
              "      cursor: pointer;\n",
              "      display: none;\n",
              "      fill: #1967D2;\n",
              "      height: 32px;\n",
              "      padding: 0 0 0 0;\n",
              "      width: 32px;\n",
              "    }\n",
              "\n",
              "    .colab-df-convert:hover {\n",
              "      background-color: #E2EBFA;\n",
              "      box-shadow: 0px 1px 2px rgba(60, 64, 67, 0.3), 0px 1px 3px 1px rgba(60, 64, 67, 0.15);\n",
              "      fill: #174EA6;\n",
              "    }\n",
              "\n",
              "    [theme=dark] .colab-df-convert {\n",
              "      background-color: #3B4455;\n",
              "      fill: #D2E3FC;\n",
              "    }\n",
              "\n",
              "    [theme=dark] .colab-df-convert:hover {\n",
              "      background-color: #434B5C;\n",
              "      box-shadow: 0px 1px 3px 1px rgba(0, 0, 0, 0.15);\n",
              "      filter: drop-shadow(0px 1px 2px rgba(0, 0, 0, 0.3));\n",
              "      fill: #FFFFFF;\n",
              "    }\n",
              "  </style>\n",
              "\n",
              "      <script>\n",
              "        const buttonEl =\n",
              "          document.querySelector('#df-7faf6676-ca3e-423e-9644-9d5bd17dad93 button.colab-df-convert');\n",
              "        buttonEl.style.display =\n",
              "          google.colab.kernel.accessAllowed ? 'block' : 'none';\n",
              "\n",
              "        async function convertToInteractive(key) {\n",
              "          const element = document.querySelector('#df-7faf6676-ca3e-423e-9644-9d5bd17dad93');\n",
              "          const dataTable =\n",
              "            await google.colab.kernel.invokeFunction('convertToInteractive',\n",
              "                                                     [key], {});\n",
              "          if (!dataTable) return;\n",
              "\n",
              "          const docLinkHtml = 'Like what you see? Visit the ' +\n",
              "            '<a target=\"_blank\" href=https://colab.research.google.com/notebooks/data_table.ipynb>data table notebook</a>'\n",
              "            + ' to learn more about interactive tables.';\n",
              "          element.innerHTML = '';\n",
              "          dataTable['output_type'] = 'display_data';\n",
              "          await google.colab.output.renderOutput(dataTable, element);\n",
              "          const docLink = document.createElement('div');\n",
              "          docLink.innerHTML = docLinkHtml;\n",
              "          element.appendChild(docLink);\n",
              "        }\n",
              "      </script>\n",
              "    </div>\n",
              "  </div>\n",
              "  "
            ]
          },
          "metadata": {},
          "execution_count": 356
        }
      ]
    },
    {
      "cell_type": "code",
      "source": [
        "#changing column name\n",
        "\n",
        "df.rename(columns = {'Games':'Year'}, inplace = True)\n",
        "df.head()"
      ],
      "metadata": {
        "colab": {
          "base_uri": "https://localhost:8080/",
          "height": 206
        },
        "id": "4TWgHGBrOXFQ",
        "outputId": "ccba9f3e-311a-450a-c036-ebf66afef903"
      },
      "execution_count": null,
      "outputs": [
        {
          "output_type": "execute_result",
          "data": {
            "text/plain": [
              "             Year                     Gold                  Silver  \\\n",
              "0  1951 New Delhi         Lavy Pinto (IND)  Toshihiro Ohashi (JPN)   \n",
              "1     1954 Manila       Abdul Khaliq (PAK)    Genaro Cabrera (PHI)   \n",
              "2      1958 Tokyo       Abdul Khaliq (PAK)      Kyohei Ushio (JPN)   \n",
              "3    1962 Jakarta  Mohammad Sarengat (INA)   Mani Jegathesan (MAL)   \n",
              "4    1966 Bangkok    Mani Jegathesan (MAL)        C. Kunalan (SIN)   \n",
              "\n",
              "                 Bronze Category Sports  \n",
              "0    Tomio Hosoda (JPN)     Male  100 m  \n",
              "1  Marian Gabriel (IND)     Male  100 m  \n",
              "2     Isaac Gomez (PHI)     Male  100 m  \n",
              "3  Rogelio Onofre (PHI)     Male  100 m  \n",
              "4    Hideo Iijima (JPN)     Male  100 m  "
            ],
            "text/html": [
              "\n",
              "  <div id=\"df-cbd8c087-e1d2-46e3-857c-0efb107dd618\">\n",
              "    <div class=\"colab-df-container\">\n",
              "      <div>\n",
              "<style scoped>\n",
              "    .dataframe tbody tr th:only-of-type {\n",
              "        vertical-align: middle;\n",
              "    }\n",
              "\n",
              "    .dataframe tbody tr th {\n",
              "        vertical-align: top;\n",
              "    }\n",
              "\n",
              "    .dataframe thead th {\n",
              "        text-align: right;\n",
              "    }\n",
              "</style>\n",
              "<table border=\"1\" class=\"dataframe\">\n",
              "  <thead>\n",
              "    <tr style=\"text-align: right;\">\n",
              "      <th></th>\n",
              "      <th>Year</th>\n",
              "      <th>Gold</th>\n",
              "      <th>Silver</th>\n",
              "      <th>Bronze</th>\n",
              "      <th>Category</th>\n",
              "      <th>Sports</th>\n",
              "    </tr>\n",
              "  </thead>\n",
              "  <tbody>\n",
              "    <tr>\n",
              "      <th>0</th>\n",
              "      <td>1951 New Delhi</td>\n",
              "      <td>Lavy Pinto (IND)</td>\n",
              "      <td>Toshihiro Ohashi (JPN)</td>\n",
              "      <td>Tomio Hosoda (JPN)</td>\n",
              "      <td>Male</td>\n",
              "      <td>100 m</td>\n",
              "    </tr>\n",
              "    <tr>\n",
              "      <th>1</th>\n",
              "      <td>1954 Manila</td>\n",
              "      <td>Abdul Khaliq (PAK)</td>\n",
              "      <td>Genaro Cabrera (PHI)</td>\n",
              "      <td>Marian Gabriel (IND)</td>\n",
              "      <td>Male</td>\n",
              "      <td>100 m</td>\n",
              "    </tr>\n",
              "    <tr>\n",
              "      <th>2</th>\n",
              "      <td>1958 Tokyo</td>\n",
              "      <td>Abdul Khaliq (PAK)</td>\n",
              "      <td>Kyohei Ushio (JPN)</td>\n",
              "      <td>Isaac Gomez (PHI)</td>\n",
              "      <td>Male</td>\n",
              "      <td>100 m</td>\n",
              "    </tr>\n",
              "    <tr>\n",
              "      <th>3</th>\n",
              "      <td>1962 Jakarta</td>\n",
              "      <td>Mohammad Sarengat (INA)</td>\n",
              "      <td>Mani Jegathesan (MAL)</td>\n",
              "      <td>Rogelio Onofre (PHI)</td>\n",
              "      <td>Male</td>\n",
              "      <td>100 m</td>\n",
              "    </tr>\n",
              "    <tr>\n",
              "      <th>4</th>\n",
              "      <td>1966 Bangkok</td>\n",
              "      <td>Mani Jegathesan (MAL)</td>\n",
              "      <td>C. Kunalan (SIN)</td>\n",
              "      <td>Hideo Iijima (JPN)</td>\n",
              "      <td>Male</td>\n",
              "      <td>100 m</td>\n",
              "    </tr>\n",
              "  </tbody>\n",
              "</table>\n",
              "</div>\n",
              "      <button class=\"colab-df-convert\" onclick=\"convertToInteractive('df-cbd8c087-e1d2-46e3-857c-0efb107dd618')\"\n",
              "              title=\"Convert this dataframe to an interactive table.\"\n",
              "              style=\"display:none;\">\n",
              "        \n",
              "  <svg xmlns=\"http://www.w3.org/2000/svg\" height=\"24px\"viewBox=\"0 0 24 24\"\n",
              "       width=\"24px\">\n",
              "    <path d=\"M0 0h24v24H0V0z\" fill=\"none\"/>\n",
              "    <path d=\"M18.56 5.44l.94 2.06.94-2.06 2.06-.94-2.06-.94-.94-2.06-.94 2.06-2.06.94zm-11 1L8.5 8.5l.94-2.06 2.06-.94-2.06-.94L8.5 2.5l-.94 2.06-2.06.94zm10 10l.94 2.06.94-2.06 2.06-.94-2.06-.94-.94-2.06-.94 2.06-2.06.94z\"/><path d=\"M17.41 7.96l-1.37-1.37c-.4-.4-.92-.59-1.43-.59-.52 0-1.04.2-1.43.59L10.3 9.45l-7.72 7.72c-.78.78-.78 2.05 0 2.83L4 21.41c.39.39.9.59 1.41.59.51 0 1.02-.2 1.41-.59l7.78-7.78 2.81-2.81c.8-.78.8-2.07 0-2.86zM5.41 20L4 18.59l7.72-7.72 1.47 1.35L5.41 20z\"/>\n",
              "  </svg>\n",
              "      </button>\n",
              "      \n",
              "  <style>\n",
              "    .colab-df-container {\n",
              "      display:flex;\n",
              "      flex-wrap:wrap;\n",
              "      gap: 12px;\n",
              "    }\n",
              "\n",
              "    .colab-df-convert {\n",
              "      background-color: #E8F0FE;\n",
              "      border: none;\n",
              "      border-radius: 50%;\n",
              "      cursor: pointer;\n",
              "      display: none;\n",
              "      fill: #1967D2;\n",
              "      height: 32px;\n",
              "      padding: 0 0 0 0;\n",
              "      width: 32px;\n",
              "    }\n",
              "\n",
              "    .colab-df-convert:hover {\n",
              "      background-color: #E2EBFA;\n",
              "      box-shadow: 0px 1px 2px rgba(60, 64, 67, 0.3), 0px 1px 3px 1px rgba(60, 64, 67, 0.15);\n",
              "      fill: #174EA6;\n",
              "    }\n",
              "\n",
              "    [theme=dark] .colab-df-convert {\n",
              "      background-color: #3B4455;\n",
              "      fill: #D2E3FC;\n",
              "    }\n",
              "\n",
              "    [theme=dark] .colab-df-convert:hover {\n",
              "      background-color: #434B5C;\n",
              "      box-shadow: 0px 1px 3px 1px rgba(0, 0, 0, 0.15);\n",
              "      filter: drop-shadow(0px 1px 2px rgba(0, 0, 0, 0.3));\n",
              "      fill: #FFFFFF;\n",
              "    }\n",
              "  </style>\n",
              "\n",
              "      <script>\n",
              "        const buttonEl =\n",
              "          document.querySelector('#df-cbd8c087-e1d2-46e3-857c-0efb107dd618 button.colab-df-convert');\n",
              "        buttonEl.style.display =\n",
              "          google.colab.kernel.accessAllowed ? 'block' : 'none';\n",
              "\n",
              "        async function convertToInteractive(key) {\n",
              "          const element = document.querySelector('#df-cbd8c087-e1d2-46e3-857c-0efb107dd618');\n",
              "          const dataTable =\n",
              "            await google.colab.kernel.invokeFunction('convertToInteractive',\n",
              "                                                     [key], {});\n",
              "          if (!dataTable) return;\n",
              "\n",
              "          const docLinkHtml = 'Like what you see? Visit the ' +\n",
              "            '<a target=\"_blank\" href=https://colab.research.google.com/notebooks/data_table.ipynb>data table notebook</a>'\n",
              "            + ' to learn more about interactive tables.';\n",
              "          element.innerHTML = '';\n",
              "          dataTable['output_type'] = 'display_data';\n",
              "          await google.colab.output.renderOutput(dataTable, element);\n",
              "          const docLink = document.createElement('div');\n",
              "          docLink.innerHTML = docLinkHtml;\n",
              "          element.appendChild(docLink);\n",
              "        }\n",
              "      </script>\n",
              "    </div>\n",
              "  </div>\n",
              "  "
            ]
          },
          "metadata": {},
          "execution_count": 357
        }
      ]
    },
    {
      "cell_type": "code",
      "source": [
        "\"\"\" a= '1951 New Delhi'\n",
        "\n",
        "a= a.split(' ')\n",
        "a= a[0]\n",
        "a ---> 1951\n",
        "\n",
        "\"\"\"\n",
        "\n",
        "def get_year(year):\n",
        "  year=year.split(' ')[0]\n",
        "  return year\n",
        "\n",
        "df['Year']= df['Year'].apply(get_year)\n",
        "\n",
        "df.head()"
      ],
      "metadata": {
        "id": "2bJAHyIFQlnQ",
        "colab": {
          "base_uri": "https://localhost:8080/",
          "height": 206
        },
        "outputId": "5656f614-9e2d-4d0b-97a8-2c3ea8c11c79"
      },
      "execution_count": null,
      "outputs": [
        {
          "output_type": "execute_result",
          "data": {
            "text/plain": [
              "   Year                     Gold                  Silver  \\\n",
              "0  1951         Lavy Pinto (IND)  Toshihiro Ohashi (JPN)   \n",
              "1  1954       Abdul Khaliq (PAK)    Genaro Cabrera (PHI)   \n",
              "2  1958       Abdul Khaliq (PAK)      Kyohei Ushio (JPN)   \n",
              "3  1962  Mohammad Sarengat (INA)   Mani Jegathesan (MAL)   \n",
              "4  1966    Mani Jegathesan (MAL)        C. Kunalan (SIN)   \n",
              "\n",
              "                 Bronze Category Sports  \n",
              "0    Tomio Hosoda (JPN)     Male  100 m  \n",
              "1  Marian Gabriel (IND)     Male  100 m  \n",
              "2     Isaac Gomez (PHI)     Male  100 m  \n",
              "3  Rogelio Onofre (PHI)     Male  100 m  \n",
              "4    Hideo Iijima (JPN)     Male  100 m  "
            ],
            "text/html": [
              "\n",
              "  <div id=\"df-69bb555f-74d0-4525-b49b-4d64c7a3906e\">\n",
              "    <div class=\"colab-df-container\">\n",
              "      <div>\n",
              "<style scoped>\n",
              "    .dataframe tbody tr th:only-of-type {\n",
              "        vertical-align: middle;\n",
              "    }\n",
              "\n",
              "    .dataframe tbody tr th {\n",
              "        vertical-align: top;\n",
              "    }\n",
              "\n",
              "    .dataframe thead th {\n",
              "        text-align: right;\n",
              "    }\n",
              "</style>\n",
              "<table border=\"1\" class=\"dataframe\">\n",
              "  <thead>\n",
              "    <tr style=\"text-align: right;\">\n",
              "      <th></th>\n",
              "      <th>Year</th>\n",
              "      <th>Gold</th>\n",
              "      <th>Silver</th>\n",
              "      <th>Bronze</th>\n",
              "      <th>Category</th>\n",
              "      <th>Sports</th>\n",
              "    </tr>\n",
              "  </thead>\n",
              "  <tbody>\n",
              "    <tr>\n",
              "      <th>0</th>\n",
              "      <td>1951</td>\n",
              "      <td>Lavy Pinto (IND)</td>\n",
              "      <td>Toshihiro Ohashi (JPN)</td>\n",
              "      <td>Tomio Hosoda (JPN)</td>\n",
              "      <td>Male</td>\n",
              "      <td>100 m</td>\n",
              "    </tr>\n",
              "    <tr>\n",
              "      <th>1</th>\n",
              "      <td>1954</td>\n",
              "      <td>Abdul Khaliq (PAK)</td>\n",
              "      <td>Genaro Cabrera (PHI)</td>\n",
              "      <td>Marian Gabriel (IND)</td>\n",
              "      <td>Male</td>\n",
              "      <td>100 m</td>\n",
              "    </tr>\n",
              "    <tr>\n",
              "      <th>2</th>\n",
              "      <td>1958</td>\n",
              "      <td>Abdul Khaliq (PAK)</td>\n",
              "      <td>Kyohei Ushio (JPN)</td>\n",
              "      <td>Isaac Gomez (PHI)</td>\n",
              "      <td>Male</td>\n",
              "      <td>100 m</td>\n",
              "    </tr>\n",
              "    <tr>\n",
              "      <th>3</th>\n",
              "      <td>1962</td>\n",
              "      <td>Mohammad Sarengat (INA)</td>\n",
              "      <td>Mani Jegathesan (MAL)</td>\n",
              "      <td>Rogelio Onofre (PHI)</td>\n",
              "      <td>Male</td>\n",
              "      <td>100 m</td>\n",
              "    </tr>\n",
              "    <tr>\n",
              "      <th>4</th>\n",
              "      <td>1966</td>\n",
              "      <td>Mani Jegathesan (MAL)</td>\n",
              "      <td>C. Kunalan (SIN)</td>\n",
              "      <td>Hideo Iijima (JPN)</td>\n",
              "      <td>Male</td>\n",
              "      <td>100 m</td>\n",
              "    </tr>\n",
              "  </tbody>\n",
              "</table>\n",
              "</div>\n",
              "      <button class=\"colab-df-convert\" onclick=\"convertToInteractive('df-69bb555f-74d0-4525-b49b-4d64c7a3906e')\"\n",
              "              title=\"Convert this dataframe to an interactive table.\"\n",
              "              style=\"display:none;\">\n",
              "        \n",
              "  <svg xmlns=\"http://www.w3.org/2000/svg\" height=\"24px\"viewBox=\"0 0 24 24\"\n",
              "       width=\"24px\">\n",
              "    <path d=\"M0 0h24v24H0V0z\" fill=\"none\"/>\n",
              "    <path d=\"M18.56 5.44l.94 2.06.94-2.06 2.06-.94-2.06-.94-.94-2.06-.94 2.06-2.06.94zm-11 1L8.5 8.5l.94-2.06 2.06-.94-2.06-.94L8.5 2.5l-.94 2.06-2.06.94zm10 10l.94 2.06.94-2.06 2.06-.94-2.06-.94-.94-2.06-.94 2.06-2.06.94z\"/><path d=\"M17.41 7.96l-1.37-1.37c-.4-.4-.92-.59-1.43-.59-.52 0-1.04.2-1.43.59L10.3 9.45l-7.72 7.72c-.78.78-.78 2.05 0 2.83L4 21.41c.39.39.9.59 1.41.59.51 0 1.02-.2 1.41-.59l7.78-7.78 2.81-2.81c.8-.78.8-2.07 0-2.86zM5.41 20L4 18.59l7.72-7.72 1.47 1.35L5.41 20z\"/>\n",
              "  </svg>\n",
              "      </button>\n",
              "      \n",
              "  <style>\n",
              "    .colab-df-container {\n",
              "      display:flex;\n",
              "      flex-wrap:wrap;\n",
              "      gap: 12px;\n",
              "    }\n",
              "\n",
              "    .colab-df-convert {\n",
              "      background-color: #E8F0FE;\n",
              "      border: none;\n",
              "      border-radius: 50%;\n",
              "      cursor: pointer;\n",
              "      display: none;\n",
              "      fill: #1967D2;\n",
              "      height: 32px;\n",
              "      padding: 0 0 0 0;\n",
              "      width: 32px;\n",
              "    }\n",
              "\n",
              "    .colab-df-convert:hover {\n",
              "      background-color: #E2EBFA;\n",
              "      box-shadow: 0px 1px 2px rgba(60, 64, 67, 0.3), 0px 1px 3px 1px rgba(60, 64, 67, 0.15);\n",
              "      fill: #174EA6;\n",
              "    }\n",
              "\n",
              "    [theme=dark] .colab-df-convert {\n",
              "      background-color: #3B4455;\n",
              "      fill: #D2E3FC;\n",
              "    }\n",
              "\n",
              "    [theme=dark] .colab-df-convert:hover {\n",
              "      background-color: #434B5C;\n",
              "      box-shadow: 0px 1px 3px 1px rgba(0, 0, 0, 0.15);\n",
              "      filter: drop-shadow(0px 1px 2px rgba(0, 0, 0, 0.3));\n",
              "      fill: #FFFFFF;\n",
              "    }\n",
              "  </style>\n",
              "\n",
              "      <script>\n",
              "        const buttonEl =\n",
              "          document.querySelector('#df-69bb555f-74d0-4525-b49b-4d64c7a3906e button.colab-df-convert');\n",
              "        buttonEl.style.display =\n",
              "          google.colab.kernel.accessAllowed ? 'block' : 'none';\n",
              "\n",
              "        async function convertToInteractive(key) {\n",
              "          const element = document.querySelector('#df-69bb555f-74d0-4525-b49b-4d64c7a3906e');\n",
              "          const dataTable =\n",
              "            await google.colab.kernel.invokeFunction('convertToInteractive',\n",
              "                                                     [key], {});\n",
              "          if (!dataTable) return;\n",
              "\n",
              "          const docLinkHtml = 'Like what you see? Visit the ' +\n",
              "            '<a target=\"_blank\" href=https://colab.research.google.com/notebooks/data_table.ipynb>data table notebook</a>'\n",
              "            + ' to learn more about interactive tables.';\n",
              "          element.innerHTML = '';\n",
              "          dataTable['output_type'] = 'display_data';\n",
              "          await google.colab.output.renderOutput(dataTable, element);\n",
              "          const docLink = document.createElement('div');\n",
              "          docLink.innerHTML = docLinkHtml;\n",
              "          element.appendChild(docLink);\n",
              "        }\n",
              "      </script>\n",
              "    </div>\n",
              "  </div>\n",
              "  "
            ]
          },
          "metadata": {},
          "execution_count": 358
        }
      ]
    },
    {
      "cell_type": "code",
      "source": [
        "\"\"\"df = pd.DataFrame({'year': ['1 [1991]', '10 [1991-2001]', '8 [1991-1998]', '2 [2000-2002]']})\n",
        "\n",
        "df['year'] = df['year'].str.extract(r'\\[(.*)\\]')  --> gives 1991 1991-2002 1991-1998 2000-2002 --> values inside square brackets\"\"\"\n",
        "\n",
        "\n",
        "#we will use the same here\n",
        "\n",
        "df['Gold']=df.Gold.str.extract(r'\\((.*)\\)')\n",
        "df['Silver']=df.Silver.str.extract(r'\\((.*)\\)')\n",
        "df['Bronze']=df.Bronze.str.extract(r'\\((.*)\\)')\n",
        "\n",
        "df.head()"
      ],
      "metadata": {
        "colab": {
          "base_uri": "https://localhost:8080/",
          "height": 206
        },
        "id": "yvK8H_S2StbV",
        "outputId": "2da03cfc-d365-4e92-d586-72801b10056b"
      },
      "execution_count": null,
      "outputs": [
        {
          "output_type": "execute_result",
          "data": {
            "text/plain": [
              "   Year Gold Silver Bronze Category Sports\n",
              "0  1951  IND    JPN    JPN     Male  100 m\n",
              "1  1954  PAK    PHI    IND     Male  100 m\n",
              "2  1958  PAK    JPN    PHI     Male  100 m\n",
              "3  1962  INA    MAL    PHI     Male  100 m\n",
              "4  1966  MAL    SIN    JPN     Male  100 m"
            ],
            "text/html": [
              "\n",
              "  <div id=\"df-e322274e-bcf4-4665-80da-6682bcaa3ef7\">\n",
              "    <div class=\"colab-df-container\">\n",
              "      <div>\n",
              "<style scoped>\n",
              "    .dataframe tbody tr th:only-of-type {\n",
              "        vertical-align: middle;\n",
              "    }\n",
              "\n",
              "    .dataframe tbody tr th {\n",
              "        vertical-align: top;\n",
              "    }\n",
              "\n",
              "    .dataframe thead th {\n",
              "        text-align: right;\n",
              "    }\n",
              "</style>\n",
              "<table border=\"1\" class=\"dataframe\">\n",
              "  <thead>\n",
              "    <tr style=\"text-align: right;\">\n",
              "      <th></th>\n",
              "      <th>Year</th>\n",
              "      <th>Gold</th>\n",
              "      <th>Silver</th>\n",
              "      <th>Bronze</th>\n",
              "      <th>Category</th>\n",
              "      <th>Sports</th>\n",
              "    </tr>\n",
              "  </thead>\n",
              "  <tbody>\n",
              "    <tr>\n",
              "      <th>0</th>\n",
              "      <td>1951</td>\n",
              "      <td>IND</td>\n",
              "      <td>JPN</td>\n",
              "      <td>JPN</td>\n",
              "      <td>Male</td>\n",
              "      <td>100 m</td>\n",
              "    </tr>\n",
              "    <tr>\n",
              "      <th>1</th>\n",
              "      <td>1954</td>\n",
              "      <td>PAK</td>\n",
              "      <td>PHI</td>\n",
              "      <td>IND</td>\n",
              "      <td>Male</td>\n",
              "      <td>100 m</td>\n",
              "    </tr>\n",
              "    <tr>\n",
              "      <th>2</th>\n",
              "      <td>1958</td>\n",
              "      <td>PAK</td>\n",
              "      <td>JPN</td>\n",
              "      <td>PHI</td>\n",
              "      <td>Male</td>\n",
              "      <td>100 m</td>\n",
              "    </tr>\n",
              "    <tr>\n",
              "      <th>3</th>\n",
              "      <td>1962</td>\n",
              "      <td>INA</td>\n",
              "      <td>MAL</td>\n",
              "      <td>PHI</td>\n",
              "      <td>Male</td>\n",
              "      <td>100 m</td>\n",
              "    </tr>\n",
              "    <tr>\n",
              "      <th>4</th>\n",
              "      <td>1966</td>\n",
              "      <td>MAL</td>\n",
              "      <td>SIN</td>\n",
              "      <td>JPN</td>\n",
              "      <td>Male</td>\n",
              "      <td>100 m</td>\n",
              "    </tr>\n",
              "  </tbody>\n",
              "</table>\n",
              "</div>\n",
              "      <button class=\"colab-df-convert\" onclick=\"convertToInteractive('df-e322274e-bcf4-4665-80da-6682bcaa3ef7')\"\n",
              "              title=\"Convert this dataframe to an interactive table.\"\n",
              "              style=\"display:none;\">\n",
              "        \n",
              "  <svg xmlns=\"http://www.w3.org/2000/svg\" height=\"24px\"viewBox=\"0 0 24 24\"\n",
              "       width=\"24px\">\n",
              "    <path d=\"M0 0h24v24H0V0z\" fill=\"none\"/>\n",
              "    <path d=\"M18.56 5.44l.94 2.06.94-2.06 2.06-.94-2.06-.94-.94-2.06-.94 2.06-2.06.94zm-11 1L8.5 8.5l.94-2.06 2.06-.94-2.06-.94L8.5 2.5l-.94 2.06-2.06.94zm10 10l.94 2.06.94-2.06 2.06-.94-2.06-.94-.94-2.06-.94 2.06-2.06.94z\"/><path d=\"M17.41 7.96l-1.37-1.37c-.4-.4-.92-.59-1.43-.59-.52 0-1.04.2-1.43.59L10.3 9.45l-7.72 7.72c-.78.78-.78 2.05 0 2.83L4 21.41c.39.39.9.59 1.41.59.51 0 1.02-.2 1.41-.59l7.78-7.78 2.81-2.81c.8-.78.8-2.07 0-2.86zM5.41 20L4 18.59l7.72-7.72 1.47 1.35L5.41 20z\"/>\n",
              "  </svg>\n",
              "      </button>\n",
              "      \n",
              "  <style>\n",
              "    .colab-df-container {\n",
              "      display:flex;\n",
              "      flex-wrap:wrap;\n",
              "      gap: 12px;\n",
              "    }\n",
              "\n",
              "    .colab-df-convert {\n",
              "      background-color: #E8F0FE;\n",
              "      border: none;\n",
              "      border-radius: 50%;\n",
              "      cursor: pointer;\n",
              "      display: none;\n",
              "      fill: #1967D2;\n",
              "      height: 32px;\n",
              "      padding: 0 0 0 0;\n",
              "      width: 32px;\n",
              "    }\n",
              "\n",
              "    .colab-df-convert:hover {\n",
              "      background-color: #E2EBFA;\n",
              "      box-shadow: 0px 1px 2px rgba(60, 64, 67, 0.3), 0px 1px 3px 1px rgba(60, 64, 67, 0.15);\n",
              "      fill: #174EA6;\n",
              "    }\n",
              "\n",
              "    [theme=dark] .colab-df-convert {\n",
              "      background-color: #3B4455;\n",
              "      fill: #D2E3FC;\n",
              "    }\n",
              "\n",
              "    [theme=dark] .colab-df-convert:hover {\n",
              "      background-color: #434B5C;\n",
              "      box-shadow: 0px 1px 3px 1px rgba(0, 0, 0, 0.15);\n",
              "      filter: drop-shadow(0px 1px 2px rgba(0, 0, 0, 0.3));\n",
              "      fill: #FFFFFF;\n",
              "    }\n",
              "  </style>\n",
              "\n",
              "      <script>\n",
              "        const buttonEl =\n",
              "          document.querySelector('#df-e322274e-bcf4-4665-80da-6682bcaa3ef7 button.colab-df-convert');\n",
              "        buttonEl.style.display =\n",
              "          google.colab.kernel.accessAllowed ? 'block' : 'none';\n",
              "\n",
              "        async function convertToInteractive(key) {\n",
              "          const element = document.querySelector('#df-e322274e-bcf4-4665-80da-6682bcaa3ef7');\n",
              "          const dataTable =\n",
              "            await google.colab.kernel.invokeFunction('convertToInteractive',\n",
              "                                                     [key], {});\n",
              "          if (!dataTable) return;\n",
              "\n",
              "          const docLinkHtml = 'Like what you see? Visit the ' +\n",
              "            '<a target=\"_blank\" href=https://colab.research.google.com/notebooks/data_table.ipynb>data table notebook</a>'\n",
              "            + ' to learn more about interactive tables.';\n",
              "          element.innerHTML = '';\n",
              "          dataTable['output_type'] = 'display_data';\n",
              "          await google.colab.output.renderOutput(dataTable, element);\n",
              "          const docLink = document.createElement('div');\n",
              "          docLink.innerHTML = docLinkHtml;\n",
              "          element.appendChild(docLink);\n",
              "        }\n",
              "      </script>\n",
              "    </div>\n",
              "  </div>\n",
              "  "
            ]
          },
          "metadata": {},
          "execution_count": 359
        }
      ]
    },
    {
      "cell_type": "code",
      "source": [
        "a= df.copy()\n",
        "df1= df.copy()\n",
        "a.append(df1)\n",
        "\n",
        "len(a)"
      ],
      "metadata": {
        "colab": {
          "base_uri": "https://localhost:8080/"
        },
        "id": "qCtxv-FjWBgN",
        "outputId": "81548ed9-bbc6-4959-ff8d-467004d5f68a"
      },
      "execution_count": null,
      "outputs": [
        {
          "output_type": "execute_result",
          "data": {
            "text/plain": [
              "18"
            ]
          },
          "metadata": {},
          "execution_count": 360
        }
      ]
    },
    {
      "cell_type": "code",
      "source": [
        "df1=pd.read_html(str(table[1]))\n",
        "# convert list to dataframe\n",
        "df1=pd.DataFrame(df1[0])\n",
        "df1['Category']='Male'\n",
        "df1['Sports']= sports_male[1]\n",
        "df1.rename(columns = {'Games':'Year'}, inplace = True)\n",
        "df1['Year']= df1['Year'].apply(get_year)\n",
        "df1['Gold']=df1.Gold.str.extract(r'\\((.*)\\)')\n",
        "df1['Silver']=df1.Silver.str.extract(r'\\((.*)\\)')\n",
        "df1['Bronze']=df1.Bronze.str.extract(r'\\((.*)\\)')\n",
        "\n",
        "df1.head()"
      ],
      "metadata": {
        "colab": {
          "base_uri": "https://localhost:8080/",
          "height": 206
        },
        "id": "81ofHJf-X6es",
        "outputId": "9d90fc3d-d015-48ed-9093-cde80e6ce9cb"
      },
      "execution_count": null,
      "outputs": [
        {
          "output_type": "execute_result",
          "data": {
            "text/plain": [
              "   Year Gold Silver Bronze Category Sports\n",
              "0  1951  IND    IND    JPN     Male  200 m\n",
              "1  1954  PAK    PAK    HKG     Male  200 m\n",
              "2  1958  IND    PAK    PHI     Male  200 m\n",
              "3  1962  MAL    JPN    INA     Male  200 m\n",
              "4  1966  MAL    IND    MAL     Male  200 m"
            ],
            "text/html": [
              "\n",
              "  <div id=\"df-dfe904e6-8209-4752-8eb6-0ba8e3712648\">\n",
              "    <div class=\"colab-df-container\">\n",
              "      <div>\n",
              "<style scoped>\n",
              "    .dataframe tbody tr th:only-of-type {\n",
              "        vertical-align: middle;\n",
              "    }\n",
              "\n",
              "    .dataframe tbody tr th {\n",
              "        vertical-align: top;\n",
              "    }\n",
              "\n",
              "    .dataframe thead th {\n",
              "        text-align: right;\n",
              "    }\n",
              "</style>\n",
              "<table border=\"1\" class=\"dataframe\">\n",
              "  <thead>\n",
              "    <tr style=\"text-align: right;\">\n",
              "      <th></th>\n",
              "      <th>Year</th>\n",
              "      <th>Gold</th>\n",
              "      <th>Silver</th>\n",
              "      <th>Bronze</th>\n",
              "      <th>Category</th>\n",
              "      <th>Sports</th>\n",
              "    </tr>\n",
              "  </thead>\n",
              "  <tbody>\n",
              "    <tr>\n",
              "      <th>0</th>\n",
              "      <td>1951</td>\n",
              "      <td>IND</td>\n",
              "      <td>IND</td>\n",
              "      <td>JPN</td>\n",
              "      <td>Male</td>\n",
              "      <td>200 m</td>\n",
              "    </tr>\n",
              "    <tr>\n",
              "      <th>1</th>\n",
              "      <td>1954</td>\n",
              "      <td>PAK</td>\n",
              "      <td>PAK</td>\n",
              "      <td>HKG</td>\n",
              "      <td>Male</td>\n",
              "      <td>200 m</td>\n",
              "    </tr>\n",
              "    <tr>\n",
              "      <th>2</th>\n",
              "      <td>1958</td>\n",
              "      <td>IND</td>\n",
              "      <td>PAK</td>\n",
              "      <td>PHI</td>\n",
              "      <td>Male</td>\n",
              "      <td>200 m</td>\n",
              "    </tr>\n",
              "    <tr>\n",
              "      <th>3</th>\n",
              "      <td>1962</td>\n",
              "      <td>MAL</td>\n",
              "      <td>JPN</td>\n",
              "      <td>INA</td>\n",
              "      <td>Male</td>\n",
              "      <td>200 m</td>\n",
              "    </tr>\n",
              "    <tr>\n",
              "      <th>4</th>\n",
              "      <td>1966</td>\n",
              "      <td>MAL</td>\n",
              "      <td>IND</td>\n",
              "      <td>MAL</td>\n",
              "      <td>Male</td>\n",
              "      <td>200 m</td>\n",
              "    </tr>\n",
              "  </tbody>\n",
              "</table>\n",
              "</div>\n",
              "      <button class=\"colab-df-convert\" onclick=\"convertToInteractive('df-dfe904e6-8209-4752-8eb6-0ba8e3712648')\"\n",
              "              title=\"Convert this dataframe to an interactive table.\"\n",
              "              style=\"display:none;\">\n",
              "        \n",
              "  <svg xmlns=\"http://www.w3.org/2000/svg\" height=\"24px\"viewBox=\"0 0 24 24\"\n",
              "       width=\"24px\">\n",
              "    <path d=\"M0 0h24v24H0V0z\" fill=\"none\"/>\n",
              "    <path d=\"M18.56 5.44l.94 2.06.94-2.06 2.06-.94-2.06-.94-.94-2.06-.94 2.06-2.06.94zm-11 1L8.5 8.5l.94-2.06 2.06-.94-2.06-.94L8.5 2.5l-.94 2.06-2.06.94zm10 10l.94 2.06.94-2.06 2.06-.94-2.06-.94-.94-2.06-.94 2.06-2.06.94z\"/><path d=\"M17.41 7.96l-1.37-1.37c-.4-.4-.92-.59-1.43-.59-.52 0-1.04.2-1.43.59L10.3 9.45l-7.72 7.72c-.78.78-.78 2.05 0 2.83L4 21.41c.39.39.9.59 1.41.59.51 0 1.02-.2 1.41-.59l7.78-7.78 2.81-2.81c.8-.78.8-2.07 0-2.86zM5.41 20L4 18.59l7.72-7.72 1.47 1.35L5.41 20z\"/>\n",
              "  </svg>\n",
              "      </button>\n",
              "      \n",
              "  <style>\n",
              "    .colab-df-container {\n",
              "      display:flex;\n",
              "      flex-wrap:wrap;\n",
              "      gap: 12px;\n",
              "    }\n",
              "\n",
              "    .colab-df-convert {\n",
              "      background-color: #E8F0FE;\n",
              "      border: none;\n",
              "      border-radius: 50%;\n",
              "      cursor: pointer;\n",
              "      display: none;\n",
              "      fill: #1967D2;\n",
              "      height: 32px;\n",
              "      padding: 0 0 0 0;\n",
              "      width: 32px;\n",
              "    }\n",
              "\n",
              "    .colab-df-convert:hover {\n",
              "      background-color: #E2EBFA;\n",
              "      box-shadow: 0px 1px 2px rgba(60, 64, 67, 0.3), 0px 1px 3px 1px rgba(60, 64, 67, 0.15);\n",
              "      fill: #174EA6;\n",
              "    }\n",
              "\n",
              "    [theme=dark] .colab-df-convert {\n",
              "      background-color: #3B4455;\n",
              "      fill: #D2E3FC;\n",
              "    }\n",
              "\n",
              "    [theme=dark] .colab-df-convert:hover {\n",
              "      background-color: #434B5C;\n",
              "      box-shadow: 0px 1px 3px 1px rgba(0, 0, 0, 0.15);\n",
              "      filter: drop-shadow(0px 1px 2px rgba(0, 0, 0, 0.3));\n",
              "      fill: #FFFFFF;\n",
              "    }\n",
              "  </style>\n",
              "\n",
              "      <script>\n",
              "        const buttonEl =\n",
              "          document.querySelector('#df-dfe904e6-8209-4752-8eb6-0ba8e3712648 button.colab-df-convert');\n",
              "        buttonEl.style.display =\n",
              "          google.colab.kernel.accessAllowed ? 'block' : 'none';\n",
              "\n",
              "        async function convertToInteractive(key) {\n",
              "          const element = document.querySelector('#df-dfe904e6-8209-4752-8eb6-0ba8e3712648');\n",
              "          const dataTable =\n",
              "            await google.colab.kernel.invokeFunction('convertToInteractive',\n",
              "                                                     [key], {});\n",
              "          if (!dataTable) return;\n",
              "\n",
              "          const docLinkHtml = 'Like what you see? Visit the ' +\n",
              "            '<a target=\"_blank\" href=https://colab.research.google.com/notebooks/data_table.ipynb>data table notebook</a>'\n",
              "            + ' to learn more about interactive tables.';\n",
              "          element.innerHTML = '';\n",
              "          dataTable['output_type'] = 'display_data';\n",
              "          await google.colab.output.renderOutput(dataTable, element);\n",
              "          const docLink = document.createElement('div');\n",
              "          docLink.innerHTML = docLinkHtml;\n",
              "          element.appendChild(docLink);\n",
              "        }\n",
              "      </script>\n",
              "    </div>\n",
              "  </div>\n",
              "  "
            ]
          },
          "metadata": {},
          "execution_count": 361
        }
      ]
    },
    {
      "cell_type": "code",
      "source": [
        "df=df.append(df1,ignore_index=True)\n",
        "len(df)"
      ],
      "metadata": {
        "colab": {
          "base_uri": "https://localhost:8080/"
        },
        "id": "0fZAJ6gKZw7a",
        "outputId": "2e5b6e16-2796-4b22-a1b6-66622a132cda"
      },
      "execution_count": null,
      "outputs": [
        {
          "output_type": "execute_result",
          "data": {
            "text/plain": [
              "36"
            ]
          },
          "metadata": {},
          "execution_count": 362
        }
      ]
    },
    {
      "cell_type": "code",
      "source": [
        "df"
      ],
      "metadata": {
        "colab": {
          "base_uri": "https://localhost:8080/",
          "height": 1000
        },
        "id": "CDMUrR1IaMQm",
        "outputId": "a92c122f-ac99-45c9-e6eb-bd3e572ad58a"
      },
      "execution_count": null,
      "outputs": [
        {
          "output_type": "execute_result",
          "data": {
            "text/plain": [
              "    Year Gold Silver Bronze Category Sports\n",
              "0   1951  IND    JPN    JPN     Male  100 m\n",
              "1   1954  PAK    PHI    IND     Male  100 m\n",
              "2   1958  PAK    JPN    PHI     Male  100 m\n",
              "3   1962  INA    MAL    PHI     Male  100 m\n",
              "4   1966  MAL    SIN    JPN     Male  100 m\n",
              "5   1970  JPN    THA    SIN     Male  100 m\n",
              "6   1974  THA    JPN    THA     Male  100 m\n",
              "7   1978  THA    IND    KOR     Male  100 m\n",
              "8   1982  MAL    KOR    THA     Male  100 m\n",
              "9   1986  QAT    JPN    CHN     Male  100 m\n",
              "10  1990  QAT    CHN    SRI     Male  100 m\n",
              "11  1994  QAT    KAZ    CHN     Male  100 m\n",
              "12  1998  JPN    THA    JPN     Male  100 m\n",
              "13  2002  KSA    JPN    CHN     Male  100 m\n",
              "14  2006  KSA    JPN    THA     Male  100 m\n",
              "15  2010  CHN    KSA    OMA     Male  100 m\n",
              "16  2014  QAT    CHN    JPN     Male  100 m\n",
              "17  2018  CHN    QAT    JPN     Male  100 m\n",
              "18  1951  IND    IND    JPN     Male  200 m\n",
              "19  1954  PAK    PAK    HKG     Male  200 m\n",
              "20  1958  IND    PAK    PHI     Male  200 m\n",
              "21  1962  MAL    JPN    INA     Male  200 m\n",
              "22  1966  MAL    IND    MAL     Male  200 m\n",
              "23  1970  THA    JPN    SIN     Male  200 m\n",
              "24  1974  THA    JPN    PAK     Male  200 m\n",
              "25  1978  IND    JPN    THA     Male  200 m\n",
              "26  1982  KOR    JPN    MAL     Male  200 m\n",
              "27  1986  KOR    CHN    JPN     Male  200 m\n",
              "28  1990  JPN    SRI    CHN     Male  200 m\n",
              "29  1994  QAT    JPN    QAT     Male  200 m\n",
              "30  1998  JPN    CHN    SRI     Male  200 m\n",
              "31  2002  JPN    KAZ    CHN     Male  200 m\n",
              "32  2006  JPN    CHN    JPN     Male  200 m\n",
              "33  2010  QAT    JPN    UAE     Male  200 m\n",
              "34  2014  QAT    KSA    KOR     Male  200 m\n",
              "35  2018  JPN    TPE    BRN     Male  200 m"
            ],
            "text/html": [
              "\n",
              "  <div id=\"df-fd84815a-ff9c-4b1e-b18f-42d6fe40aeba\">\n",
              "    <div class=\"colab-df-container\">\n",
              "      <div>\n",
              "<style scoped>\n",
              "    .dataframe tbody tr th:only-of-type {\n",
              "        vertical-align: middle;\n",
              "    }\n",
              "\n",
              "    .dataframe tbody tr th {\n",
              "        vertical-align: top;\n",
              "    }\n",
              "\n",
              "    .dataframe thead th {\n",
              "        text-align: right;\n",
              "    }\n",
              "</style>\n",
              "<table border=\"1\" class=\"dataframe\">\n",
              "  <thead>\n",
              "    <tr style=\"text-align: right;\">\n",
              "      <th></th>\n",
              "      <th>Year</th>\n",
              "      <th>Gold</th>\n",
              "      <th>Silver</th>\n",
              "      <th>Bronze</th>\n",
              "      <th>Category</th>\n",
              "      <th>Sports</th>\n",
              "    </tr>\n",
              "  </thead>\n",
              "  <tbody>\n",
              "    <tr>\n",
              "      <th>0</th>\n",
              "      <td>1951</td>\n",
              "      <td>IND</td>\n",
              "      <td>JPN</td>\n",
              "      <td>JPN</td>\n",
              "      <td>Male</td>\n",
              "      <td>100 m</td>\n",
              "    </tr>\n",
              "    <tr>\n",
              "      <th>1</th>\n",
              "      <td>1954</td>\n",
              "      <td>PAK</td>\n",
              "      <td>PHI</td>\n",
              "      <td>IND</td>\n",
              "      <td>Male</td>\n",
              "      <td>100 m</td>\n",
              "    </tr>\n",
              "    <tr>\n",
              "      <th>2</th>\n",
              "      <td>1958</td>\n",
              "      <td>PAK</td>\n",
              "      <td>JPN</td>\n",
              "      <td>PHI</td>\n",
              "      <td>Male</td>\n",
              "      <td>100 m</td>\n",
              "    </tr>\n",
              "    <tr>\n",
              "      <th>3</th>\n",
              "      <td>1962</td>\n",
              "      <td>INA</td>\n",
              "      <td>MAL</td>\n",
              "      <td>PHI</td>\n",
              "      <td>Male</td>\n",
              "      <td>100 m</td>\n",
              "    </tr>\n",
              "    <tr>\n",
              "      <th>4</th>\n",
              "      <td>1966</td>\n",
              "      <td>MAL</td>\n",
              "      <td>SIN</td>\n",
              "      <td>JPN</td>\n",
              "      <td>Male</td>\n",
              "      <td>100 m</td>\n",
              "    </tr>\n",
              "    <tr>\n",
              "      <th>5</th>\n",
              "      <td>1970</td>\n",
              "      <td>JPN</td>\n",
              "      <td>THA</td>\n",
              "      <td>SIN</td>\n",
              "      <td>Male</td>\n",
              "      <td>100 m</td>\n",
              "    </tr>\n",
              "    <tr>\n",
              "      <th>6</th>\n",
              "      <td>1974</td>\n",
              "      <td>THA</td>\n",
              "      <td>JPN</td>\n",
              "      <td>THA</td>\n",
              "      <td>Male</td>\n",
              "      <td>100 m</td>\n",
              "    </tr>\n",
              "    <tr>\n",
              "      <th>7</th>\n",
              "      <td>1978</td>\n",
              "      <td>THA</td>\n",
              "      <td>IND</td>\n",
              "      <td>KOR</td>\n",
              "      <td>Male</td>\n",
              "      <td>100 m</td>\n",
              "    </tr>\n",
              "    <tr>\n",
              "      <th>8</th>\n",
              "      <td>1982</td>\n",
              "      <td>MAL</td>\n",
              "      <td>KOR</td>\n",
              "      <td>THA</td>\n",
              "      <td>Male</td>\n",
              "      <td>100 m</td>\n",
              "    </tr>\n",
              "    <tr>\n",
              "      <th>9</th>\n",
              "      <td>1986</td>\n",
              "      <td>QAT</td>\n",
              "      <td>JPN</td>\n",
              "      <td>CHN</td>\n",
              "      <td>Male</td>\n",
              "      <td>100 m</td>\n",
              "    </tr>\n",
              "    <tr>\n",
              "      <th>10</th>\n",
              "      <td>1990</td>\n",
              "      <td>QAT</td>\n",
              "      <td>CHN</td>\n",
              "      <td>SRI</td>\n",
              "      <td>Male</td>\n",
              "      <td>100 m</td>\n",
              "    </tr>\n",
              "    <tr>\n",
              "      <th>11</th>\n",
              "      <td>1994</td>\n",
              "      <td>QAT</td>\n",
              "      <td>KAZ</td>\n",
              "      <td>CHN</td>\n",
              "      <td>Male</td>\n",
              "      <td>100 m</td>\n",
              "    </tr>\n",
              "    <tr>\n",
              "      <th>12</th>\n",
              "      <td>1998</td>\n",
              "      <td>JPN</td>\n",
              "      <td>THA</td>\n",
              "      <td>JPN</td>\n",
              "      <td>Male</td>\n",
              "      <td>100 m</td>\n",
              "    </tr>\n",
              "    <tr>\n",
              "      <th>13</th>\n",
              "      <td>2002</td>\n",
              "      <td>KSA</td>\n",
              "      <td>JPN</td>\n",
              "      <td>CHN</td>\n",
              "      <td>Male</td>\n",
              "      <td>100 m</td>\n",
              "    </tr>\n",
              "    <tr>\n",
              "      <th>14</th>\n",
              "      <td>2006</td>\n",
              "      <td>KSA</td>\n",
              "      <td>JPN</td>\n",
              "      <td>THA</td>\n",
              "      <td>Male</td>\n",
              "      <td>100 m</td>\n",
              "    </tr>\n",
              "    <tr>\n",
              "      <th>15</th>\n",
              "      <td>2010</td>\n",
              "      <td>CHN</td>\n",
              "      <td>KSA</td>\n",
              "      <td>OMA</td>\n",
              "      <td>Male</td>\n",
              "      <td>100 m</td>\n",
              "    </tr>\n",
              "    <tr>\n",
              "      <th>16</th>\n",
              "      <td>2014</td>\n",
              "      <td>QAT</td>\n",
              "      <td>CHN</td>\n",
              "      <td>JPN</td>\n",
              "      <td>Male</td>\n",
              "      <td>100 m</td>\n",
              "    </tr>\n",
              "    <tr>\n",
              "      <th>17</th>\n",
              "      <td>2018</td>\n",
              "      <td>CHN</td>\n",
              "      <td>QAT</td>\n",
              "      <td>JPN</td>\n",
              "      <td>Male</td>\n",
              "      <td>100 m</td>\n",
              "    </tr>\n",
              "    <tr>\n",
              "      <th>18</th>\n",
              "      <td>1951</td>\n",
              "      <td>IND</td>\n",
              "      <td>IND</td>\n",
              "      <td>JPN</td>\n",
              "      <td>Male</td>\n",
              "      <td>200 m</td>\n",
              "    </tr>\n",
              "    <tr>\n",
              "      <th>19</th>\n",
              "      <td>1954</td>\n",
              "      <td>PAK</td>\n",
              "      <td>PAK</td>\n",
              "      <td>HKG</td>\n",
              "      <td>Male</td>\n",
              "      <td>200 m</td>\n",
              "    </tr>\n",
              "    <tr>\n",
              "      <th>20</th>\n",
              "      <td>1958</td>\n",
              "      <td>IND</td>\n",
              "      <td>PAK</td>\n",
              "      <td>PHI</td>\n",
              "      <td>Male</td>\n",
              "      <td>200 m</td>\n",
              "    </tr>\n",
              "    <tr>\n",
              "      <th>21</th>\n",
              "      <td>1962</td>\n",
              "      <td>MAL</td>\n",
              "      <td>JPN</td>\n",
              "      <td>INA</td>\n",
              "      <td>Male</td>\n",
              "      <td>200 m</td>\n",
              "    </tr>\n",
              "    <tr>\n",
              "      <th>22</th>\n",
              "      <td>1966</td>\n",
              "      <td>MAL</td>\n",
              "      <td>IND</td>\n",
              "      <td>MAL</td>\n",
              "      <td>Male</td>\n",
              "      <td>200 m</td>\n",
              "    </tr>\n",
              "    <tr>\n",
              "      <th>23</th>\n",
              "      <td>1970</td>\n",
              "      <td>THA</td>\n",
              "      <td>JPN</td>\n",
              "      <td>SIN</td>\n",
              "      <td>Male</td>\n",
              "      <td>200 m</td>\n",
              "    </tr>\n",
              "    <tr>\n",
              "      <th>24</th>\n",
              "      <td>1974</td>\n",
              "      <td>THA</td>\n",
              "      <td>JPN</td>\n",
              "      <td>PAK</td>\n",
              "      <td>Male</td>\n",
              "      <td>200 m</td>\n",
              "    </tr>\n",
              "    <tr>\n",
              "      <th>25</th>\n",
              "      <td>1978</td>\n",
              "      <td>IND</td>\n",
              "      <td>JPN</td>\n",
              "      <td>THA</td>\n",
              "      <td>Male</td>\n",
              "      <td>200 m</td>\n",
              "    </tr>\n",
              "    <tr>\n",
              "      <th>26</th>\n",
              "      <td>1982</td>\n",
              "      <td>KOR</td>\n",
              "      <td>JPN</td>\n",
              "      <td>MAL</td>\n",
              "      <td>Male</td>\n",
              "      <td>200 m</td>\n",
              "    </tr>\n",
              "    <tr>\n",
              "      <th>27</th>\n",
              "      <td>1986</td>\n",
              "      <td>KOR</td>\n",
              "      <td>CHN</td>\n",
              "      <td>JPN</td>\n",
              "      <td>Male</td>\n",
              "      <td>200 m</td>\n",
              "    </tr>\n",
              "    <tr>\n",
              "      <th>28</th>\n",
              "      <td>1990</td>\n",
              "      <td>JPN</td>\n",
              "      <td>SRI</td>\n",
              "      <td>CHN</td>\n",
              "      <td>Male</td>\n",
              "      <td>200 m</td>\n",
              "    </tr>\n",
              "    <tr>\n",
              "      <th>29</th>\n",
              "      <td>1994</td>\n",
              "      <td>QAT</td>\n",
              "      <td>JPN</td>\n",
              "      <td>QAT</td>\n",
              "      <td>Male</td>\n",
              "      <td>200 m</td>\n",
              "    </tr>\n",
              "    <tr>\n",
              "      <th>30</th>\n",
              "      <td>1998</td>\n",
              "      <td>JPN</td>\n",
              "      <td>CHN</td>\n",
              "      <td>SRI</td>\n",
              "      <td>Male</td>\n",
              "      <td>200 m</td>\n",
              "    </tr>\n",
              "    <tr>\n",
              "      <th>31</th>\n",
              "      <td>2002</td>\n",
              "      <td>JPN</td>\n",
              "      <td>KAZ</td>\n",
              "      <td>CHN</td>\n",
              "      <td>Male</td>\n",
              "      <td>200 m</td>\n",
              "    </tr>\n",
              "    <tr>\n",
              "      <th>32</th>\n",
              "      <td>2006</td>\n",
              "      <td>JPN</td>\n",
              "      <td>CHN</td>\n",
              "      <td>JPN</td>\n",
              "      <td>Male</td>\n",
              "      <td>200 m</td>\n",
              "    </tr>\n",
              "    <tr>\n",
              "      <th>33</th>\n",
              "      <td>2010</td>\n",
              "      <td>QAT</td>\n",
              "      <td>JPN</td>\n",
              "      <td>UAE</td>\n",
              "      <td>Male</td>\n",
              "      <td>200 m</td>\n",
              "    </tr>\n",
              "    <tr>\n",
              "      <th>34</th>\n",
              "      <td>2014</td>\n",
              "      <td>QAT</td>\n",
              "      <td>KSA</td>\n",
              "      <td>KOR</td>\n",
              "      <td>Male</td>\n",
              "      <td>200 m</td>\n",
              "    </tr>\n",
              "    <tr>\n",
              "      <th>35</th>\n",
              "      <td>2018</td>\n",
              "      <td>JPN</td>\n",
              "      <td>TPE</td>\n",
              "      <td>BRN</td>\n",
              "      <td>Male</td>\n",
              "      <td>200 m</td>\n",
              "    </tr>\n",
              "  </tbody>\n",
              "</table>\n",
              "</div>\n",
              "      <button class=\"colab-df-convert\" onclick=\"convertToInteractive('df-fd84815a-ff9c-4b1e-b18f-42d6fe40aeba')\"\n",
              "              title=\"Convert this dataframe to an interactive table.\"\n",
              "              style=\"display:none;\">\n",
              "        \n",
              "  <svg xmlns=\"http://www.w3.org/2000/svg\" height=\"24px\"viewBox=\"0 0 24 24\"\n",
              "       width=\"24px\">\n",
              "    <path d=\"M0 0h24v24H0V0z\" fill=\"none\"/>\n",
              "    <path d=\"M18.56 5.44l.94 2.06.94-2.06 2.06-.94-2.06-.94-.94-2.06-.94 2.06-2.06.94zm-11 1L8.5 8.5l.94-2.06 2.06-.94-2.06-.94L8.5 2.5l-.94 2.06-2.06.94zm10 10l.94 2.06.94-2.06 2.06-.94-2.06-.94-.94-2.06-.94 2.06-2.06.94z\"/><path d=\"M17.41 7.96l-1.37-1.37c-.4-.4-.92-.59-1.43-.59-.52 0-1.04.2-1.43.59L10.3 9.45l-7.72 7.72c-.78.78-.78 2.05 0 2.83L4 21.41c.39.39.9.59 1.41.59.51 0 1.02-.2 1.41-.59l7.78-7.78 2.81-2.81c.8-.78.8-2.07 0-2.86zM5.41 20L4 18.59l7.72-7.72 1.47 1.35L5.41 20z\"/>\n",
              "  </svg>\n",
              "      </button>\n",
              "      \n",
              "  <style>\n",
              "    .colab-df-container {\n",
              "      display:flex;\n",
              "      flex-wrap:wrap;\n",
              "      gap: 12px;\n",
              "    }\n",
              "\n",
              "    .colab-df-convert {\n",
              "      background-color: #E8F0FE;\n",
              "      border: none;\n",
              "      border-radius: 50%;\n",
              "      cursor: pointer;\n",
              "      display: none;\n",
              "      fill: #1967D2;\n",
              "      height: 32px;\n",
              "      padding: 0 0 0 0;\n",
              "      width: 32px;\n",
              "    }\n",
              "\n",
              "    .colab-df-convert:hover {\n",
              "      background-color: #E2EBFA;\n",
              "      box-shadow: 0px 1px 2px rgba(60, 64, 67, 0.3), 0px 1px 3px 1px rgba(60, 64, 67, 0.15);\n",
              "      fill: #174EA6;\n",
              "    }\n",
              "\n",
              "    [theme=dark] .colab-df-convert {\n",
              "      background-color: #3B4455;\n",
              "      fill: #D2E3FC;\n",
              "    }\n",
              "\n",
              "    [theme=dark] .colab-df-convert:hover {\n",
              "      background-color: #434B5C;\n",
              "      box-shadow: 0px 1px 3px 1px rgba(0, 0, 0, 0.15);\n",
              "      filter: drop-shadow(0px 1px 2px rgba(0, 0, 0, 0.3));\n",
              "      fill: #FFFFFF;\n",
              "    }\n",
              "  </style>\n",
              "\n",
              "      <script>\n",
              "        const buttonEl =\n",
              "          document.querySelector('#df-fd84815a-ff9c-4b1e-b18f-42d6fe40aeba button.colab-df-convert');\n",
              "        buttonEl.style.display =\n",
              "          google.colab.kernel.accessAllowed ? 'block' : 'none';\n",
              "\n",
              "        async function convertToInteractive(key) {\n",
              "          const element = document.querySelector('#df-fd84815a-ff9c-4b1e-b18f-42d6fe40aeba');\n",
              "          const dataTable =\n",
              "            await google.colab.kernel.invokeFunction('convertToInteractive',\n",
              "                                                     [key], {});\n",
              "          if (!dataTable) return;\n",
              "\n",
              "          const docLinkHtml = 'Like what you see? Visit the ' +\n",
              "            '<a target=\"_blank\" href=https://colab.research.google.com/notebooks/data_table.ipynb>data table notebook</a>'\n",
              "            + ' to learn more about interactive tables.';\n",
              "          element.innerHTML = '';\n",
              "          dataTable['output_type'] = 'display_data';\n",
              "          await google.colab.output.renderOutput(dataTable, element);\n",
              "          const docLink = document.createElement('div');\n",
              "          docLink.innerHTML = docLinkHtml;\n",
              "          element.appendChild(docLink);\n",
              "        }\n",
              "      </script>\n",
              "    </div>\n",
              "  </div>\n",
              "  "
            ]
          },
          "metadata": {},
          "execution_count": 363
        }
      ]
    },
    {
      "cell_type": "markdown",
      "source": [
        "So now we have got the idea of how to create each dataframe for each category and merge it with existing one. so we'll put it function or loop to get it for all type of sports and all type of categories"
      ],
      "metadata": {
        "id": "zAtvsLKran6v"
      }
    },
    {
      "cell_type": "code",
      "source": [
        "#checking tables\n",
        "\n",
        "table[24].text"
      ],
      "metadata": {
        "colab": {
          "base_uri": "https://localhost:8080/",
          "height": 128
        },
        "id": "3kcyifMqcOW-",
        "outputId": "61e9829d-073b-4dc3-cd26-d3243a7142f7"
      },
      "execution_count": null,
      "outputs": [
        {
          "output_type": "execute_result",
          "data": {
            "text/plain": [
              "\"\\n\\nGames\\n\\nGold\\n\\nSilver\\n\\nBronze\\n\\n\\n1951 New Delhi\\n\\n\\xa0Fumio Nishiuchi\\xa0(JPN)\\n\\n\\xa0Bunkichi Sawada\\xa0(JPN)\\n\\n\\xa0Khurshid Ahmed\\xa0(IND)\\n\\n\\n1954 Manila\\n\\n\\xa0Yang Chuan-kwang\\xa0(ROC)\\n\\n\\xa0Fumio Nishiuchi\\xa0(JPN)\\n\\n\\xa0Ronnie O'Brien\\xa0(IND)\\n\\n\\n1958 Tokyo\\n\\n\\xa0Yang Chuan-kwang\\xa0(ROC)\\n\\n\\xa0Kiyoshi Katsuki\\xa0(JPN)\\n\\n\\xa0Shosuke Suzuki\\xa0(JPN)\\n\\n\\n1962 Jakarta\\n\\n\\xa0Gurbachan Singh Randhawa\\xa0(IND)\\n\\n\\xa0Shosuke Suzuki\\xa0(JPN)\\n\\n\\xa0Cyril Perera\\xa0(MAL)\\n\\n\\n1966 Bangkok\\n\\n\\xa0Wu Ah-min\\xa0(ROC)\\n\\n\\xa0Yukio Nogami\\xa0(JPN)\\n\\n\\xa0Hiroomi Yamada\\xa0(JPN)\\n\\n\\n1970 Bangkok\\n\\n\\xa0Junichi Onizuka\\xa0(JPN)\\n\\n\\xa0M. G. Shetty\\xa0(IND)\\n\\n\\xa0Wang Ying-shih\\xa0(ROC)\\n\\n\\n1974 Tehran\\n\\n\\xa0Vijay Singh Chauhan\\xa0(IND)\\n\\n\\xa0Junichi Onizuka\\xa0(JPN)\\n\\n\\xa0Suresh Babu\\xa0(IND)\\n\\n\\n1978 Bangkok\\n\\n\\xa0Hisashi Iwai\\xa0(JPN)\\n\\n\\xa0Prapant Srisathorn\\xa0(THA)\\n\\n\\xa0Jin Xuewei\\xa0(CHN)\\n\\n\\n1982 New Delhi\\n\\n\\xa0Weng Kangqiang\\xa0(CHN)\\n\\n\\xa0Zhai Yingjian\\xa0(CHN)\\n\\n\\xa0Monassar Mohamed Saleh\\xa0(QAT)\\n\\n\\n1986 Seoul\\n\\n\\xa0Chen Zebin\\xa0(CHN)\\n\\n\\xa0Takeshi Kojo\\xa0(JPN)\\n\\n\\xa0Park Young-jun\\xa0(KOR)\\n\\n\\n1990 Beijing\\n\\n\\xa0Munehiro Kaneko\\xa0(JPN)\\n\\n\\xa0Guu Jin-shoei\\xa0(TPE)\\n\\n\\xa0Gong Guohua\\xa0(CHN)\\n\\n\\n1994 Hiroshima\\n\\n\\xa0Ramil Ganiyev\\xa0(UZB)\\n\\n\\xa0Oleg Veretelnikov\\xa0(UZB)\\n\\n\\xa0Tomokazu Sugama\\xa0(JPN)\\n\\n\\n1998 Bangkok\\n\\n\\xa0Oleg Veretelnikov\\xa0(UZB)\\n\\n\\xa0Ramil Ganiyev\\xa0(UZB)\\n\\n\\xa0Toru Yasui\\xa0(JPN)\\n\\n\\n2002 Busan\\n\\n\\xa0Qi Haifeng\\xa0(CHN)\\n\\n\\xa0Dmitriy Karpov\\xa0(KAZ)\\n\\n\\xa0Ahmad Hassan Moussa\\xa0(QAT)\\n\\n\\n2006 Doha\\n\\n\\xa0Dmitriy Karpov\\xa0(KAZ)\\n\\n\\xa0Vitaliy Smirnov\\xa0(UZB)\\n\\n\\xa0Kim Kun-woo\\xa0(KOR)\\n\\n\\n2010 Guangzhou\\n\\n\\xa0Dmitriy Karpov\\xa0(KAZ)\\n\\n\\xa0Kim Kun-woo\\xa0(KOR)\\n\\n\\xa0Vũ Văn Huyện\\xa0(VIE)\\n\\n\\n2014 Incheon\\n\\n\\xa0Keisuke Ushiro\\xa0(JPN)\\n\\n\\xa0Leonid Andreev\\xa0(UZB)\\n\\n\\xa0Akihiko Nakamura\\xa0(JPN)\\n\\n\\n2018 Jakarta–Palembang\\n\\n\\xa0Keisuke Ushiro\\xa0(JPN)\\n\\n\\xa0Sutthisak Singkhon\\xa0(THA)\\n\\n\\xa0Akihiko Nakamura\\xa0(JPN)\\n\""
            ],
            "application/vnd.google.colaboratory.intrinsic+json": {
              "type": "string"
            }
          },
          "metadata": {},
          "execution_count": 364
        }
      ]
    },
    {
      "cell_type": "markdown",
      "source": [
        "table 0 - 24 constitues for male category atheletics"
      ],
      "metadata": {
        "id": "1rjzWGoJcu9h"
      }
    },
    {
      "cell_type": "code",
      "source": [
        "table[25].text"
      ],
      "metadata": {
        "colab": {
          "base_uri": "https://localhost:8080/",
          "height": 128
        },
        "id": "XP3Qj3C-c0Du",
        "outputId": "174d35b1-093f-49de-e0b3-61f450d2b7d4"
      },
      "execution_count": null,
      "outputs": [
        {
          "output_type": "execute_result",
          "data": {
            "text/plain": [
              "'\\n\\nGames\\n\\nGold\\n\\nSilver\\n\\nBronze\\n\\n\\n1951 New Delhi\\n\\n\\xa0Kiyoko Sugimura\\xa0(JPN)\\n\\n\\xa0Roshan Mistry\\xa0(IND)\\n\\n\\xa0Kimiko Okamoto\\xa0(JPN)\\n\\n\\n1954 Manila\\n\\n\\xa0Atsuko Nambu\\xa0(JPN)\\n\\n\\xa0Mary Klass\\xa0(SIN)\\n\\n\\xa0Christine Brown\\xa0(IND)\\n\\n\\n1958 Tokyo\\n\\n\\xa0Inocencia Solis\\xa0(PHI)\\n\\n\\xa0Sakura Fukuyama\\xa0(JPN)\\n\\n\\xa0Yuko Kobayashi\\xa0(JPN)\\n\\n\\n1962 Jakarta\\n\\n\\xa0Mona Sulaiman\\xa0(PHI)\\n\\n\\xa0Ikuko Yoda\\xa0(JPN)\\n\\n\\xa0Takako Inokuchi\\xa0(JPN)\\n\\n\\n1966 Bangkok\\n\\n\\xa0Miho Sato\\xa0(JPN)\\n\\n\\xa0Ritsuko Sukegawa\\xa0(JPN)\\n\\n\\xa0Debra Marcus\\xa0(ISR)\\n\\n\\n1970 Bangkok\\n\\n\\xa0Chi Cheng\\xa0(ROC)\\n\\n\\xa0Keiko Yamada\\xa0(JPN)\\n\\n\\xa0Carolina Rieuwpassa\\xa0(INA)\\n\\n\\n1974 Tehran\\n\\n\\xa0Esther Roth\\xa0(ISR)\\n\\n\\xa0He Zufen\\xa0(CHN)\\n\\n\\xa0Keiko Yamada\\xa0(JPN)\\n\\n\\n1978 Bangkok\\n\\n\\xa0Yin Yaping\\xa0(CHN)\\n\\n\\xa0Yukiko Osako\\xa0(JPN)\\n\\n\\xa0Usanee Laopinkarn\\xa0(THA)\\n\\n\\n1982 New Delhi\\n\\n\\xa0Lydia de Vega\\xa0(PHI)\\n\\n\\xa0P. T. Usha\\xa0(IND)\\n\\n\\xa0Mo Myung-hee\\xa0(KOR)\\n\\n\\n1986 Seoul\\n\\n\\xa0Lydia de Vega\\xa0(PHI)\\n\\n\\xa0P. T. Usha\\xa0(IND)\\n\\n\\xa0Ratjai Sripet\\xa0(THA)\\n\\n\\n1990 Beijing\\n\\n\\xa0Tian Yumei\\xa0(CHN)\\n\\n\\xa0Wang Huei-chen\\xa0(TPE)\\n\\n\\xa0Lee Young-sook\\xa0(KOR)\\n\\n\\n1994 Hiroshima\\n\\n\\xa0Liu Xiaomei\\xa0(CHN)\\n\\n\\xa0Wang Huei-chen\\xa0(TPE)\\n\\n\\xa0Huang Xiaoyan\\xa0(CHN)\\n\\n\\n1998 Bangkok\\n\\n\\xa0Li Xuemei\\xa0(CHN)\\n\\n\\xa0Li Yali\\xa0(CHN)\\n\\n\\xa0Rachita Mistry\\xa0(IND)\\n\\n\\n2002 Busan\\n\\n\\xa0Susanthika Jayasinghe\\xa0(SRI)\\n\\n\\xa0Lyubov Perepelova\\xa0(UZB)\\n\\n\\xa0Qin Wangping\\xa0(CHN)\\n\\n\\n2006 Doha\\n\\n\\xa0Guzel Khubbieva\\xa0(UZB)\\n\\n\\xa0Susanthika Jayasinghe\\xa0(SRI)\\n\\n\\xa0Ruqaya Al-Ghasra\\xa0(BRN)\\n\\n\\n2010 Guangzhou\\n\\n\\xa0Chisato Fukushima\\xa0(JPN)\\n\\n\\xa0Guzel Khubbieva\\xa0(UZB)\\n\\n\\xa0Vũ Thị Hương\\xa0(VIE)\\n\\n\\n2014 Incheon\\n\\n\\xa0Wei Yongli\\xa0(CHN)\\n\\n\\xa0Chisato Fukushima\\xa0(JPN)\\n\\n\\xa0Olga Safronova\\xa0(KAZ)\\n\\n\\n2018 Jakarta–Palembang\\n\\n\\xa0Edidiong Odiong\\xa0(BRN)\\n\\n\\xa0Dutee Chand\\xa0(IND)\\n\\n\\xa0Wei Yongli\\xa0(CHN)\\n'"
            ],
            "application/vnd.google.colaboratory.intrinsic+json": {
              "type": "string"
            }
          },
          "metadata": {},
          "execution_count": 365
        }
      ]
    },
    {
      "cell_type": "code",
      "source": [
        "table[49].text"
      ],
      "metadata": {
        "colab": {
          "base_uri": "https://localhost:8080/",
          "height": 128
        },
        "id": "4hQ4_lNcdH1W",
        "outputId": "07ea554f-57f1-45dc-9aee-dcf10b064541"
      },
      "execution_count": null,
      "outputs": [
        {
          "output_type": "execute_result",
          "data": {
            "text/plain": [
              "'\\n\\nGames\\n\\nGold\\n\\nSilver\\n\\nBronze\\n\\n\\n1966 Bangkok\\n\\n\\xa0Michiko Okamoto\\xa0(JPN)\\n\\n\\xa0Yeh Chu-mei\\xa0(ROC)\\n\\n\\xa0Lolita Lagrosas\\xa0(PHI)\\n\\n\\n1970 Bangkok\\n\\n\\xa0Esther Shahamorov\\xa0(ISR)\\n\\n\\xa0Lin Chun-yu\\xa0(ROC)\\n\\n\\xa0Lolita Lagrosas\\xa0(PHI)\\n\\n\\n1974 Tehran\\n\\n\\xa0Kyoko Shimizu\\xa0(JPN)\\n\\n\\xa0Sun Yuxiang\\xa0(CHN)\\n\\n\\xa0Zhang Yumei\\xa0(CHN)\\n\\n\\n1978 Bangkok\\n\\n\\xa0Ye Peisu\\xa0(CHN)\\n\\n\\xa0Angel Mary Joseph\\xa0(IND)\\n\\n\\xa0Guo Yu\\xa0(CHN)\\n\\n\\n1982 New Delhi\\n\\n\\xa0Ye Peisu\\xa0(CHN)\\n\\n\\xa0Ye Lianying\\xa0(CHN)\\n\\n\\xa0Tomoko Uchida\\xa0(JPN)\\n\\n\\n1986 Seoul\\n\\n\\xa0Zhu Yuqing\\xa0(CHN)\\n\\n\\xa0Ye Lianying\\xa0(CHN)\\n\\n\\xa0Ji Jeong-mi\\xa0(KOR)\\n\\n\\n1990 Beijing\\n\\n\\xa0Ma Miaolan\\xa0(CHN)\\n\\n\\xa0Dong Yuping\\xa0(CHN)\\n\\n\\xa0Ma Chun-ping\\xa0(TPE)\\n\\n\\n1994 Hiroshima\\n\\n\\xa0Ghada Shouaa\\xa0(SYR)\\n\\n\\xa0Zhang Xiaohui\\xa0(CHN)\\n\\n\\xa0Ma Chun-ping\\xa0(TPE)\\n\\n\\n1998 Bangkok\\n\\n\\xa0Shen Shengfei\\xa0(CHN)\\n\\n\\xa0Svetlana Kazanina\\xa0(KAZ)\\n\\n\\xa0Ma Chun-ping\\xa0(TPE)\\n\\n\\n2002 Busan\\n\\n\\xa0Shen Shengfei\\xa0(CHN)\\n\\n\\xa0Soma Biswas\\xa0(IND)\\n\\n\\xa0J. J. Shobha\\xa0(IND)\\n\\n\\n2006 Doha\\n\\n\\xa0Olga Rypakova\\xa0(KAZ)\\n\\n\\xa0Soma Biswas\\xa0(IND)\\n\\n\\xa0J. J. Shobha\\xa0(IND)\\n\\n\\n2010 Guangzhou\\n\\n\\xa0Yuliya Tarasova\\xa0(UZB)\\n\\n\\xa0Yuki Nakata\\xa0(JPN)\\n\\n\\xa0Pramila Aiyappa\\xa0(IND)\\n\\n\\n2014 Incheon\\n\\n\\xa0Ekaterina Voronina\\xa0(UZB)\\n\\n\\xa0Wang Qingling\\xa0(CHN)\\n\\n\\xa0Yuliya Tarasova\\xa0(UZB)\\n\\n\\n2018 Jakarta–Palembang\\n\\n\\xa0Swapna Barman\\xa0(IND)\\n\\n\\xa0Wang Qingling\\xa0(CHN)\\n\\n\\xa0Yuki Yamasaki\\xa0(JPN)\\n'"
            ],
            "application/vnd.google.colaboratory.intrinsic+json": {
              "type": "string"
            }
          },
          "metadata": {},
          "execution_count": 366
        }
      ]
    },
    {
      "cell_type": "markdown",
      "source": [
        "table 25- 49 constitues for female category atheletics"
      ],
      "metadata": {
        "id": "H8LGx5bxdUY1"
      }
    },
    {
      "cell_type": "code",
      "source": [
        "#table[50] for mixed\n",
        "table[50].text"
      ],
      "metadata": {
        "colab": {
          "base_uri": "https://localhost:8080/",
          "height": 55
        },
        "id": "aPIq_20Odaum",
        "outputId": "a43d99df-826a-48cf-9f17-d28fa4945dcd"
      },
      "execution_count": null,
      "outputs": [
        {
          "output_type": "execute_result",
          "data": {
            "text/plain": [
              "'\\n\\nGames\\n\\nGold\\n\\nSilver\\n\\nBronze\\n\\n\\n2018 Jakarta–Palembang\\n\\n\\xa0India\\xa0(IND)Muhammed AnasM. R. PoovammaHima DasArokia Rajiv\\n\\n\\xa0Kazakhstan\\xa0(KAZ)Svetlana GolendovaDmitriy KoblovElina MikhinaMikhail Litvin\\n\\n\\xa0China\\xa0(CHN)Cheng ChongYang LeiHuang GuifenWu Yuang\\n'"
            ],
            "application/vnd.google.colaboratory.intrinsic+json": {
              "type": "string"
            }
          },
          "metadata": {},
          "execution_count": 367
        }
      ]
    },
    {
      "cell_type": "code",
      "source": [
        "table[51].text"
      ],
      "metadata": {
        "colab": {
          "base_uri": "https://localhost:8080/",
          "height": 110
        },
        "id": "kwghdJM0dkp8",
        "outputId": "4236d70f-bdbb-4ee7-94d7-ecb4f50747d6"
      },
      "execution_count": null,
      "outputs": [
        {
          "output_type": "execute_result",
          "data": {
            "text/plain": [
              "'vteLists of Asian Games medalistsSummer sports\\nArchery\\nArtistic swimming\\nAthletics\\nBadminton\\nBaseball\\nBasketball\\nBeach volleyball\\nBoard games\\nBoxing\\nCanoeing\\nCricket\\nCycling\\nDancesport\\nDiving\\nDragon boat\\nEquestrian\\nFencing\\nField hockey\\nFootball\\nGolf\\nGymnastics\\nHandball\\nJudo\\nJu-jitsu\\nKabaddi\\nKarate\\nKurash\\nModern pentathlon\\nRoller sports\\nRowing\\nRugby union\\nSailing\\nSepak takraw\\nShooting\\nSoft tennis\\nSoftball\\nSport climbing\\nSquash\\nSwimming\\nTable tennis\\nTaekwondo\\nTennis\\nTriathlon\\nVolleyball\\nWater polo\\nWeightlifting\\nWrestling\\nWushu\\nWinter sports\\nAlpine skiing\\nBiathlon\\nCross-country skiing\\nCurling\\nFigure skating\\nFreestyle skiing\\nIce hockey\\nShort-track speed skating\\nSki jumping\\nSnowboarding\\nSpeed skating\\nDiscontinued sports\\nBandy\\nBodybuilding\\nBowling\\nCue sports\\nJet ski\\nMartial arts\\nParagliding\\nSki orienteering\\n'"
            ],
            "application/vnd.google.colaboratory.intrinsic+json": {
              "type": "string"
            }
          },
          "metadata": {},
          "execution_count": 368
        }
      ]
    },
    {
      "cell_type": "markdown",
      "source": [
        "So we need to focus on table 0 - 50 with matching each category"
      ],
      "metadata": {
        "id": "n0Xb3haddoxB"
      }
    },
    {
      "cell_type": "code",
      "source": [
        "sports= sports_male+ sports_female +sports_mixed\n",
        "len(sports)"
      ],
      "metadata": {
        "colab": {
          "base_uri": "https://localhost:8080/"
        },
        "id": "T13b8EF_dz1U",
        "outputId": "d3842a9e-e8ae-4243-f9bd-0b7332337f98"
      },
      "execution_count": null,
      "outputs": [
        {
          "output_type": "execute_result",
          "data": {
            "text/plain": [
              "51"
            ]
          },
          "metadata": {},
          "execution_count": 369
        }
      ]
    },
    {
      "cell_type": "code",
      "source": [
        "category"
      ],
      "metadata": {
        "colab": {
          "base_uri": "https://localhost:8080/"
        },
        "id": "-f-S_ei0es0e",
        "outputId": "cc58278f-faec-4074-b93c-238c957acdb8"
      },
      "execution_count": null,
      "outputs": [
        {
          "output_type": "execute_result",
          "data": {
            "text/plain": [
              "['Men', 'Women', 'Mixed']"
            ]
          },
          "metadata": {},
          "execution_count": 370
        }
      ]
    },
    {
      "cell_type": "markdown",
      "source": [
        "# Dataset preparation"
      ],
      "metadata": {
        "id": "fnO__mIbOhTM"
      }
    },
    {
      "cell_type": "code",
      "source": [
        "data= pd.DataFrame()\n",
        "for i in range(0,51):\n",
        "  source=pd.read_html(str(table[i]))\n",
        "  # convert list to dataframe\n",
        "  atheletics=pd.DataFrame(source[0])\n",
        "  if(i<=24):\n",
        "    j=0\n",
        "  elif(i<50 and i>24):\n",
        "    j=1\n",
        "  else:\n",
        "    j=2\n",
        "  atheletics['Category']=category[j]\n",
        "  atheletics['Sports']= sports[i]\n",
        "  atheletics.rename(columns = {'Games':'Year'}, inplace = True)\n",
        "  atheletics['Year']= atheletics['Year'].apply(get_year)\n",
        "  atheletics['Gold']=atheletics.Gold.str.extract(r'\\((.*)\\)')\n",
        "  atheletics['Silver']=atheletics.Silver.str.extract(r'\\((.*)\\)')\n",
        "  atheletics['Bronze']=atheletics.Bronze.str.extract(r'\\((.*)\\)')\n",
        "  print(\"Appending \"+sports[i]+ \"in \"+category[j])\n",
        "  data=data.append(atheletics,ignore_index=True)\n"
      ],
      "metadata": {
        "colab": {
          "base_uri": "https://localhost:8080/"
        },
        "id": "9yMGkOIifcPL",
        "outputId": "290a360a-e469-42ae-8d55-2dc1ff257a69"
      },
      "execution_count": null,
      "outputs": [
        {
          "output_type": "stream",
          "name": "stdout",
          "text": [
            "Appending 100 min Men\n",
            "Appending 200 min Men\n",
            "Appending 400 min Men\n",
            "Appending 800 min Men\n",
            "Appending 1500 min Men\n",
            "Appending 5000 min Men\n",
            "Appending 10,000 min Men\n",
            "Appending 110 m hurdlesin Men\n",
            "Appending 400 m hurdlesin Men\n",
            "Appending 3000 m steeplechasein Men\n",
            "Appending 4 × 100 m relayin Men\n",
            "Appending 4 × 400 m relayin Men\n",
            "Appending Marathonin Men\n",
            "Appending 10,000 m walkin Men\n",
            "Appending 20 km walkin Men\n",
            "Appending 50 km walkin Men\n",
            "Appending High jumpin Men\n",
            "Appending Pole vaultin Men\n",
            "Appending Long jumpin Men\n",
            "Appending Triple jumpin Men\n",
            "Appending Shot putin Men\n",
            "Appending Discus throwin Men\n",
            "Appending Hammer throwin Men\n",
            "Appending Javelin throwin Men\n",
            "Appending Decathlonin Men\n",
            "Appending 100 min Women\n",
            "Appending 200 min Women\n",
            "Appending 400 min Women\n",
            "Appending 800 min Women\n",
            "Appending 1500 min Women\n",
            "Appending 3000 min Women\n",
            "Appending 5000 min Women\n",
            "Appending 10,000 min Women\n",
            "Appending 100 m hurdlesin Women\n",
            "Appending 400 m hurdlesin Women\n",
            "Appending 3000 m steeplechasein Women\n",
            "Appending 4 × 100 m relayin Women\n",
            "Appending 4 × 400 m relayin Women\n",
            "Appending Marathonin Women\n",
            "Appending 10,000 m walkin Women\n",
            "Appending 20 km walkin Women\n",
            "Appending High jumpin Women\n",
            "Appending Pole vaultin Women\n",
            "Appending Long jumpin Women\n",
            "Appending Triple jumpin Women\n",
            "Appending Shot putin Women\n",
            "Appending Discus throwin Women\n",
            "Appending Hammer throwin Women\n",
            "Appending Javelin throwin Women\n",
            "Appending Heptathlonin Women\n",
            "Appending 4 × 400 m relayin Mixed\n"
          ]
        }
      ]
    },
    {
      "cell_type": "code",
      "source": [
        "data"
      ],
      "metadata": {
        "colab": {
          "base_uri": "https://localhost:8080/",
          "height": 423
        },
        "id": "dP6YuUxXig_B",
        "outputId": "351c3a8e-2bcd-4cda-873d-5aa340d3c979"
      },
      "execution_count": null,
      "outputs": [
        {
          "output_type": "execute_result",
          "data": {
            "text/plain": [
              "     Year Gold Silver Bronze Category           Sports\n",
              "0    1951  IND    JPN    JPN      Men            100 m\n",
              "1    1954  PAK    PHI    IND      Men            100 m\n",
              "2    1958  PAK    JPN    PHI      Men            100 m\n",
              "3    1962  INA    MAL    PHI      Men            100 m\n",
              "4    1966  MAL    SIN    JPN      Men            100 m\n",
              "..    ...  ...    ...    ...      ...              ...\n",
              "727  2006  KAZ    IND    IND    Women       Heptathlon\n",
              "728  2010  UZB    JPN    IND    Women       Heptathlon\n",
              "729  2014  UZB    CHN    UZB    Women       Heptathlon\n",
              "730  2018  IND    CHN    JPN    Women       Heptathlon\n",
              "731  2018  IND    KAZ    CHN    Mixed  4 × 400 m relay\n",
              "\n",
              "[732 rows x 6 columns]"
            ],
            "text/html": [
              "\n",
              "  <div id=\"df-544768c9-79da-433b-8e3b-3df2d8c3439a\">\n",
              "    <div class=\"colab-df-container\">\n",
              "      <div>\n",
              "<style scoped>\n",
              "    .dataframe tbody tr th:only-of-type {\n",
              "        vertical-align: middle;\n",
              "    }\n",
              "\n",
              "    .dataframe tbody tr th {\n",
              "        vertical-align: top;\n",
              "    }\n",
              "\n",
              "    .dataframe thead th {\n",
              "        text-align: right;\n",
              "    }\n",
              "</style>\n",
              "<table border=\"1\" class=\"dataframe\">\n",
              "  <thead>\n",
              "    <tr style=\"text-align: right;\">\n",
              "      <th></th>\n",
              "      <th>Year</th>\n",
              "      <th>Gold</th>\n",
              "      <th>Silver</th>\n",
              "      <th>Bronze</th>\n",
              "      <th>Category</th>\n",
              "      <th>Sports</th>\n",
              "    </tr>\n",
              "  </thead>\n",
              "  <tbody>\n",
              "    <tr>\n",
              "      <th>0</th>\n",
              "      <td>1951</td>\n",
              "      <td>IND</td>\n",
              "      <td>JPN</td>\n",
              "      <td>JPN</td>\n",
              "      <td>Men</td>\n",
              "      <td>100 m</td>\n",
              "    </tr>\n",
              "    <tr>\n",
              "      <th>1</th>\n",
              "      <td>1954</td>\n",
              "      <td>PAK</td>\n",
              "      <td>PHI</td>\n",
              "      <td>IND</td>\n",
              "      <td>Men</td>\n",
              "      <td>100 m</td>\n",
              "    </tr>\n",
              "    <tr>\n",
              "      <th>2</th>\n",
              "      <td>1958</td>\n",
              "      <td>PAK</td>\n",
              "      <td>JPN</td>\n",
              "      <td>PHI</td>\n",
              "      <td>Men</td>\n",
              "      <td>100 m</td>\n",
              "    </tr>\n",
              "    <tr>\n",
              "      <th>3</th>\n",
              "      <td>1962</td>\n",
              "      <td>INA</td>\n",
              "      <td>MAL</td>\n",
              "      <td>PHI</td>\n",
              "      <td>Men</td>\n",
              "      <td>100 m</td>\n",
              "    </tr>\n",
              "    <tr>\n",
              "      <th>4</th>\n",
              "      <td>1966</td>\n",
              "      <td>MAL</td>\n",
              "      <td>SIN</td>\n",
              "      <td>JPN</td>\n",
              "      <td>Men</td>\n",
              "      <td>100 m</td>\n",
              "    </tr>\n",
              "    <tr>\n",
              "      <th>...</th>\n",
              "      <td>...</td>\n",
              "      <td>...</td>\n",
              "      <td>...</td>\n",
              "      <td>...</td>\n",
              "      <td>...</td>\n",
              "      <td>...</td>\n",
              "    </tr>\n",
              "    <tr>\n",
              "      <th>727</th>\n",
              "      <td>2006</td>\n",
              "      <td>KAZ</td>\n",
              "      <td>IND</td>\n",
              "      <td>IND</td>\n",
              "      <td>Women</td>\n",
              "      <td>Heptathlon</td>\n",
              "    </tr>\n",
              "    <tr>\n",
              "      <th>728</th>\n",
              "      <td>2010</td>\n",
              "      <td>UZB</td>\n",
              "      <td>JPN</td>\n",
              "      <td>IND</td>\n",
              "      <td>Women</td>\n",
              "      <td>Heptathlon</td>\n",
              "    </tr>\n",
              "    <tr>\n",
              "      <th>729</th>\n",
              "      <td>2014</td>\n",
              "      <td>UZB</td>\n",
              "      <td>CHN</td>\n",
              "      <td>UZB</td>\n",
              "      <td>Women</td>\n",
              "      <td>Heptathlon</td>\n",
              "    </tr>\n",
              "    <tr>\n",
              "      <th>730</th>\n",
              "      <td>2018</td>\n",
              "      <td>IND</td>\n",
              "      <td>CHN</td>\n",
              "      <td>JPN</td>\n",
              "      <td>Women</td>\n",
              "      <td>Heptathlon</td>\n",
              "    </tr>\n",
              "    <tr>\n",
              "      <th>731</th>\n",
              "      <td>2018</td>\n",
              "      <td>IND</td>\n",
              "      <td>KAZ</td>\n",
              "      <td>CHN</td>\n",
              "      <td>Mixed</td>\n",
              "      <td>4 × 400 m relay</td>\n",
              "    </tr>\n",
              "  </tbody>\n",
              "</table>\n",
              "<p>732 rows × 6 columns</p>\n",
              "</div>\n",
              "      <button class=\"colab-df-convert\" onclick=\"convertToInteractive('df-544768c9-79da-433b-8e3b-3df2d8c3439a')\"\n",
              "              title=\"Convert this dataframe to an interactive table.\"\n",
              "              style=\"display:none;\">\n",
              "        \n",
              "  <svg xmlns=\"http://www.w3.org/2000/svg\" height=\"24px\"viewBox=\"0 0 24 24\"\n",
              "       width=\"24px\">\n",
              "    <path d=\"M0 0h24v24H0V0z\" fill=\"none\"/>\n",
              "    <path d=\"M18.56 5.44l.94 2.06.94-2.06 2.06-.94-2.06-.94-.94-2.06-.94 2.06-2.06.94zm-11 1L8.5 8.5l.94-2.06 2.06-.94-2.06-.94L8.5 2.5l-.94 2.06-2.06.94zm10 10l.94 2.06.94-2.06 2.06-.94-2.06-.94-.94-2.06-.94 2.06-2.06.94z\"/><path d=\"M17.41 7.96l-1.37-1.37c-.4-.4-.92-.59-1.43-.59-.52 0-1.04.2-1.43.59L10.3 9.45l-7.72 7.72c-.78.78-.78 2.05 0 2.83L4 21.41c.39.39.9.59 1.41.59.51 0 1.02-.2 1.41-.59l7.78-7.78 2.81-2.81c.8-.78.8-2.07 0-2.86zM5.41 20L4 18.59l7.72-7.72 1.47 1.35L5.41 20z\"/>\n",
              "  </svg>\n",
              "      </button>\n",
              "      \n",
              "  <style>\n",
              "    .colab-df-container {\n",
              "      display:flex;\n",
              "      flex-wrap:wrap;\n",
              "      gap: 12px;\n",
              "    }\n",
              "\n",
              "    .colab-df-convert {\n",
              "      background-color: #E8F0FE;\n",
              "      border: none;\n",
              "      border-radius: 50%;\n",
              "      cursor: pointer;\n",
              "      display: none;\n",
              "      fill: #1967D2;\n",
              "      height: 32px;\n",
              "      padding: 0 0 0 0;\n",
              "      width: 32px;\n",
              "    }\n",
              "\n",
              "    .colab-df-convert:hover {\n",
              "      background-color: #E2EBFA;\n",
              "      box-shadow: 0px 1px 2px rgba(60, 64, 67, 0.3), 0px 1px 3px 1px rgba(60, 64, 67, 0.15);\n",
              "      fill: #174EA6;\n",
              "    }\n",
              "\n",
              "    [theme=dark] .colab-df-convert {\n",
              "      background-color: #3B4455;\n",
              "      fill: #D2E3FC;\n",
              "    }\n",
              "\n",
              "    [theme=dark] .colab-df-convert:hover {\n",
              "      background-color: #434B5C;\n",
              "      box-shadow: 0px 1px 3px 1px rgba(0, 0, 0, 0.15);\n",
              "      filter: drop-shadow(0px 1px 2px rgba(0, 0, 0, 0.3));\n",
              "      fill: #FFFFFF;\n",
              "    }\n",
              "  </style>\n",
              "\n",
              "      <script>\n",
              "        const buttonEl =\n",
              "          document.querySelector('#df-544768c9-79da-433b-8e3b-3df2d8c3439a button.colab-df-convert');\n",
              "        buttonEl.style.display =\n",
              "          google.colab.kernel.accessAllowed ? 'block' : 'none';\n",
              "\n",
              "        async function convertToInteractive(key) {\n",
              "          const element = document.querySelector('#df-544768c9-79da-433b-8e3b-3df2d8c3439a');\n",
              "          const dataTable =\n",
              "            await google.colab.kernel.invokeFunction('convertToInteractive',\n",
              "                                                     [key], {});\n",
              "          if (!dataTable) return;\n",
              "\n",
              "          const docLinkHtml = 'Like what you see? Visit the ' +\n",
              "            '<a target=\"_blank\" href=https://colab.research.google.com/notebooks/data_table.ipynb>data table notebook</a>'\n",
              "            + ' to learn more about interactive tables.';\n",
              "          element.innerHTML = '';\n",
              "          dataTable['output_type'] = 'display_data';\n",
              "          await google.colab.output.renderOutput(dataTable, element);\n",
              "          const docLink = document.createElement('div');\n",
              "          docLink.innerHTML = docLinkHtml;\n",
              "          element.appendChild(docLink);\n",
              "        }\n",
              "      </script>\n",
              "    </div>\n",
              "  </div>\n",
              "  "
            ]
          },
          "metadata": {},
          "execution_count": 372
        }
      ]
    },
    {
      "cell_type": "code",
      "source": [
        "data[data.Sports == '4 × 400 m relay']"
      ],
      "metadata": {
        "colab": {
          "base_uri": "https://localhost:8080/",
          "height": 1000
        },
        "id": "eTkK5zLfj-vP",
        "outputId": "30bf9c62-2fb9-4bfa-9f85-d33d277475a2"
      },
      "execution_count": null,
      "outputs": [
        {
          "output_type": "execute_result",
          "data": {
            "text/plain": [
              "     Year Gold Silver Bronze Category           Sports\n",
              "199  1951  IND    JPN    PHI      Men  4 × 400 m relay\n",
              "200  1954  JPN    IND    PHI      Men  4 × 400 m relay\n",
              "201  1958  JPN    ROC    PHI      Men  4 × 400 m relay\n",
              "202  1962  IND    MAL    JPN      Men  4 × 400 m relay\n",
              "203  1966  JPN    MAL    SIN      Men  4 × 400 m relay\n",
              "204  1970  JPN    IND    MAL      Men  4 × 400 m relay\n",
              "205  1974  SRI    IND    IRN      Men  4 × 400 m relay\n",
              "206  1978  JPN    IND    IRQ      Men  4 × 400 m relay\n",
              "207  1982  JPN    IRQ    CHN      Men  4 × 400 m relay\n",
              "208  1986  JPN    IRQ    PHI      Men  4 × 400 m relay\n",
              "209  1990  JPN    QAT    CHN      Men  4 × 400 m relay\n",
              "210  1994  KOR    THA    QAT      Men  4 × 400 m relay\n",
              "211  1998  JPN    IND    KOR      Men  4 × 400 m relay\n",
              "212  2002  KSA    IND    SRI      Men  4 × 400 m relay\n",
              "213  2006  KSA    IND    SRI      Men  4 × 400 m relay\n",
              "214  2010  KSA    JPN    CHN      Men  4 × 400 m relay\n",
              "215  2014  JPN    KOR    KSA      Men  4 × 400 m relay\n",
              "216  2018  QAT    IND    JPN      Men  4 × 400 m relay\n",
              "574  1974  JPN    SIN    BIR    Women  4 × 400 m relay\n",
              "575  1978  JPN    CHN    PRK    Women  4 × 400 m relay\n",
              "576  1982  JPN    IND    CHN    Women  4 × 400 m relay\n",
              "577  1986  IND    JPN    CHN    Women  4 × 400 m relay\n",
              "578  1990  CHN    IND    MAL    Women  4 × 400 m relay\n",
              "579  1994  CHN    IND    THA    Women  4 × 400 m relay\n",
              "580  1998  CHN    IND    KAZ    Women  4 × 400 m relay\n",
              "581  2002  IND    KAZ    CHN    Women  4 × 400 m relay\n",
              "582  2006  IND    KAZ    CHN    Women  4 × 400 m relay\n",
              "583  2010  IND    KAZ    CHN    Women  4 × 400 m relay\n",
              "584  2014  IND    JPN    CHN    Women  4 × 400 m relay\n",
              "585  2018  IND    BRN    VIE    Women  4 × 400 m relay\n",
              "731  2018  IND    KAZ    CHN    Mixed  4 × 400 m relay"
            ],
            "text/html": [
              "\n",
              "  <div id=\"df-d405cb98-f413-425b-bf98-04fb49d0a690\">\n",
              "    <div class=\"colab-df-container\">\n",
              "      <div>\n",
              "<style scoped>\n",
              "    .dataframe tbody tr th:only-of-type {\n",
              "        vertical-align: middle;\n",
              "    }\n",
              "\n",
              "    .dataframe tbody tr th {\n",
              "        vertical-align: top;\n",
              "    }\n",
              "\n",
              "    .dataframe thead th {\n",
              "        text-align: right;\n",
              "    }\n",
              "</style>\n",
              "<table border=\"1\" class=\"dataframe\">\n",
              "  <thead>\n",
              "    <tr style=\"text-align: right;\">\n",
              "      <th></th>\n",
              "      <th>Year</th>\n",
              "      <th>Gold</th>\n",
              "      <th>Silver</th>\n",
              "      <th>Bronze</th>\n",
              "      <th>Category</th>\n",
              "      <th>Sports</th>\n",
              "    </tr>\n",
              "  </thead>\n",
              "  <tbody>\n",
              "    <tr>\n",
              "      <th>199</th>\n",
              "      <td>1951</td>\n",
              "      <td>IND</td>\n",
              "      <td>JPN</td>\n",
              "      <td>PHI</td>\n",
              "      <td>Men</td>\n",
              "      <td>4 × 400 m relay</td>\n",
              "    </tr>\n",
              "    <tr>\n",
              "      <th>200</th>\n",
              "      <td>1954</td>\n",
              "      <td>JPN</td>\n",
              "      <td>IND</td>\n",
              "      <td>PHI</td>\n",
              "      <td>Men</td>\n",
              "      <td>4 × 400 m relay</td>\n",
              "    </tr>\n",
              "    <tr>\n",
              "      <th>201</th>\n",
              "      <td>1958</td>\n",
              "      <td>JPN</td>\n",
              "      <td>ROC</td>\n",
              "      <td>PHI</td>\n",
              "      <td>Men</td>\n",
              "      <td>4 × 400 m relay</td>\n",
              "    </tr>\n",
              "    <tr>\n",
              "      <th>202</th>\n",
              "      <td>1962</td>\n",
              "      <td>IND</td>\n",
              "      <td>MAL</td>\n",
              "      <td>JPN</td>\n",
              "      <td>Men</td>\n",
              "      <td>4 × 400 m relay</td>\n",
              "    </tr>\n",
              "    <tr>\n",
              "      <th>203</th>\n",
              "      <td>1966</td>\n",
              "      <td>JPN</td>\n",
              "      <td>MAL</td>\n",
              "      <td>SIN</td>\n",
              "      <td>Men</td>\n",
              "      <td>4 × 400 m relay</td>\n",
              "    </tr>\n",
              "    <tr>\n",
              "      <th>204</th>\n",
              "      <td>1970</td>\n",
              "      <td>JPN</td>\n",
              "      <td>IND</td>\n",
              "      <td>MAL</td>\n",
              "      <td>Men</td>\n",
              "      <td>4 × 400 m relay</td>\n",
              "    </tr>\n",
              "    <tr>\n",
              "      <th>205</th>\n",
              "      <td>1974</td>\n",
              "      <td>SRI</td>\n",
              "      <td>IND</td>\n",
              "      <td>IRN</td>\n",
              "      <td>Men</td>\n",
              "      <td>4 × 400 m relay</td>\n",
              "    </tr>\n",
              "    <tr>\n",
              "      <th>206</th>\n",
              "      <td>1978</td>\n",
              "      <td>JPN</td>\n",
              "      <td>IND</td>\n",
              "      <td>IRQ</td>\n",
              "      <td>Men</td>\n",
              "      <td>4 × 400 m relay</td>\n",
              "    </tr>\n",
              "    <tr>\n",
              "      <th>207</th>\n",
              "      <td>1982</td>\n",
              "      <td>JPN</td>\n",
              "      <td>IRQ</td>\n",
              "      <td>CHN</td>\n",
              "      <td>Men</td>\n",
              "      <td>4 × 400 m relay</td>\n",
              "    </tr>\n",
              "    <tr>\n",
              "      <th>208</th>\n",
              "      <td>1986</td>\n",
              "      <td>JPN</td>\n",
              "      <td>IRQ</td>\n",
              "      <td>PHI</td>\n",
              "      <td>Men</td>\n",
              "      <td>4 × 400 m relay</td>\n",
              "    </tr>\n",
              "    <tr>\n",
              "      <th>209</th>\n",
              "      <td>1990</td>\n",
              "      <td>JPN</td>\n",
              "      <td>QAT</td>\n",
              "      <td>CHN</td>\n",
              "      <td>Men</td>\n",
              "      <td>4 × 400 m relay</td>\n",
              "    </tr>\n",
              "    <tr>\n",
              "      <th>210</th>\n",
              "      <td>1994</td>\n",
              "      <td>KOR</td>\n",
              "      <td>THA</td>\n",
              "      <td>QAT</td>\n",
              "      <td>Men</td>\n",
              "      <td>4 × 400 m relay</td>\n",
              "    </tr>\n",
              "    <tr>\n",
              "      <th>211</th>\n",
              "      <td>1998</td>\n",
              "      <td>JPN</td>\n",
              "      <td>IND</td>\n",
              "      <td>KOR</td>\n",
              "      <td>Men</td>\n",
              "      <td>4 × 400 m relay</td>\n",
              "    </tr>\n",
              "    <tr>\n",
              "      <th>212</th>\n",
              "      <td>2002</td>\n",
              "      <td>KSA</td>\n",
              "      <td>IND</td>\n",
              "      <td>SRI</td>\n",
              "      <td>Men</td>\n",
              "      <td>4 × 400 m relay</td>\n",
              "    </tr>\n",
              "    <tr>\n",
              "      <th>213</th>\n",
              "      <td>2006</td>\n",
              "      <td>KSA</td>\n",
              "      <td>IND</td>\n",
              "      <td>SRI</td>\n",
              "      <td>Men</td>\n",
              "      <td>4 × 400 m relay</td>\n",
              "    </tr>\n",
              "    <tr>\n",
              "      <th>214</th>\n",
              "      <td>2010</td>\n",
              "      <td>KSA</td>\n",
              "      <td>JPN</td>\n",
              "      <td>CHN</td>\n",
              "      <td>Men</td>\n",
              "      <td>4 × 400 m relay</td>\n",
              "    </tr>\n",
              "    <tr>\n",
              "      <th>215</th>\n",
              "      <td>2014</td>\n",
              "      <td>JPN</td>\n",
              "      <td>KOR</td>\n",
              "      <td>KSA</td>\n",
              "      <td>Men</td>\n",
              "      <td>4 × 400 m relay</td>\n",
              "    </tr>\n",
              "    <tr>\n",
              "      <th>216</th>\n",
              "      <td>2018</td>\n",
              "      <td>QAT</td>\n",
              "      <td>IND</td>\n",
              "      <td>JPN</td>\n",
              "      <td>Men</td>\n",
              "      <td>4 × 400 m relay</td>\n",
              "    </tr>\n",
              "    <tr>\n",
              "      <th>574</th>\n",
              "      <td>1974</td>\n",
              "      <td>JPN</td>\n",
              "      <td>SIN</td>\n",
              "      <td>BIR</td>\n",
              "      <td>Women</td>\n",
              "      <td>4 × 400 m relay</td>\n",
              "    </tr>\n",
              "    <tr>\n",
              "      <th>575</th>\n",
              "      <td>1978</td>\n",
              "      <td>JPN</td>\n",
              "      <td>CHN</td>\n",
              "      <td>PRK</td>\n",
              "      <td>Women</td>\n",
              "      <td>4 × 400 m relay</td>\n",
              "    </tr>\n",
              "    <tr>\n",
              "      <th>576</th>\n",
              "      <td>1982</td>\n",
              "      <td>JPN</td>\n",
              "      <td>IND</td>\n",
              "      <td>CHN</td>\n",
              "      <td>Women</td>\n",
              "      <td>4 × 400 m relay</td>\n",
              "    </tr>\n",
              "    <tr>\n",
              "      <th>577</th>\n",
              "      <td>1986</td>\n",
              "      <td>IND</td>\n",
              "      <td>JPN</td>\n",
              "      <td>CHN</td>\n",
              "      <td>Women</td>\n",
              "      <td>4 × 400 m relay</td>\n",
              "    </tr>\n",
              "    <tr>\n",
              "      <th>578</th>\n",
              "      <td>1990</td>\n",
              "      <td>CHN</td>\n",
              "      <td>IND</td>\n",
              "      <td>MAL</td>\n",
              "      <td>Women</td>\n",
              "      <td>4 × 400 m relay</td>\n",
              "    </tr>\n",
              "    <tr>\n",
              "      <th>579</th>\n",
              "      <td>1994</td>\n",
              "      <td>CHN</td>\n",
              "      <td>IND</td>\n",
              "      <td>THA</td>\n",
              "      <td>Women</td>\n",
              "      <td>4 × 400 m relay</td>\n",
              "    </tr>\n",
              "    <tr>\n",
              "      <th>580</th>\n",
              "      <td>1998</td>\n",
              "      <td>CHN</td>\n",
              "      <td>IND</td>\n",
              "      <td>KAZ</td>\n",
              "      <td>Women</td>\n",
              "      <td>4 × 400 m relay</td>\n",
              "    </tr>\n",
              "    <tr>\n",
              "      <th>581</th>\n",
              "      <td>2002</td>\n",
              "      <td>IND</td>\n",
              "      <td>KAZ</td>\n",
              "      <td>CHN</td>\n",
              "      <td>Women</td>\n",
              "      <td>4 × 400 m relay</td>\n",
              "    </tr>\n",
              "    <tr>\n",
              "      <th>582</th>\n",
              "      <td>2006</td>\n",
              "      <td>IND</td>\n",
              "      <td>KAZ</td>\n",
              "      <td>CHN</td>\n",
              "      <td>Women</td>\n",
              "      <td>4 × 400 m relay</td>\n",
              "    </tr>\n",
              "    <tr>\n",
              "      <th>583</th>\n",
              "      <td>2010</td>\n",
              "      <td>IND</td>\n",
              "      <td>KAZ</td>\n",
              "      <td>CHN</td>\n",
              "      <td>Women</td>\n",
              "      <td>4 × 400 m relay</td>\n",
              "    </tr>\n",
              "    <tr>\n",
              "      <th>584</th>\n",
              "      <td>2014</td>\n",
              "      <td>IND</td>\n",
              "      <td>JPN</td>\n",
              "      <td>CHN</td>\n",
              "      <td>Women</td>\n",
              "      <td>4 × 400 m relay</td>\n",
              "    </tr>\n",
              "    <tr>\n",
              "      <th>585</th>\n",
              "      <td>2018</td>\n",
              "      <td>IND</td>\n",
              "      <td>BRN</td>\n",
              "      <td>VIE</td>\n",
              "      <td>Women</td>\n",
              "      <td>4 × 400 m relay</td>\n",
              "    </tr>\n",
              "    <tr>\n",
              "      <th>731</th>\n",
              "      <td>2018</td>\n",
              "      <td>IND</td>\n",
              "      <td>KAZ</td>\n",
              "      <td>CHN</td>\n",
              "      <td>Mixed</td>\n",
              "      <td>4 × 400 m relay</td>\n",
              "    </tr>\n",
              "  </tbody>\n",
              "</table>\n",
              "</div>\n",
              "      <button class=\"colab-df-convert\" onclick=\"convertToInteractive('df-d405cb98-f413-425b-bf98-04fb49d0a690')\"\n",
              "              title=\"Convert this dataframe to an interactive table.\"\n",
              "              style=\"display:none;\">\n",
              "        \n",
              "  <svg xmlns=\"http://www.w3.org/2000/svg\" height=\"24px\"viewBox=\"0 0 24 24\"\n",
              "       width=\"24px\">\n",
              "    <path d=\"M0 0h24v24H0V0z\" fill=\"none\"/>\n",
              "    <path d=\"M18.56 5.44l.94 2.06.94-2.06 2.06-.94-2.06-.94-.94-2.06-.94 2.06-2.06.94zm-11 1L8.5 8.5l.94-2.06 2.06-.94-2.06-.94L8.5 2.5l-.94 2.06-2.06.94zm10 10l.94 2.06.94-2.06 2.06-.94-2.06-.94-.94-2.06-.94 2.06-2.06.94z\"/><path d=\"M17.41 7.96l-1.37-1.37c-.4-.4-.92-.59-1.43-.59-.52 0-1.04.2-1.43.59L10.3 9.45l-7.72 7.72c-.78.78-.78 2.05 0 2.83L4 21.41c.39.39.9.59 1.41.59.51 0 1.02-.2 1.41-.59l7.78-7.78 2.81-2.81c.8-.78.8-2.07 0-2.86zM5.41 20L4 18.59l7.72-7.72 1.47 1.35L5.41 20z\"/>\n",
              "  </svg>\n",
              "      </button>\n",
              "      \n",
              "  <style>\n",
              "    .colab-df-container {\n",
              "      display:flex;\n",
              "      flex-wrap:wrap;\n",
              "      gap: 12px;\n",
              "    }\n",
              "\n",
              "    .colab-df-convert {\n",
              "      background-color: #E8F0FE;\n",
              "      border: none;\n",
              "      border-radius: 50%;\n",
              "      cursor: pointer;\n",
              "      display: none;\n",
              "      fill: #1967D2;\n",
              "      height: 32px;\n",
              "      padding: 0 0 0 0;\n",
              "      width: 32px;\n",
              "    }\n",
              "\n",
              "    .colab-df-convert:hover {\n",
              "      background-color: #E2EBFA;\n",
              "      box-shadow: 0px 1px 2px rgba(60, 64, 67, 0.3), 0px 1px 3px 1px rgba(60, 64, 67, 0.15);\n",
              "      fill: #174EA6;\n",
              "    }\n",
              "\n",
              "    [theme=dark] .colab-df-convert {\n",
              "      background-color: #3B4455;\n",
              "      fill: #D2E3FC;\n",
              "    }\n",
              "\n",
              "    [theme=dark] .colab-df-convert:hover {\n",
              "      background-color: #434B5C;\n",
              "      box-shadow: 0px 1px 3px 1px rgba(0, 0, 0, 0.15);\n",
              "      filter: drop-shadow(0px 1px 2px rgba(0, 0, 0, 0.3));\n",
              "      fill: #FFFFFF;\n",
              "    }\n",
              "  </style>\n",
              "\n",
              "      <script>\n",
              "        const buttonEl =\n",
              "          document.querySelector('#df-d405cb98-f413-425b-bf98-04fb49d0a690 button.colab-df-convert');\n",
              "        buttonEl.style.display =\n",
              "          google.colab.kernel.accessAllowed ? 'block' : 'none';\n",
              "\n",
              "        async function convertToInteractive(key) {\n",
              "          const element = document.querySelector('#df-d405cb98-f413-425b-bf98-04fb49d0a690');\n",
              "          const dataTable =\n",
              "            await google.colab.kernel.invokeFunction('convertToInteractive',\n",
              "                                                     [key], {});\n",
              "          if (!dataTable) return;\n",
              "\n",
              "          const docLinkHtml = 'Like what you see? Visit the ' +\n",
              "            '<a target=\"_blank\" href=https://colab.research.google.com/notebooks/data_table.ipynb>data table notebook</a>'\n",
              "            + ' to learn more about interactive tables.';\n",
              "          element.innerHTML = '';\n",
              "          dataTable['output_type'] = 'display_data';\n",
              "          await google.colab.output.renderOutput(dataTable, element);\n",
              "          const docLink = document.createElement('div');\n",
              "          docLink.innerHTML = docLinkHtml;\n",
              "          element.appendChild(docLink);\n",
              "        }\n",
              "      </script>\n",
              "    </div>\n",
              "  </div>\n",
              "  "
            ]
          },
          "metadata": {},
          "execution_count": 373
        }
      ]
    },
    {
      "cell_type": "markdown",
      "source": [
        "Finally we have created our dataset, but I want to create another dataset which contains country codes with full country names.\n",
        "\n",
        "Let's see how can we do that.\n",
        "\n",
        "I'll take the list from https://en.wikipedia.org/wiki/List_of_IOC_country_codes"
      ],
      "metadata": {
        "id": "MZs_8zG29-ik"
      }
    },
    {
      "cell_type": "markdown",
      "source": [
        "# Country code dataset"
      ],
      "metadata": {
        "id": "L9cnZ4m5OqVC"
      }
    },
    {
      "cell_type": "code",
      "source": [
        "country_url = 'https://en.wikipedia.org/wiki/List_of_IOC_country_codes'\n",
        "country_response = requests.get(country_url)\n",
        "country_response.status_code"
      ],
      "metadata": {
        "id": "_Up6RCbGj9S9",
        "colab": {
          "base_uri": "https://localhost:8080/"
        },
        "outputId": "7dd0a8a2-c4e1-499d-d3e6-5a22ab634da8"
      },
      "execution_count": null,
      "outputs": [
        {
          "output_type": "execute_result",
          "data": {
            "text/plain": [
              "200"
            ]
          },
          "metadata": {},
          "execution_count": 374
        }
      ]
    },
    {
      "cell_type": "code",
      "source": [
        "page_contents = country_response.text\n",
        "c_doc = BeautifulSoup(page_contents, 'html.parser')\n",
        "table=c_doc.find_all('table')\n",
        "len(c_doc.find_all('table'))"
      ],
      "metadata": {
        "colab": {
          "base_uri": "https://localhost:8080/"
        },
        "id": "QNRV5Ulc2yxM",
        "outputId": "d6f8e51d-1743-4f32-9cc9-ca8f71967b3b"
      },
      "execution_count": null,
      "outputs": [
        {
          "output_type": "execute_result",
          "data": {
            "text/plain": [
              "10"
            ]
          },
          "metadata": {},
          "execution_count": 375
        }
      ]
    },
    {
      "cell_type": "code",
      "source": [
        "table[0].text"
      ],
      "metadata": {
        "colab": {
          "base_uri": "https://localhost:8080/",
          "height": 128
        },
        "id": "dWRtnpWi2-zi",
        "outputId": "0e478c56-f0ae-4e90-b004-2af689a632fe"
      },
      "execution_count": null,
      "outputs": [
        {
          "output_type": "execute_result",
          "data": {
            "text/plain": [
              "\"\\n\\nCode\\n\\nNational Olympic Committee\\n\\nOther codes used\\n\\nLink\\n\\n\\nAFG\\n\\xa0Afghanistan\\n\\n[1]\\n\\n\\nALB\\n\\xa0Albania\\n\\n[2]\\n\\n\\nALG\\n\\xa0Algeria\\nAGR (1964)AGL (1968 S) from Spanish Argelia\\n[3]\\n\\n\\nAND\\n\\xa0Andorra\\n\\n[4]\\n\\n\\nANG\\n\\xa0Angola\\nANO (As referenced in IAAF World Championships Beijing 2015 Statistics Handbook)[7]\\n[5]\\n\\n\\nANT\\n\\xa0Antigua and Barbuda\\n\\n[6]\\n\\n\\nARG\\n\\xa0Argentina\\n\\n[7]\\n\\n\\nARM\\n\\xa0Armenia\\n\\n[8]\\n\\n\\nARU\\n\\xa0Aruba\\n\\n[9]\\n\\n\\nASA\\n\\xa0American Samoa\\nAMS[7]\\n[10]\\n\\n\\nAUS\\n\\xa0Australia\\n\\n[11]\\n\\n\\nAUT\\n\\xa0Austria\\ncurrent code from French Autriche\\n[12]\\n\\n\\nAZE\\n\\xa0Azerbaijan\\n\\n[13]\\n\\n\\nBAH\\n\\xa0Bahamas\\n\\n[14]\\n\\n\\nBAN\\n\\xa0Bangladesh\\n\\n[15]\\n\\n\\nBAR\\n\\xa0Barbados\\nBAD (1964)\\n[16]\\n\\n\\nBDI\\n\\xa0Burundi\\n\\n[17]\\n\\n\\nBEL\\n\\xa0Belgium\\n\\n[18]\\n\\n\\nBEN\\n\\xa0Benin\\nDAY (1964)DAH (1968–1976) as Dahomey\\n[19]\\n\\n\\nBER\\n\\xa0Bermuda\\n\\n[20]\\n\\n\\nBHU\\n\\xa0Bhutan\\n\\n[21]\\n\\n\\nBIH\\n\\xa0Bosnia and Herzegovina\\nBSH (1992 S), BOS[7] current code from Bosnian Bosna i Hercegovina\\n[22]\\n\\n\\nBIZ\\n\\xa0Belize\\nHBR (1968–1972) from French Honduras britannique as British Honduras Also BHO[7]\\n[23]\\n\\n\\nBLR\\n\\xa0Belarus\\n\\n[24]\\n\\n\\nBOL\\n\\xa0Bolivia\\n\\n[25]\\n\\n\\nBOT\\n\\xa0Botswana\\n\\n[26]\\n\\n\\nBRA\\n\\xa0Brazil\\n\\n[27]\\n\\n\\nBRN\\n\\xa0Bahrain\\nBHR[7]\\n[28]\\n\\n\\nBRU\\n\\xa0Brunei\\n\\n[29]\\n\\n\\nBUL\\n\\xa0Bulgaria\\n\\n[30]\\n\\n\\nBUR\\n\\xa0Burkina Faso\\nVOL (1972–1984) as Upper Volta Also BKF[7]\\n[31]\\n\\n\\nCAF\\n\\xa0Central African Republic\\nAFC (1968)\\n[32]\\n\\n\\nCAM\\n\\xa0Cambodia\\nCAB (1964)KHM (1972) as Khmer Republic\\n[33]\\n\\n\\nCAN\\n\\xa0Canada\\n\\n[34]\\n\\n\\nCAY\\n\\xa0Cayman Islands\\n\\n[35]\\n\\n\\nCGO\\n\\xa0Republic of the Congo\\n\\n[36]\\n\\n\\nCHA\\n\\xa0Chad\\nCHD (1964)\\n[37]\\n\\n\\nCHI\\n\\xa0Chile\\nCIL (1956 W1960 S) from Italian Cile\\n[38]\\n\\n\\nCHN\\n\\xa0China\\nPRC (1952 S) as People's Republic of China\\n[39]\\n\\n\\nCIV\\n\\xa0Ivory Coast\\nIVC (1964)CML (1968) from Spanish Costa de Marfilcurrent code from French Côte d'Ivoire\\n[40]\\n\\n\\nCMR\\n\\xa0Cameroon\\n\\n[41]\\n\\n\\nCOD\\n\\xa0Democratic Republic of the Congo\\nCOK (1968) as Congo-KinshasaZAI (1972–1996) as Zaire\\n[42]\\n\\n\\nCOK\\n\\xa0Cook Islands\\nCKI[7]\\n[43]\\n\\n\\nCOL\\n\\xa0Colombia\\n\\n[44]\\n\\n\\nCOM\\n\\xa0Comoros\\n\\n[45]\\n\\n\\nCPV\\n\\xa0Cape Verde\\nCVD[7]\\n[46]\\n\\n\\nCRC\\n\\xa0Costa Rica\\nCOS (1964)\\n[47]\\n\\n\\nCRO\\n\\xa0Croatia\\n\\n[48]\\n\\n\\nCUB\\n\\xa0Cuba\\n\\n[49]\\n\\n\\nCYP\\n\\xa0Cyprus\\n\\n[50]\\n\\n\\nCZE\\n Czechia\\n\\n[51]\\n\\n\\nDEN\\n\\xa0Denmark\\nDAN (1960 S1968 W)DIN (1968 S)previous codes taken from Italian Danimarca, French Danemark and Spanish Dinamarca\\n[52]\\n\\n\\nDJI\\n\\xa0Djibouti\\n\\n[53]\\n\\n\\nDMA\\n\\xa0Dominica\\nDMN[7]\\n[54]\\n\\n\\nDOM\\n\\xa0Dominican Republic\\n\\n[55]\\n\\n\\nECU\\n\\xa0Ecuador\\n\\n[56]\\n\\n\\nEGY\\n\\xa0Egypt\\nRAU (19601968)UAR (1964) as United Arab Republic previous codes taken from Italian Repubblica Araba Unita, French République Arabe Unie and Spanish República Árabe Unida\\n[57]\\n\\n\\nERI\\n\\xa0Eritrea\\n\\n[58]\\n\\n\\nESA\\n\\xa0El Salvador\\nSAL (1964–1976)\\n[59]\\n\\n\\nESP\\n\\xa0Spain\\nSPA (1956–19641968 W)current code taken from French Espagne or Spanish España\\n[60]\\n\\n\\nEST\\n\\xa0Estonia\\n\\n[61]\\n\\n\\nETH\\n\\xa0Ethiopia\\nETI (19601968)\\n[62]\\n\\n\\nFIJ\\n\\xa0Fiji\\nFIG (1960) from Italian Figi\\n[63]\\n\\n\\nFIN\\n\\xa0Finland\\n\\n[64]\\n\\n\\nFRA\\n\\xa0France\\n\\n[65]\\n\\n\\nFSM\\n\\xa0Federated States of Micronesia\\n\\n[66]\\n\\n\\nGAB\\n\\xa0Gabon\\n\\n[67]\\n\\n\\nGAM\\n\\xa0The Gambia\\n\\n[68]\\n\\n\\nGBR\\n\\xa0Great Britain\\nGRB (1956 W–1960)GBI (1964)\\n[69]\\n\\n\\nGBS\\n\\xa0Guinea-Bissau\\n\\n[70]\\n\\n\\nGEO\\n\\xa0Georgia\\n\\n[71]\\n\\n\\nGEQ\\n\\xa0Equatorial Guinea\\n\\n[72]\\n\\n\\nGER\\n\\xa0Germany\\n\\n[73]\\n\\n\\nGHA\\n\\xa0Ghana\\n\\n[74]\\n\\n\\nGRE\\n\\xa0Greece\\n\\n[75]\\n\\n\\nGRN\\n\\xa0Grenada\\n\\n[76]\\n\\n\\nGUA\\n\\xa0Guatemala\\nGUT (1964)\\n[77]\\n\\n\\nGUI\\n\\xa0Guinea\\n\\n[78]\\n\\n\\nGUM\\n\\xa0Guam\\n\\n[79]\\n\\n\\nGUY\\n\\xa0Guyana\\nGUA (1960)GUI (1964) BGU[7]\\n[80]\\n\\n\\nHAI\\n\\xa0Haiti\\n\\n[81]\\n\\n\\nHKG\\n\\xa0Hong Kong, China\\nHOK (1960–1968)\\n[82]\\n\\n\\nHON\\n\\xa0Honduras\\n\\n[83]\\n\\n\\nHUN\\n\\xa0Hungary\\nUNG (1956 W1960 S) from Italian Ungheria\\n[84]\\n\\n\\nINA\\n\\xa0Indonesia\\nINS (1960)\\n[85]\\n\\n\\nIND\\n\\xa0India\\n\\n[86]\\n\\n\\nIRI\\n\\xa0Iran\\nIRN (1956–1988)IRA (1968 W)current code from Islamic Republic of Iran\\n[87]\\n\\n\\nIRL\\n\\xa0Ireland\\ncurrent code taken from French Irlande\\n[88]\\n\\n\\nIRQ\\n\\xa0Iraq\\nIRK (19601968) from French/Spanish Irak\\n[89]\\n\\n\\nISL\\n\\xa0Iceland\\nICE (1960 W1964 S)current code taken from French Islande, Icelandic Ísland or Spanish Islandia\\n[90]\\n\\n\\nISR\\n\\xa0Israel\\n\\n[91]\\n\\n\\nISV\\n\\xa0Virgin Islands\\ncurrent code taken from French Îles Vierges (des États-Unis)\\n[92]\\n\\n\\nITA\\n\\xa0Italy\\n\\n[93]\\n\\n\\nIVB\\n\\xa0British Virgin Islands\\ncurrent code taken from French Îles Vierges britanniques\\n[94]\\n\\n\\nJAM\\n\\xa0Jamaica\\n\\n[95]\\n\\n\\nJOR\\n\\xa0Jordan\\n\\n[96]\\n\\n\\nJPN\\n\\xa0Japan\\nGIA (1956 W1960 S) from Italian GiapponeJAP (1960 W)\\n[97]\\n\\n\\nKAZ\\n\\xa0Kazakhstan\\n\\n[98]\\n\\n\\nKEN\\n\\xa0Kenya\\n\\n[99]\\n\\n\\nKGZ\\n\\xa0Kyrgyzstan\\n\\n[100]\\n\\n\\nKIR\\n\\xa0Kiribati\\n\\n[101]\\n\\n\\nKOR\\n\\xa0South Korea\\nCOR (1956 W1960 S1968 S1972 S)previous code taken from Italian Corea, French Corée and Spanish Corea\\n[102]\\n\\n\\nKOS\\n\\xa0Kosovo\\n\\n[103]\\n\\n\\nKSA\\n\\xa0Saudi Arabia\\nARS (1968–1976) from French Arabie saouditeSAU (1980–1984)current code from Kingdom of Saudi Arabia\\n[104]\\n\\n\\nKUW\\n\\xa0Kuwait\\n\\n[105]\\n\\n\\nLAO\\n\\xa0Laos\\n\\n[106]\\n\\n\\nLAT\\n\\xa0Latvia\\n\\n[107]\\n\\n\\nLBA\\n\\xa0Libya\\nLYA (1964)LBY (1968 W)\\n[108]\\n\\n\\nLBN\\n\\xa0Lebanon\\nLEB (1960 W1964 S)LIB (1964–2016) from French Liban\\n[109]\\n\\n\\nLBR\\n\\xa0Liberia\\n\\n[110]\\n\\n\\nLCA\\n\\xa0Saint Lucia\\n\\n[111]\\n\\n\\nLES\\n\\xa0Lesotho\\n\\n[112]\\n\\n\\nLIE\\n\\xa0Liechtenstein\\nLIC (1956 W1964 S1968 W)\\n[113]\\n\\n\\nLTU\\n\\xa0Lithuania\\nLIT (1992 W)\\n[114]\\n\\n\\nLUX\\n\\xa0Luxembourg\\n\\n[115]\\n\\n\\nMAD\\n\\xa0Madagascar\\nMAG (1964)\\n[116]\\n\\n\\nMAR\\n\\xa0Morocco\\nMRC (1964); current code from French Maroc\\n[117]\\n\\n\\nMAS\\n\\xa0Malaysia\\nMAL (1964–1988)\\n[118]\\n\\n\\nMAW\\n\\xa0Malawi\\n\\n[119]\\n\\n\\nMDA\\n\\xa0Moldova\\nMLD (1994)\\n[120]\\n\\n\\nMDV\\n\\xa0Maldives\\n\\n[121]\\n\\n\\nMEX\\n\\xa0Mexico\\n\\n[122]\\n\\n\\nMGL\\n\\xa0Mongolia\\nMON (1968 W)\\n[123]\\n\\n\\nMHL\\n\\xa0Marshall Islands\\n\\n[124]\\n\\n\\nMKD\\n North Macedonia\\ncurrent code taken from Macedonian Македонија/Makedonija\\n[125]\\n\\n\\nMLI\\n\\xa0Mali\\n\\n[126]\\n\\n\\nMLT\\n\\xa0Malta\\nMAT (1960–1964)\\n[127]\\n\\n\\nMNE\\n\\xa0Montenegro\\n\\n[128]\\n\\n\\nMON\\n\\xa0Monaco\\n\\n[129]\\n\\n\\nMOZ\\n\\xa0Mozambique\\n\\n[130]\\n\\n\\nMRI\\n\\xa0Mauritius\\nFrom French Maurice\\n[131]\\n\\n\\nMTN\\n\\xa0Mauritania\\n\\n[132]\\n\\n\\nMYA\\n\\xa0Myanmar\\nBIR (1948–19601968–1988) from French  BirmanieBUR (1964) as  Burma\\n[133]\\n\\n\\nNAM\\n\\xa0Namibia\\n\\n[134]\\n\\n\\nNCA\\n\\xa0Nicaragua\\nNCG (1964)NIC (1968)\\n[135]\\n\\n\\nNED\\n\\xa0Netherlands\\nOLA (1956 W) from Italian OlandaNET (1960 W)PBA (1960 S) from Italian Paesi BassiNLD (1964 S)HOL (1968–1988) as  Hollandcurrent code taken from Dutch Nederland\\n[136]\\n\\n\\nNEP\\n\\xa0Nepal\\n\\n[137]\\n\\n\\nNGR\\n\\xa0Nigeria\\nNIG (1960 S)NGA (1964)\\n[138]\\n\\n\\nNIG\\n\\xa0Niger\\nNGR (1964)\\n[139]\\n\\n\\nNOR\\n\\xa0Norway\\n\\n[140]\\n\\n\\nNRU\\n\\xa0Nauru\\n\\n[141]\\n\\n\\nNZL\\n\\xa0New Zealand\\nNZE (19601968 W)\\n[142]\\n\\n\\nOMA\\n\\xa0Oman\\n\\n[143]\\n\\n\\nPAK\\n\\xa0Pakistan\\n\\n[144]\\n\\n\\nPAN\\n\\xa0Panama\\n\\n[145]\\n\\n\\nPAR\\n\\xa0Paraguay\\n\\n[146]\\n\\n\\nPER\\n\\xa0Peru\\n\\n[147]\\n\\n\\nPHI\\n\\xa0Philippines\\nFIL (19601968) from Italian Filippine and Spanish Filipinas\\n[148]\\n\\n\\nPLE\\n\\xa0Palestine\\n\\n[149]\\n\\n\\nPLW\\n\\xa0Palau\\n\\n[150]\\n\\n\\nPNG\\n\\xa0Papua New Guinea\\nNGY (1976–1980)NGU (1984–1988)\\n[151]\\n\\n\\nPOL\\n\\xa0Poland\\n\\n[152]\\n\\n\\nPOR\\n\\xa0Portugal\\n\\n[153]\\n\\n\\nPRK\\n\\xa0North Korea\\nNKO (1964 S1968 W)CDN (1968) from French Corée du Nord or Spanish Corea del Nortecurrent code from People's Republic of Korea\\n[154]\\n\\n\\nPUR\\n\\xa0Puerto Rico\\nPRI (1960)PRO (1968)\\n[155]\\n\\n\\nQAT\\n\\xa0Qatar\\n\\n[156]\\n\\n\\nROU\\n\\xa0Romania\\nROM (1956–19601972–2006)RUM (1964–1968) from obsolete spelling Rumaniacurrent code from French Roumanie\\n[157]\\n\\n\\nRSA\\n\\xa0South Africa\\nSAF (1960–1972)current code from Republic of South Africa\\n[158]\\n\\n\\nRUS\\n\\xa0Russia\\nFrom 1994 to 2016\\n[159]\\n\\n\\nRWA\\n\\xa0Rwanda\\n\\n[160]\\n\\n\\nSAM\\n\\xa0Samoa\\nWSM (1984–1996) as Western Samoa\\n[161]\\n\\n\\nSEN\\n\\xa0Senegal\\nSGL (1964)\\n[162]\\n\\n\\nSEY\\n\\xa0Seychelles\\n\\n[163]\\n\\n\\nSGP\\n\\xa0Singapore\\nSIN (1959–2016)\\n[164]\\n\\n\\nSKN\\n\\xa0Saint Kitts and Nevis\\n\\n[165]\\n\\n\\nSLE\\n\\xa0Sierra Leone\\nSLA (1968)\\n[166]\\n\\n\\nSLO\\n\\xa0Slovenia\\n\\n[167]\\n\\n\\nSMR\\n\\xa0San Marino\\nSMA (1960–1964)\\n[168]\\n\\n\\nSOL\\n\\xa0Solomon Islands\\n\\n[169]\\n\\n\\nSOM\\n\\xa0Somalia\\n\\n[170]\\n\\n\\nSRB\\n\\xa0Serbia\\n\\n[171]\\n\\n\\nSRI\\n\\xa0Sri Lanka\\nCEY (1948–19641972) as  CeylonCEI (1968 S) from Spanish Ceilán\\n[172]\\n\\n\\nSSD\\n\\xa0South Sudan\\n\\n[173]\\n\\n\\nSTP\\n\\xa0São Tomé and Príncipe\\n\\n[174]\\n\\n\\nSUD\\n\\xa0Sudan\\n\\n[175]\\n\\n\\nSUI\\n\\xa0Switzerland\\nSVI (1956 W1960 S) from Italian SvizzeraSWI (1960 W1964 S)current code from French Suisse\\n[176]\\n\\n\\nSUR\\n\\xa0Suriname\\n\\n[177]\\n\\n\\nSVK\\n\\xa0Slovakia\\n\\n[178]\\n\\n\\nSWE\\n\\xa0Sweden\\nSVE (1956 W1960 S) from Italian SveziaSUE (1968 S) from Spanish Suecia\\n[179]\\n\\n\\nSWZ\\n Eswatini\\ncurrent code from former name Swaziland\\n[180]\\n\\n\\nSYR\\n\\xa0Syria\\nSIR (1968) from Spanish Siria\\n[181]\\n\\n\\nTAN\\n\\xa0Tanzania\\n\\n[182]\\n\\n\\nTGA\\n\\xa0Tonga\\nTON (1984)\\n[183]\\n\\n\\nTHA\\n\\xa0Thailand\\n\\n[184]\\n\\n\\nTJK\\n\\xa0Tajikistan\\n\\n[185]\\n\\n\\nTKM\\n\\xa0Turkmenistan\\n\\n[186]\\n\\n\\nTLS\\n\\xa0East Timor\\ncurrent code taken from Portuguese Timor-Leste\\n[187]\\n\\n\\nTOG\\n\\xa0Togo\\n\\n[188]\\n\\n\\nTPE\\n\\xa0Chinese Taipei[8]\\nRCF (1956–1960) as Republic of China, FormosaTWN (1964–1968) as  TaiwanROC (1972–1976) as  Republic of China\\n[189]\\n\\n\\nTTO\\n\\xa0Trinidad and Tobago\\nTRT (1964–1968)TRI (1972–2012)\\n[190]\\n\\n\\nTUN\\n\\xa0Tunisia\\n\\n[191]\\n\\n\\nTUR\\n\\xa0Turkey\\n\\n[192]\\n\\n\\nTUV\\n\\xa0Tuvalu\\n\\n[193]\\n\\n\\nUAE\\n\\xa0United Arab Emirates\\n\\n[194]\\n\\n\\nUGA\\n\\xa0Uganda\\n\\n[195]\\n\\n\\nUKR\\n\\xa0Ukraine\\n\\n[196]\\n\\n\\nURU\\n\\xa0Uruguay\\nURG (1968)\\n[197]\\n\\n\\nUSA\\n\\xa0United States\\nSUA (1960 S) from Italian Stati Uniti d'AmericaEUA (1968 S) from French États-Unis d'Amérique or Spanish Estados Unidos de América\\n[198]\\n\\n\\nUZB\\n\\xa0Uzbekistan\\n\\n[199]\\n\\n\\nVAN\\n\\xa0Vanuatu\\n\\n[200]\\n\\n\\nVEN\\n\\xa0Venezuela\\n\\n[201]\\n\\n\\nVIE\\n\\xa0Vietnam\\nVET (1964)VNM (1968–1976)\\n[202]\\n\\n\\nVIN\\n\\xa0Saint Vincent and the Grenadines\\n\\n[203]\\n\\n\\nYEM\\n\\xa0Yemen\\n\\n[204]\\n\\n\\nZAM\\n\\xa0Zambia\\nNRH (1964) as Northern Rhodesia\\n[205]\\n\\n\\nZIM\\n\\xa0Zimbabwe\\nRHO (1960–1972) as Rhodesia\\n[206]\\n\""
            ],
            "application/vnd.google.colaboratory.intrinsic+json": {
              "type": "string"
            }
          },
          "metadata": {},
          "execution_count": 376
        }
      ]
    },
    {
      "cell_type": "code",
      "source": [
        "#changing table 0 to dataframe\n",
        "\n",
        "country=pd.read_html(str(table[0]))\n",
        "# convert list to dataframe\n",
        "country=pd.DataFrame(country[0])\n",
        "country.tail()"
      ],
      "metadata": {
        "colab": {
          "base_uri": "https://localhost:8080/",
          "height": 206
        },
        "id": "L9JhlSe63gjr",
        "outputId": "d78c1b58-d7f2-4abb-eb78-b272bca35c2f"
      },
      "execution_count": null,
      "outputs": [
        {
          "output_type": "execute_result",
          "data": {
            "text/plain": [
              "    Code        National Olympic Committee                 Other codes used  \\\n",
              "201  VIE                           Vietnam        VET (1964)VNM (1968–1976)   \n",
              "202  VIN  Saint Vincent and the Grenadines                              NaN   \n",
              "203  YEM                             Yemen                              NaN   \n",
              "204  ZAM                            Zambia  NRH (1964) as Northern Rhodesia   \n",
              "205  ZIM                          Zimbabwe      RHO (1960–1972) as Rhodesia   \n",
              "\n",
              "      Link  \n",
              "201  [202]  \n",
              "202  [203]  \n",
              "203  [204]  \n",
              "204  [205]  \n",
              "205  [206]  "
            ],
            "text/html": [
              "\n",
              "  <div id=\"df-90eb9499-35ae-4a0c-85d0-d937fe0ccfe7\">\n",
              "    <div class=\"colab-df-container\">\n",
              "      <div>\n",
              "<style scoped>\n",
              "    .dataframe tbody tr th:only-of-type {\n",
              "        vertical-align: middle;\n",
              "    }\n",
              "\n",
              "    .dataframe tbody tr th {\n",
              "        vertical-align: top;\n",
              "    }\n",
              "\n",
              "    .dataframe thead th {\n",
              "        text-align: right;\n",
              "    }\n",
              "</style>\n",
              "<table border=\"1\" class=\"dataframe\">\n",
              "  <thead>\n",
              "    <tr style=\"text-align: right;\">\n",
              "      <th></th>\n",
              "      <th>Code</th>\n",
              "      <th>National Olympic Committee</th>\n",
              "      <th>Other codes used</th>\n",
              "      <th>Link</th>\n",
              "    </tr>\n",
              "  </thead>\n",
              "  <tbody>\n",
              "    <tr>\n",
              "      <th>201</th>\n",
              "      <td>VIE</td>\n",
              "      <td>Vietnam</td>\n",
              "      <td>VET (1964)VNM (1968–1976)</td>\n",
              "      <td>[202]</td>\n",
              "    </tr>\n",
              "    <tr>\n",
              "      <th>202</th>\n",
              "      <td>VIN</td>\n",
              "      <td>Saint Vincent and the Grenadines</td>\n",
              "      <td>NaN</td>\n",
              "      <td>[203]</td>\n",
              "    </tr>\n",
              "    <tr>\n",
              "      <th>203</th>\n",
              "      <td>YEM</td>\n",
              "      <td>Yemen</td>\n",
              "      <td>NaN</td>\n",
              "      <td>[204]</td>\n",
              "    </tr>\n",
              "    <tr>\n",
              "      <th>204</th>\n",
              "      <td>ZAM</td>\n",
              "      <td>Zambia</td>\n",
              "      <td>NRH (1964) as Northern Rhodesia</td>\n",
              "      <td>[205]</td>\n",
              "    </tr>\n",
              "    <tr>\n",
              "      <th>205</th>\n",
              "      <td>ZIM</td>\n",
              "      <td>Zimbabwe</td>\n",
              "      <td>RHO (1960–1972) as Rhodesia</td>\n",
              "      <td>[206]</td>\n",
              "    </tr>\n",
              "  </tbody>\n",
              "</table>\n",
              "</div>\n",
              "      <button class=\"colab-df-convert\" onclick=\"convertToInteractive('df-90eb9499-35ae-4a0c-85d0-d937fe0ccfe7')\"\n",
              "              title=\"Convert this dataframe to an interactive table.\"\n",
              "              style=\"display:none;\">\n",
              "        \n",
              "  <svg xmlns=\"http://www.w3.org/2000/svg\" height=\"24px\"viewBox=\"0 0 24 24\"\n",
              "       width=\"24px\">\n",
              "    <path d=\"M0 0h24v24H0V0z\" fill=\"none\"/>\n",
              "    <path d=\"M18.56 5.44l.94 2.06.94-2.06 2.06-.94-2.06-.94-.94-2.06-.94 2.06-2.06.94zm-11 1L8.5 8.5l.94-2.06 2.06-.94-2.06-.94L8.5 2.5l-.94 2.06-2.06.94zm10 10l.94 2.06.94-2.06 2.06-.94-2.06-.94-.94-2.06-.94 2.06-2.06.94z\"/><path d=\"M17.41 7.96l-1.37-1.37c-.4-.4-.92-.59-1.43-.59-.52 0-1.04.2-1.43.59L10.3 9.45l-7.72 7.72c-.78.78-.78 2.05 0 2.83L4 21.41c.39.39.9.59 1.41.59.51 0 1.02-.2 1.41-.59l7.78-7.78 2.81-2.81c.8-.78.8-2.07 0-2.86zM5.41 20L4 18.59l7.72-7.72 1.47 1.35L5.41 20z\"/>\n",
              "  </svg>\n",
              "      </button>\n",
              "      \n",
              "  <style>\n",
              "    .colab-df-container {\n",
              "      display:flex;\n",
              "      flex-wrap:wrap;\n",
              "      gap: 12px;\n",
              "    }\n",
              "\n",
              "    .colab-df-convert {\n",
              "      background-color: #E8F0FE;\n",
              "      border: none;\n",
              "      border-radius: 50%;\n",
              "      cursor: pointer;\n",
              "      display: none;\n",
              "      fill: #1967D2;\n",
              "      height: 32px;\n",
              "      padding: 0 0 0 0;\n",
              "      width: 32px;\n",
              "    }\n",
              "\n",
              "    .colab-df-convert:hover {\n",
              "      background-color: #E2EBFA;\n",
              "      box-shadow: 0px 1px 2px rgba(60, 64, 67, 0.3), 0px 1px 3px 1px rgba(60, 64, 67, 0.15);\n",
              "      fill: #174EA6;\n",
              "    }\n",
              "\n",
              "    [theme=dark] .colab-df-convert {\n",
              "      background-color: #3B4455;\n",
              "      fill: #D2E3FC;\n",
              "    }\n",
              "\n",
              "    [theme=dark] .colab-df-convert:hover {\n",
              "      background-color: #434B5C;\n",
              "      box-shadow: 0px 1px 3px 1px rgba(0, 0, 0, 0.15);\n",
              "      filter: drop-shadow(0px 1px 2px rgba(0, 0, 0, 0.3));\n",
              "      fill: #FFFFFF;\n",
              "    }\n",
              "  </style>\n",
              "\n",
              "      <script>\n",
              "        const buttonEl =\n",
              "          document.querySelector('#df-90eb9499-35ae-4a0c-85d0-d937fe0ccfe7 button.colab-df-convert');\n",
              "        buttonEl.style.display =\n",
              "          google.colab.kernel.accessAllowed ? 'block' : 'none';\n",
              "\n",
              "        async function convertToInteractive(key) {\n",
              "          const element = document.querySelector('#df-90eb9499-35ae-4a0c-85d0-d937fe0ccfe7');\n",
              "          const dataTable =\n",
              "            await google.colab.kernel.invokeFunction('convertToInteractive',\n",
              "                                                     [key], {});\n",
              "          if (!dataTable) return;\n",
              "\n",
              "          const docLinkHtml = 'Like what you see? Visit the ' +\n",
              "            '<a target=\"_blank\" href=https://colab.research.google.com/notebooks/data_table.ipynb>data table notebook</a>'\n",
              "            + ' to learn more about interactive tables.';\n",
              "          element.innerHTML = '';\n",
              "          dataTable['output_type'] = 'display_data';\n",
              "          await google.colab.output.renderOutput(dataTable, element);\n",
              "          const docLink = document.createElement('div');\n",
              "          docLink.innerHTML = docLinkHtml;\n",
              "          element.appendChild(docLink);\n",
              "        }\n",
              "      </script>\n",
              "    </div>\n",
              "  </div>\n",
              "  "
            ]
          },
          "metadata": {},
          "execution_count": 377
        }
      ]
    },
    {
      "cell_type": "code",
      "source": [
        "#From here we'll take the Nation and Code\n",
        "\n",
        "country= country[['Code',\t'National Olympic Committee',\t'Other codes used']]\n"
      ],
      "metadata": {
        "id": "vPIAj2fl3xs0"
      },
      "execution_count": null,
      "outputs": []
    },
    {
      "cell_type": "code",
      "source": [
        "country.head()"
      ],
      "metadata": {
        "colab": {
          "base_uri": "https://localhost:8080/",
          "height": 206
        },
        "id": "GIjrNOlUNLox",
        "outputId": "b521fa85-9272-4a3e-f0a6-51c0e86f6985"
      },
      "execution_count": null,
      "outputs": [
        {
          "output_type": "execute_result",
          "data": {
            "text/plain": [
              "                                                Code  \\\n",
              "0  .mw-parser-output .monospaced{font-family:mono...   \n",
              "1                                                ALB   \n",
              "2                                                ALG   \n",
              "3                                                AND   \n",
              "4                                                ANG   \n",
              "\n",
              "  National Olympic Committee  \\\n",
              "0                Afghanistan   \n",
              "1                    Albania   \n",
              "2                    Algeria   \n",
              "3                    Andorra   \n",
              "4                     Angola   \n",
              "\n",
              "                                    Other codes used  \n",
              "0                                                NaN  \n",
              "1                                                NaN  \n",
              "2        AGR (1964)AGL (1968 S) from Spanish Argelia  \n",
              "3                                                NaN  \n",
              "4  ANO (As referenced in IAAF World Championships...  "
            ],
            "text/html": [
              "\n",
              "  <div id=\"df-e002d242-44d6-44d0-957f-af0185c314ac\">\n",
              "    <div class=\"colab-df-container\">\n",
              "      <div>\n",
              "<style scoped>\n",
              "    .dataframe tbody tr th:only-of-type {\n",
              "        vertical-align: middle;\n",
              "    }\n",
              "\n",
              "    .dataframe tbody tr th {\n",
              "        vertical-align: top;\n",
              "    }\n",
              "\n",
              "    .dataframe thead th {\n",
              "        text-align: right;\n",
              "    }\n",
              "</style>\n",
              "<table border=\"1\" class=\"dataframe\">\n",
              "  <thead>\n",
              "    <tr style=\"text-align: right;\">\n",
              "      <th></th>\n",
              "      <th>Code</th>\n",
              "      <th>National Olympic Committee</th>\n",
              "      <th>Other codes used</th>\n",
              "    </tr>\n",
              "  </thead>\n",
              "  <tbody>\n",
              "    <tr>\n",
              "      <th>0</th>\n",
              "      <td>.mw-parser-output .monospaced{font-family:mono...</td>\n",
              "      <td>Afghanistan</td>\n",
              "      <td>NaN</td>\n",
              "    </tr>\n",
              "    <tr>\n",
              "      <th>1</th>\n",
              "      <td>ALB</td>\n",
              "      <td>Albania</td>\n",
              "      <td>NaN</td>\n",
              "    </tr>\n",
              "    <tr>\n",
              "      <th>2</th>\n",
              "      <td>ALG</td>\n",
              "      <td>Algeria</td>\n",
              "      <td>AGR (1964)AGL (1968 S) from Spanish Argelia</td>\n",
              "    </tr>\n",
              "    <tr>\n",
              "      <th>3</th>\n",
              "      <td>AND</td>\n",
              "      <td>Andorra</td>\n",
              "      <td>NaN</td>\n",
              "    </tr>\n",
              "    <tr>\n",
              "      <th>4</th>\n",
              "      <td>ANG</td>\n",
              "      <td>Angola</td>\n",
              "      <td>ANO (As referenced in IAAF World Championships...</td>\n",
              "    </tr>\n",
              "  </tbody>\n",
              "</table>\n",
              "</div>\n",
              "      <button class=\"colab-df-convert\" onclick=\"convertToInteractive('df-e002d242-44d6-44d0-957f-af0185c314ac')\"\n",
              "              title=\"Convert this dataframe to an interactive table.\"\n",
              "              style=\"display:none;\">\n",
              "        \n",
              "  <svg xmlns=\"http://www.w3.org/2000/svg\" height=\"24px\"viewBox=\"0 0 24 24\"\n",
              "       width=\"24px\">\n",
              "    <path d=\"M0 0h24v24H0V0z\" fill=\"none\"/>\n",
              "    <path d=\"M18.56 5.44l.94 2.06.94-2.06 2.06-.94-2.06-.94-.94-2.06-.94 2.06-2.06.94zm-11 1L8.5 8.5l.94-2.06 2.06-.94-2.06-.94L8.5 2.5l-.94 2.06-2.06.94zm10 10l.94 2.06.94-2.06 2.06-.94-2.06-.94-.94-2.06-.94 2.06-2.06.94z\"/><path d=\"M17.41 7.96l-1.37-1.37c-.4-.4-.92-.59-1.43-.59-.52 0-1.04.2-1.43.59L10.3 9.45l-7.72 7.72c-.78.78-.78 2.05 0 2.83L4 21.41c.39.39.9.59 1.41.59.51 0 1.02-.2 1.41-.59l7.78-7.78 2.81-2.81c.8-.78.8-2.07 0-2.86zM5.41 20L4 18.59l7.72-7.72 1.47 1.35L5.41 20z\"/>\n",
              "  </svg>\n",
              "      </button>\n",
              "      \n",
              "  <style>\n",
              "    .colab-df-container {\n",
              "      display:flex;\n",
              "      flex-wrap:wrap;\n",
              "      gap: 12px;\n",
              "    }\n",
              "\n",
              "    .colab-df-convert {\n",
              "      background-color: #E8F0FE;\n",
              "      border: none;\n",
              "      border-radius: 50%;\n",
              "      cursor: pointer;\n",
              "      display: none;\n",
              "      fill: #1967D2;\n",
              "      height: 32px;\n",
              "      padding: 0 0 0 0;\n",
              "      width: 32px;\n",
              "    }\n",
              "\n",
              "    .colab-df-convert:hover {\n",
              "      background-color: #E2EBFA;\n",
              "      box-shadow: 0px 1px 2px rgba(60, 64, 67, 0.3), 0px 1px 3px 1px rgba(60, 64, 67, 0.15);\n",
              "      fill: #174EA6;\n",
              "    }\n",
              "\n",
              "    [theme=dark] .colab-df-convert {\n",
              "      background-color: #3B4455;\n",
              "      fill: #D2E3FC;\n",
              "    }\n",
              "\n",
              "    [theme=dark] .colab-df-convert:hover {\n",
              "      background-color: #434B5C;\n",
              "      box-shadow: 0px 1px 3px 1px rgba(0, 0, 0, 0.15);\n",
              "      filter: drop-shadow(0px 1px 2px rgba(0, 0, 0, 0.3));\n",
              "      fill: #FFFFFF;\n",
              "    }\n",
              "  </style>\n",
              "\n",
              "      <script>\n",
              "        const buttonEl =\n",
              "          document.querySelector('#df-e002d242-44d6-44d0-957f-af0185c314ac button.colab-df-convert');\n",
              "        buttonEl.style.display =\n",
              "          google.colab.kernel.accessAllowed ? 'block' : 'none';\n",
              "\n",
              "        async function convertToInteractive(key) {\n",
              "          const element = document.querySelector('#df-e002d242-44d6-44d0-957f-af0185c314ac');\n",
              "          const dataTable =\n",
              "            await google.colab.kernel.invokeFunction('convertToInteractive',\n",
              "                                                     [key], {});\n",
              "          if (!dataTable) return;\n",
              "\n",
              "          const docLinkHtml = 'Like what you see? Visit the ' +\n",
              "            '<a target=\"_blank\" href=https://colab.research.google.com/notebooks/data_table.ipynb>data table notebook</a>'\n",
              "            + ' to learn more about interactive tables.';\n",
              "          element.innerHTML = '';\n",
              "          dataTable['output_type'] = 'display_data';\n",
              "          await google.colab.output.renderOutput(dataTable, element);\n",
              "          const docLink = document.createElement('div');\n",
              "          docLink.innerHTML = docLinkHtml;\n",
              "          element.appendChild(docLink);\n",
              "        }\n",
              "      </script>\n",
              "    </div>\n",
              "  </div>\n",
              "  "
            ]
          },
          "metadata": {},
          "execution_count": 379
        }
      ]
    },
    {
      "cell_type": "markdown",
      "source": [
        "So here I could see for country Afghanistan, the record seems to have some extra values. We need to remove that.\n",
        "\n",
        "But before that we need to check if there is any other code that is similar like this.\n",
        "\n",
        "We'll check that by using the length of the code"
      ],
      "metadata": {
        "id": "MNaUN2GcNPLq"
      }
    },
    {
      "cell_type": "code",
      "source": [
        "for i in country.Code:\n",
        "  if len(i) >3:\n",
        "    print(i)"
      ],
      "metadata": {
        "colab": {
          "base_uri": "https://localhost:8080/"
        },
        "id": "g3xDe_9NMikT",
        "outputId": "ddd8c61b-2ff4-4a2c-beb9-cc65dd081701"
      },
      "execution_count": null,
      "outputs": [
        {
          "output_type": "stream",
          "name": "stdout",
          "text": [
            ".mw-parser-output .monospaced{font-family:monospace,monospace}AFG\n"
          ]
        }
      ]
    },
    {
      "cell_type": "markdown",
      "source": [
        "It seems that only the first value has this. We'll manually change that here"
      ],
      "metadata": {
        "id": "WPTHT14qNqpA"
      }
    },
    {
      "cell_type": "code",
      "source": [
        "country.Code[0]='AFG'\n",
        "country.Code[0]"
      ],
      "metadata": {
        "colab": {
          "base_uri": "https://localhost:8080/",
          "height": 36
        },
        "id": "eebLy98sNpa4",
        "outputId": "afb994e9-830d-413a-84c6-bd0daf472613"
      },
      "execution_count": null,
      "outputs": [
        {
          "output_type": "execute_result",
          "data": {
            "text/plain": [
              "'AFG'"
            ],
            "application/vnd.google.colaboratory.intrinsic+json": {
              "type": "string"
            }
          },
          "metadata": {},
          "execution_count": 381
        }
      ]
    },
    {
      "cell_type": "code",
      "source": [
        "country"
      ],
      "metadata": {
        "colab": {
          "base_uri": "https://localhost:8080/",
          "height": 423
        },
        "id": "wQMK421LN6zy",
        "outputId": "6d864308-b306-434b-af83-640f3eae400e"
      },
      "execution_count": null,
      "outputs": [
        {
          "output_type": "execute_result",
          "data": {
            "text/plain": [
              "    Code        National Olympic Committee  \\\n",
              "0    AFG                       Afghanistan   \n",
              "1    ALB                           Albania   \n",
              "2    ALG                           Algeria   \n",
              "3    AND                           Andorra   \n",
              "4    ANG                            Angola   \n",
              "..   ...                               ...   \n",
              "201  VIE                           Vietnam   \n",
              "202  VIN  Saint Vincent and the Grenadines   \n",
              "203  YEM                             Yemen   \n",
              "204  ZAM                            Zambia   \n",
              "205  ZIM                          Zimbabwe   \n",
              "\n",
              "                                      Other codes used  \n",
              "0                                                  NaN  \n",
              "1                                                  NaN  \n",
              "2          AGR (1964)AGL (1968 S) from Spanish Argelia  \n",
              "3                                                  NaN  \n",
              "4    ANO (As referenced in IAAF World Championships...  \n",
              "..                                                 ...  \n",
              "201                          VET (1964)VNM (1968–1976)  \n",
              "202                                                NaN  \n",
              "203                                                NaN  \n",
              "204                    NRH (1964) as Northern Rhodesia  \n",
              "205                        RHO (1960–1972) as Rhodesia  \n",
              "\n",
              "[206 rows x 3 columns]"
            ],
            "text/html": [
              "\n",
              "  <div id=\"df-c6a33d70-4486-4466-a34a-8e39c07bb272\">\n",
              "    <div class=\"colab-df-container\">\n",
              "      <div>\n",
              "<style scoped>\n",
              "    .dataframe tbody tr th:only-of-type {\n",
              "        vertical-align: middle;\n",
              "    }\n",
              "\n",
              "    .dataframe tbody tr th {\n",
              "        vertical-align: top;\n",
              "    }\n",
              "\n",
              "    .dataframe thead th {\n",
              "        text-align: right;\n",
              "    }\n",
              "</style>\n",
              "<table border=\"1\" class=\"dataframe\">\n",
              "  <thead>\n",
              "    <tr style=\"text-align: right;\">\n",
              "      <th></th>\n",
              "      <th>Code</th>\n",
              "      <th>National Olympic Committee</th>\n",
              "      <th>Other codes used</th>\n",
              "    </tr>\n",
              "  </thead>\n",
              "  <tbody>\n",
              "    <tr>\n",
              "      <th>0</th>\n",
              "      <td>AFG</td>\n",
              "      <td>Afghanistan</td>\n",
              "      <td>NaN</td>\n",
              "    </tr>\n",
              "    <tr>\n",
              "      <th>1</th>\n",
              "      <td>ALB</td>\n",
              "      <td>Albania</td>\n",
              "      <td>NaN</td>\n",
              "    </tr>\n",
              "    <tr>\n",
              "      <th>2</th>\n",
              "      <td>ALG</td>\n",
              "      <td>Algeria</td>\n",
              "      <td>AGR (1964)AGL (1968 S) from Spanish Argelia</td>\n",
              "    </tr>\n",
              "    <tr>\n",
              "      <th>3</th>\n",
              "      <td>AND</td>\n",
              "      <td>Andorra</td>\n",
              "      <td>NaN</td>\n",
              "    </tr>\n",
              "    <tr>\n",
              "      <th>4</th>\n",
              "      <td>ANG</td>\n",
              "      <td>Angola</td>\n",
              "      <td>ANO (As referenced in IAAF World Championships...</td>\n",
              "    </tr>\n",
              "    <tr>\n",
              "      <th>...</th>\n",
              "      <td>...</td>\n",
              "      <td>...</td>\n",
              "      <td>...</td>\n",
              "    </tr>\n",
              "    <tr>\n",
              "      <th>201</th>\n",
              "      <td>VIE</td>\n",
              "      <td>Vietnam</td>\n",
              "      <td>VET (1964)VNM (1968–1976)</td>\n",
              "    </tr>\n",
              "    <tr>\n",
              "      <th>202</th>\n",
              "      <td>VIN</td>\n",
              "      <td>Saint Vincent and the Grenadines</td>\n",
              "      <td>NaN</td>\n",
              "    </tr>\n",
              "    <tr>\n",
              "      <th>203</th>\n",
              "      <td>YEM</td>\n",
              "      <td>Yemen</td>\n",
              "      <td>NaN</td>\n",
              "    </tr>\n",
              "    <tr>\n",
              "      <th>204</th>\n",
              "      <td>ZAM</td>\n",
              "      <td>Zambia</td>\n",
              "      <td>NRH (1964) as Northern Rhodesia</td>\n",
              "    </tr>\n",
              "    <tr>\n",
              "      <th>205</th>\n",
              "      <td>ZIM</td>\n",
              "      <td>Zimbabwe</td>\n",
              "      <td>RHO (1960–1972) as Rhodesia</td>\n",
              "    </tr>\n",
              "  </tbody>\n",
              "</table>\n",
              "<p>206 rows × 3 columns</p>\n",
              "</div>\n",
              "      <button class=\"colab-df-convert\" onclick=\"convertToInteractive('df-c6a33d70-4486-4466-a34a-8e39c07bb272')\"\n",
              "              title=\"Convert this dataframe to an interactive table.\"\n",
              "              style=\"display:none;\">\n",
              "        \n",
              "  <svg xmlns=\"http://www.w3.org/2000/svg\" height=\"24px\"viewBox=\"0 0 24 24\"\n",
              "       width=\"24px\">\n",
              "    <path d=\"M0 0h24v24H0V0z\" fill=\"none\"/>\n",
              "    <path d=\"M18.56 5.44l.94 2.06.94-2.06 2.06-.94-2.06-.94-.94-2.06-.94 2.06-2.06.94zm-11 1L8.5 8.5l.94-2.06 2.06-.94-2.06-.94L8.5 2.5l-.94 2.06-2.06.94zm10 10l.94 2.06.94-2.06 2.06-.94-2.06-.94-.94-2.06-.94 2.06-2.06.94z\"/><path d=\"M17.41 7.96l-1.37-1.37c-.4-.4-.92-.59-1.43-.59-.52 0-1.04.2-1.43.59L10.3 9.45l-7.72 7.72c-.78.78-.78 2.05 0 2.83L4 21.41c.39.39.9.59 1.41.59.51 0 1.02-.2 1.41-.59l7.78-7.78 2.81-2.81c.8-.78.8-2.07 0-2.86zM5.41 20L4 18.59l7.72-7.72 1.47 1.35L5.41 20z\"/>\n",
              "  </svg>\n",
              "      </button>\n",
              "      \n",
              "  <style>\n",
              "    .colab-df-container {\n",
              "      display:flex;\n",
              "      flex-wrap:wrap;\n",
              "      gap: 12px;\n",
              "    }\n",
              "\n",
              "    .colab-df-convert {\n",
              "      background-color: #E8F0FE;\n",
              "      border: none;\n",
              "      border-radius: 50%;\n",
              "      cursor: pointer;\n",
              "      display: none;\n",
              "      fill: #1967D2;\n",
              "      height: 32px;\n",
              "      padding: 0 0 0 0;\n",
              "      width: 32px;\n",
              "    }\n",
              "\n",
              "    .colab-df-convert:hover {\n",
              "      background-color: #E2EBFA;\n",
              "      box-shadow: 0px 1px 2px rgba(60, 64, 67, 0.3), 0px 1px 3px 1px rgba(60, 64, 67, 0.15);\n",
              "      fill: #174EA6;\n",
              "    }\n",
              "\n",
              "    [theme=dark] .colab-df-convert {\n",
              "      background-color: #3B4455;\n",
              "      fill: #D2E3FC;\n",
              "    }\n",
              "\n",
              "    [theme=dark] .colab-df-convert:hover {\n",
              "      background-color: #434B5C;\n",
              "      box-shadow: 0px 1px 3px 1px rgba(0, 0, 0, 0.15);\n",
              "      filter: drop-shadow(0px 1px 2px rgba(0, 0, 0, 0.3));\n",
              "      fill: #FFFFFF;\n",
              "    }\n",
              "  </style>\n",
              "\n",
              "      <script>\n",
              "        const buttonEl =\n",
              "          document.querySelector('#df-c6a33d70-4486-4466-a34a-8e39c07bb272 button.colab-df-convert');\n",
              "        buttonEl.style.display =\n",
              "          google.colab.kernel.accessAllowed ? 'block' : 'none';\n",
              "\n",
              "        async function convertToInteractive(key) {\n",
              "          const element = document.querySelector('#df-c6a33d70-4486-4466-a34a-8e39c07bb272');\n",
              "          const dataTable =\n",
              "            await google.colab.kernel.invokeFunction('convertToInteractive',\n",
              "                                                     [key], {});\n",
              "          if (!dataTable) return;\n",
              "\n",
              "          const docLinkHtml = 'Like what you see? Visit the ' +\n",
              "            '<a target=\"_blank\" href=https://colab.research.google.com/notebooks/data_table.ipynb>data table notebook</a>'\n",
              "            + ' to learn more about interactive tables.';\n",
              "          element.innerHTML = '';\n",
              "          dataTable['output_type'] = 'display_data';\n",
              "          await google.colab.output.renderOutput(dataTable, element);\n",
              "          const docLink = document.createElement('div');\n",
              "          docLink.innerHTML = docLinkHtml;\n",
              "          element.appendChild(docLink);\n",
              "        }\n",
              "      </script>\n",
              "    </div>\n",
              "  </div>\n",
              "  "
            ]
          },
          "metadata": {},
          "execution_count": 382
        }
      ]
    },
    {
      "cell_type": "markdown",
      "source": [
        "The reason for adding this dataset is beacause, we could see some countries have use different country codes for the specific time period. \n",
        "\n",
        "This data set will help to identify the old and new country codes in that cases."
      ],
      "metadata": {
        "id": "M74geOdzN_KK"
      }
    },
    {
      "cell_type": "markdown",
      "source": [
        "# Saving the datasets"
      ],
      "metadata": {
        "id": "-jJZZ2nZZ1dy"
      }
    },
    {
      "cell_type": "code",
      "source": [
        "# saving the dataframe\n",
        "data.to_csv('Athletics_record.csv')\n",
        "\n",
        "country.to_csv('Country_code.csv')"
      ],
      "metadata": {
        "id": "fkoAfM37Z0Ty"
      },
      "execution_count": 384,
      "outputs": []
    },
    {
      "cell_type": "markdown",
      "source": [
        "#Things I've learnt\n",
        "\n",
        "- Basic concepts of web screaping using Beautiful soup\n",
        "- Findall() to get the html tags and sections\n",
        "- Using tables to extract wikipedia table infomration is very easy \n",
        "\n",
        "\n",
        "#Things to implement in future\n",
        "- Scraping multi pages in wikipedia using wikipedia and urllib2 pacakages\n",
        "- Including scraping of href links for the dataset\n",
        "- Scraping someother sites apart from wikipedia\n"
      ],
      "metadata": {
        "id": "av0aGcvkYJj2"
      }
    },
    {
      "cell_type": "markdown",
      "source": [
        "# References\n",
        "\n",
        "- https://www.youtube.com/watch?v=RKsLLG-bzEY&t=4592s\n",
        "- https://en.wikipedia.org/wiki/List_of_Asian_Games_medalists_in_athletics\n",
        "- https://jovian.ai/aakashns-6l3/scraping-github-topics-repositories-rough\n",
        "- https://www.w3resource.com/python-exercises/BeautifulSoup/python-beautifulsoup-exercise-9.php\n",
        "- https://www.pylenin.com/blogs/python-beautiful-soup/\n",
        "- https://medium.com/analytics-vidhya/web-scraping-a-wikipedia-table-into-a-dataframe-c52617e1f451\n",
        "- https://www.appsloveworld.com/pandas/100/144/how-to-extract-only-the-string-component-between-parenthesis\n",
        "- https://en.wikipedia.org/wiki/List_of_IOC_country_codes"
      ],
      "metadata": {
        "id": "ZFtH5p1jifri"
      }
    }
  ]
}