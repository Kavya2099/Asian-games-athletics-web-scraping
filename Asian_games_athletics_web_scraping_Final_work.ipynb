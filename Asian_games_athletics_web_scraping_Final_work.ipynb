{
  "nbformat": 4,
  "nbformat_minor": 0,
  "metadata": {
    "colab": {
      "provenance": [],
      "authorship_tag": "ABX9TyOFAPgnzvk+WwwQ3p8VvtdK",
      "include_colab_link": true
    },
    "kernelspec": {
      "name": "python3",
      "display_name": "Python 3"
    },
    "language_info": {
      "name": "python"
    }
  },
  "cells": [
    {
      "cell_type": "markdown",
      "metadata": {
        "id": "view-in-github",
        "colab_type": "text"
      },
      "source": [
        "<a href=\"https://colab.research.google.com/github/Kavya2099/Asian-games-athletics-web-scraping/blob/main/Asian_games_athletics_web_scraping_Final_work.ipynb\" target=\"_parent\"><img src=\"https://colab.research.google.com/assets/colab-badge.svg\" alt=\"Open In Colab\"/></a>"
      ]
    },
    {
      "cell_type": "markdown",
      "source": [
        "# Websraping project on Asian games using Beautiful Soup to parse and extract information\n",
        "Getting the list of countries who bagged medals in atletics from the year 1951-2022\n",
        "\n",
        "I'll be scarping out year, country, category, gender and medals--> gold, silver, bronze deatils from wikipedia\n",
        "\n",
        "https://en.wikipedia.org/wiki/List_of_Asian_Games_medalists_in_athletics\n",
        "\n",
        "This is the final copy. You can view all explanations in my rough copy notebook!!"
      ],
      "metadata": {
        "id": "z6YAKqzFRLSD"
      }
    },
    {
      "cell_type": "code",
      "source": [
        "!pip install requests --upgrade --quiet\n",
        "import requests\n",
        "!pip install beautifulsoup4 --upgrade --quiet\n",
        "from bs4 import BeautifulSoup"
      ],
      "metadata": {
        "id": "gTRS10DsRdKm",
        "colab": {
          "base_uri": "https://localhost:8080/"
        },
        "outputId": "393eaf6c-ad2b-4535-e48b-1c93a678934e"
      },
      "execution_count": 1,
      "outputs": [
        {
          "output_type": "stream",
          "name": "stdout",
          "text": [
            "\u001b[K     |████████████████████████████████| 62 kB 1.3 MB/s \n",
            "\u001b[K     |████████████████████████████████| 128 kB 8.0 MB/s \n",
            "\u001b[?25h"
          ]
        }
      ]
    },
    {
      "cell_type": "code",
      "execution_count": 2,
      "metadata": {
        "id": "JPa-HRTBQ2SX"
      },
      "outputs": [],
      "source": [
        "def get_info(url):\n",
        "  wiki_url = url\n",
        "  #getting the response from url\n",
        "  response = requests.get(wiki_url)\n",
        "  #getting the status code. If the status code is between 200-299, it means success\n",
        "  if response.status_code != 200:\n",
        "        raise Exception('Failed to load page {}'.format(wiki_url))\n",
        "  page_contents = response.text\n",
        "  doc = BeautifulSoup(page_contents, 'html.parser')\n",
        "  return doc"
      ]
    },
    {
      "cell_type": "code",
      "source": [
        "url='https://en.wikipedia.org/wiki/List_of_Asian_Games_medalists_in_athletics'\n",
        "doc=get_info(url)"
      ],
      "metadata": {
        "id": "sgCLFLtqSOgX"
      },
      "execution_count": 3,
      "outputs": []
    },
    {
      "cell_type": "markdown",
      "source": [
        "## Getting category"
      ],
      "metadata": {
        "id": "bct4iIDfSVsg"
      }
    },
    {
      "cell_type": "code",
      "source": [
        "category = doc.find_all('h2')\n",
        "for i in range(1,4):\n",
        "  category[i]= category[i].text[:-6]\n",
        "category= category[1:4]\n",
        "category"
      ],
      "metadata": {
        "colab": {
          "base_uri": "https://localhost:8080/"
        },
        "id": "j5TqMjIJSbkv",
        "outputId": "1a6ff5cc-3026-4442-f282-9544b3d5c8ad"
      },
      "execution_count": 4,
      "outputs": [
        {
          "output_type": "execute_result",
          "data": {
            "text/plain": [
              "['Men', 'Women', 'Mixed']"
            ]
          },
          "metadata": {},
          "execution_count": 4
        }
      ]
    },
    {
      "cell_type": "markdown",
      "source": [
        "We have 3 categories"
      ],
      "metadata": {
        "id": "0RRfALZcTfg-"
      }
    },
    {
      "cell_type": "markdown",
      "source": [
        "##  Athletic sports type"
      ],
      "metadata": {
        "id": "FSGS-4GJTFc6"
      }
    },
    {
      "cell_type": "code",
      "source": [
        "selection_class = 'mw-headline'\n",
        "\n",
        "sports_tags = doc.find_all('span', { 'class': selection_class})\n",
        "\n",
        "sports_male=[]\n",
        "\n",
        "for i in range(1,26):\n",
        "  sports_male.append(sports_tags[i].text)\n",
        "sports_female=[]\n",
        "\n",
        "for i in range(27,52):\n",
        "  sports_female.append(sports_tags[i].text)\n",
        "\n",
        "sports_mixed=[]\n",
        "\n",
        "\n",
        "sports_mixed.append(sports_tags[53].text)\n",
        "sports= sports_male+ sports_female +sports_mixed\n",
        "len(sports)"
      ],
      "metadata": {
        "colab": {
          "base_uri": "https://localhost:8080/"
        },
        "id": "-AGo75CCTHsT",
        "outputId": "dfb0d9bf-91ed-4c88-e152-2dac2bc01273"
      },
      "execution_count": 5,
      "outputs": [
        {
          "output_type": "execute_result",
          "data": {
            "text/plain": [
              "51"
            ]
          },
          "metadata": {},
          "execution_count": 5
        }
      ]
    },
    {
      "cell_type": "markdown",
      "source": [
        "totally we have 25 sports in male, 25 sports in female and 1 in mixed, which sums upto 51 sports type w.r.t categories."
      ],
      "metadata": {
        "id": "rQYv9zrHTcpW"
      }
    },
    {
      "cell_type": "markdown",
      "source": [
        "## Data from wikipedia tables"
      ],
      "metadata": {
        "id": "p44M7krRTpjm"
      }
    },
    {
      "cell_type": "code",
      "source": [
        "import pandas as pd\n",
        "table=doc.find_all('table')\n",
        "\n",
        "def get_year(year):\n",
        "  year=year.split(' ')[0]\n",
        "  return year"
      ],
      "metadata": {
        "id": "Nk7gd-soUk0u"
      },
      "execution_count": 6,
      "outputs": []
    },
    {
      "cell_type": "code",
      "source": [
        "def dataset():\n",
        "  data= pd.DataFrame()\n",
        "  for i in range(0,51):\n",
        "    source=pd.read_html(str(table[i]))\n",
        "    # convert list to dataframe\n",
        "    atheletics=pd.DataFrame(source[0])\n",
        "    if(i<=24):\n",
        "      j=0\n",
        "    elif(i<50 and i>24):\n",
        "      j=1\n",
        "    else:\n",
        "      j=2\n",
        "    atheletics['Category']=category[j]\n",
        "    atheletics['Sports']= sports[i]\n",
        "    atheletics.rename(columns = {'Games':'Year'}, inplace = True)\n",
        "    atheletics['Year']= atheletics['Year'].apply(get_year)\n",
        "    atheletics['Gold']=atheletics.Gold.str.extract(r'\\((.*)\\)')\n",
        "    atheletics['Silver']=atheletics.Silver.str.extract(r'\\((.*)\\)')\n",
        "    atheletics['Bronze']=atheletics.Bronze.str.extract(r'\\((.*)\\)')\n",
        "    print(\"Appending \"+sports[i]+ \" in \"+category[j])\n",
        "    data=data.append(atheletics,ignore_index=True)\n",
        "\n",
        "  return data\n"
      ],
      "metadata": {
        "id": "dr6yZtNVTt6O"
      },
      "execution_count": 7,
      "outputs": []
    },
    {
      "cell_type": "code",
      "source": [
        "data= dataset()"
      ],
      "metadata": {
        "colab": {
          "base_uri": "https://localhost:8080/"
        },
        "id": "hrSB3H3DUFAf",
        "outputId": "28b022a4-79fc-46c0-c33d-b2815378e5b5"
      },
      "execution_count": 8,
      "outputs": [
        {
          "output_type": "stream",
          "name": "stdout",
          "text": [
            "Appending 100 m in Men\n",
            "Appending 200 m in Men\n",
            "Appending 400 m in Men\n",
            "Appending 800 m in Men\n",
            "Appending 1500 m in Men\n",
            "Appending 5000 m in Men\n",
            "Appending 10,000 m in Men\n",
            "Appending 110 m hurdles in Men\n",
            "Appending 400 m hurdles in Men\n",
            "Appending 3000 m steeplechase in Men\n",
            "Appending 4 × 100 m relay in Men\n",
            "Appending 4 × 400 m relay in Men\n",
            "Appending Marathon in Men\n",
            "Appending 10,000 m walk in Men\n",
            "Appending 20 km walk in Men\n",
            "Appending 50 km walk in Men\n",
            "Appending High jump in Men\n",
            "Appending Pole vault in Men\n",
            "Appending Long jump in Men\n",
            "Appending Triple jump in Men\n",
            "Appending Shot put in Men\n",
            "Appending Discus throw in Men\n",
            "Appending Hammer throw in Men\n",
            "Appending Javelin throw in Men\n",
            "Appending Decathlon in Men\n",
            "Appending 100 m in Women\n",
            "Appending 200 m in Women\n",
            "Appending 400 m in Women\n",
            "Appending 800 m in Women\n",
            "Appending 1500 m in Women\n",
            "Appending 3000 m in Women\n",
            "Appending 5000 m in Women\n",
            "Appending 10,000 m in Women\n",
            "Appending 100 m hurdles in Women\n",
            "Appending 400 m hurdles in Women\n",
            "Appending 3000 m steeplechase in Women\n",
            "Appending 4 × 100 m relay in Women\n",
            "Appending 4 × 400 m relay in Women\n",
            "Appending Marathon in Women\n",
            "Appending 10,000 m walk in Women\n",
            "Appending 20 km walk in Women\n",
            "Appending High jump in Women\n",
            "Appending Pole vault in Women\n",
            "Appending Long jump in Women\n",
            "Appending Triple jump in Women\n",
            "Appending Shot put in Women\n",
            "Appending Discus throw in Women\n",
            "Appending Hammer throw in Women\n",
            "Appending Javelin throw in Women\n",
            "Appending Heptathlon in Women\n",
            "Appending 4 × 400 m relay in Mixed\n"
          ]
        }
      ]
    },
    {
      "cell_type": "code",
      "source": [
        "data"
      ],
      "metadata": {
        "colab": {
          "base_uri": "https://localhost:8080/",
          "height": 423
        },
        "id": "5MGZn5zsUyrA",
        "outputId": "0286ca36-6816-45ff-dacb-baa9e16dd7a0"
      },
      "execution_count": 9,
      "outputs": [
        {
          "output_type": "execute_result",
          "data": {
            "text/plain": [
              "     Year Gold Silver Bronze Category           Sports\n",
              "0    1951  IND    JPN    JPN      Men            100 m\n",
              "1    1954  PAK    PHI    IND      Men            100 m\n",
              "2    1958  PAK    JPN    PHI      Men            100 m\n",
              "3    1962  INA    MAL    PHI      Men            100 m\n",
              "4    1966  MAL    SIN    JPN      Men            100 m\n",
              "..    ...  ...    ...    ...      ...              ...\n",
              "727  2006  KAZ    IND    IND    Women       Heptathlon\n",
              "728  2010  UZB    JPN    IND    Women       Heptathlon\n",
              "729  2014  UZB    CHN    UZB    Women       Heptathlon\n",
              "730  2018  IND    CHN    JPN    Women       Heptathlon\n",
              "731  2018  IND    KAZ    CHN    Mixed  4 × 400 m relay\n",
              "\n",
              "[732 rows x 6 columns]"
            ],
            "text/html": [
              "\n",
              "  <div id=\"df-d63fb92f-6f99-4762-9038-f12a6dd25171\">\n",
              "    <div class=\"colab-df-container\">\n",
              "      <div>\n",
              "<style scoped>\n",
              "    .dataframe tbody tr th:only-of-type {\n",
              "        vertical-align: middle;\n",
              "    }\n",
              "\n",
              "    .dataframe tbody tr th {\n",
              "        vertical-align: top;\n",
              "    }\n",
              "\n",
              "    .dataframe thead th {\n",
              "        text-align: right;\n",
              "    }\n",
              "</style>\n",
              "<table border=\"1\" class=\"dataframe\">\n",
              "  <thead>\n",
              "    <tr style=\"text-align: right;\">\n",
              "      <th></th>\n",
              "      <th>Year</th>\n",
              "      <th>Gold</th>\n",
              "      <th>Silver</th>\n",
              "      <th>Bronze</th>\n",
              "      <th>Category</th>\n",
              "      <th>Sports</th>\n",
              "    </tr>\n",
              "  </thead>\n",
              "  <tbody>\n",
              "    <tr>\n",
              "      <th>0</th>\n",
              "      <td>1951</td>\n",
              "      <td>IND</td>\n",
              "      <td>JPN</td>\n",
              "      <td>JPN</td>\n",
              "      <td>Men</td>\n",
              "      <td>100 m</td>\n",
              "    </tr>\n",
              "    <tr>\n",
              "      <th>1</th>\n",
              "      <td>1954</td>\n",
              "      <td>PAK</td>\n",
              "      <td>PHI</td>\n",
              "      <td>IND</td>\n",
              "      <td>Men</td>\n",
              "      <td>100 m</td>\n",
              "    </tr>\n",
              "    <tr>\n",
              "      <th>2</th>\n",
              "      <td>1958</td>\n",
              "      <td>PAK</td>\n",
              "      <td>JPN</td>\n",
              "      <td>PHI</td>\n",
              "      <td>Men</td>\n",
              "      <td>100 m</td>\n",
              "    </tr>\n",
              "    <tr>\n",
              "      <th>3</th>\n",
              "      <td>1962</td>\n",
              "      <td>INA</td>\n",
              "      <td>MAL</td>\n",
              "      <td>PHI</td>\n",
              "      <td>Men</td>\n",
              "      <td>100 m</td>\n",
              "    </tr>\n",
              "    <tr>\n",
              "      <th>4</th>\n",
              "      <td>1966</td>\n",
              "      <td>MAL</td>\n",
              "      <td>SIN</td>\n",
              "      <td>JPN</td>\n",
              "      <td>Men</td>\n",
              "      <td>100 m</td>\n",
              "    </tr>\n",
              "    <tr>\n",
              "      <th>...</th>\n",
              "      <td>...</td>\n",
              "      <td>...</td>\n",
              "      <td>...</td>\n",
              "      <td>...</td>\n",
              "      <td>...</td>\n",
              "      <td>...</td>\n",
              "    </tr>\n",
              "    <tr>\n",
              "      <th>727</th>\n",
              "      <td>2006</td>\n",
              "      <td>KAZ</td>\n",
              "      <td>IND</td>\n",
              "      <td>IND</td>\n",
              "      <td>Women</td>\n",
              "      <td>Heptathlon</td>\n",
              "    </tr>\n",
              "    <tr>\n",
              "      <th>728</th>\n",
              "      <td>2010</td>\n",
              "      <td>UZB</td>\n",
              "      <td>JPN</td>\n",
              "      <td>IND</td>\n",
              "      <td>Women</td>\n",
              "      <td>Heptathlon</td>\n",
              "    </tr>\n",
              "    <tr>\n",
              "      <th>729</th>\n",
              "      <td>2014</td>\n",
              "      <td>UZB</td>\n",
              "      <td>CHN</td>\n",
              "      <td>UZB</td>\n",
              "      <td>Women</td>\n",
              "      <td>Heptathlon</td>\n",
              "    </tr>\n",
              "    <tr>\n",
              "      <th>730</th>\n",
              "      <td>2018</td>\n",
              "      <td>IND</td>\n",
              "      <td>CHN</td>\n",
              "      <td>JPN</td>\n",
              "      <td>Women</td>\n",
              "      <td>Heptathlon</td>\n",
              "    </tr>\n",
              "    <tr>\n",
              "      <th>731</th>\n",
              "      <td>2018</td>\n",
              "      <td>IND</td>\n",
              "      <td>KAZ</td>\n",
              "      <td>CHN</td>\n",
              "      <td>Mixed</td>\n",
              "      <td>4 × 400 m relay</td>\n",
              "    </tr>\n",
              "  </tbody>\n",
              "</table>\n",
              "<p>732 rows × 6 columns</p>\n",
              "</div>\n",
              "      <button class=\"colab-df-convert\" onclick=\"convertToInteractive('df-d63fb92f-6f99-4762-9038-f12a6dd25171')\"\n",
              "              title=\"Convert this dataframe to an interactive table.\"\n",
              "              style=\"display:none;\">\n",
              "        \n",
              "  <svg xmlns=\"http://www.w3.org/2000/svg\" height=\"24px\"viewBox=\"0 0 24 24\"\n",
              "       width=\"24px\">\n",
              "    <path d=\"M0 0h24v24H0V0z\" fill=\"none\"/>\n",
              "    <path d=\"M18.56 5.44l.94 2.06.94-2.06 2.06-.94-2.06-.94-.94-2.06-.94 2.06-2.06.94zm-11 1L8.5 8.5l.94-2.06 2.06-.94-2.06-.94L8.5 2.5l-.94 2.06-2.06.94zm10 10l.94 2.06.94-2.06 2.06-.94-2.06-.94-.94-2.06-.94 2.06-2.06.94z\"/><path d=\"M17.41 7.96l-1.37-1.37c-.4-.4-.92-.59-1.43-.59-.52 0-1.04.2-1.43.59L10.3 9.45l-7.72 7.72c-.78.78-.78 2.05 0 2.83L4 21.41c.39.39.9.59 1.41.59.51 0 1.02-.2 1.41-.59l7.78-7.78 2.81-2.81c.8-.78.8-2.07 0-2.86zM5.41 20L4 18.59l7.72-7.72 1.47 1.35L5.41 20z\"/>\n",
              "  </svg>\n",
              "      </button>\n",
              "      \n",
              "  <style>\n",
              "    .colab-df-container {\n",
              "      display:flex;\n",
              "      flex-wrap:wrap;\n",
              "      gap: 12px;\n",
              "    }\n",
              "\n",
              "    .colab-df-convert {\n",
              "      background-color: #E8F0FE;\n",
              "      border: none;\n",
              "      border-radius: 50%;\n",
              "      cursor: pointer;\n",
              "      display: none;\n",
              "      fill: #1967D2;\n",
              "      height: 32px;\n",
              "      padding: 0 0 0 0;\n",
              "      width: 32px;\n",
              "    }\n",
              "\n",
              "    .colab-df-convert:hover {\n",
              "      background-color: #E2EBFA;\n",
              "      box-shadow: 0px 1px 2px rgba(60, 64, 67, 0.3), 0px 1px 3px 1px rgba(60, 64, 67, 0.15);\n",
              "      fill: #174EA6;\n",
              "    }\n",
              "\n",
              "    [theme=dark] .colab-df-convert {\n",
              "      background-color: #3B4455;\n",
              "      fill: #D2E3FC;\n",
              "    }\n",
              "\n",
              "    [theme=dark] .colab-df-convert:hover {\n",
              "      background-color: #434B5C;\n",
              "      box-shadow: 0px 1px 3px 1px rgba(0, 0, 0, 0.15);\n",
              "      filter: drop-shadow(0px 1px 2px rgba(0, 0, 0, 0.3));\n",
              "      fill: #FFFFFF;\n",
              "    }\n",
              "  </style>\n",
              "\n",
              "      <script>\n",
              "        const buttonEl =\n",
              "          document.querySelector('#df-d63fb92f-6f99-4762-9038-f12a6dd25171 button.colab-df-convert');\n",
              "        buttonEl.style.display =\n",
              "          google.colab.kernel.accessAllowed ? 'block' : 'none';\n",
              "\n",
              "        async function convertToInteractive(key) {\n",
              "          const element = document.querySelector('#df-d63fb92f-6f99-4762-9038-f12a6dd25171');\n",
              "          const dataTable =\n",
              "            await google.colab.kernel.invokeFunction('convertToInteractive',\n",
              "                                                     [key], {});\n",
              "          if (!dataTable) return;\n",
              "\n",
              "          const docLinkHtml = 'Like what you see? Visit the ' +\n",
              "            '<a target=\"_blank\" href=https://colab.research.google.com/notebooks/data_table.ipynb>data table notebook</a>'\n",
              "            + ' to learn more about interactive tables.';\n",
              "          element.innerHTML = '';\n",
              "          dataTable['output_type'] = 'display_data';\n",
              "          await google.colab.output.renderOutput(dataTable, element);\n",
              "          const docLink = document.createElement('div');\n",
              "          docLink.innerHTML = docLinkHtml;\n",
              "          element.appendChild(docLink);\n",
              "        }\n",
              "      </script>\n",
              "    </div>\n",
              "  </div>\n",
              "  "
            ]
          },
          "metadata": {},
          "execution_count": 9
        }
      ]
    },
    {
      "cell_type": "markdown",
      "source": [
        "Finally we have created our dataset, but I want to create another dataset which contains country codes with full country names.\n",
        "\n",
        "Let's see how can we do that.\n",
        "\n",
        "I'll take the list from https://en.wikipedia.org/wiki/List_of_IOC_country_codes\n",
        "\n",
        "# Country code dataset"
      ],
      "metadata": {
        "id": "vgZDbWIqULJm"
      }
    },
    {
      "cell_type": "code",
      "source": [
        "country_url = 'https://en.wikipedia.org/wiki/List_of_IOC_country_codes'\n",
        "doc=get_info(country_url)"
      ],
      "metadata": {
        "id": "aov6eMAYWKqm"
      },
      "execution_count": 10,
      "outputs": []
    },
    {
      "cell_type": "code",
      "source": [
        "table=doc.find_all('table')\n",
        "#changing table 0 to dataframe\n",
        "\n",
        "country=pd.read_html(str(table[0]))\n",
        "# convert list to dataframe\n",
        "country=pd.DataFrame(country[0])\n",
        "country= country[['Code',\t'National Olympic Committee',\t'Other codes used']]\n",
        "\n",
        "#changing the value of first Code record as the record seems to have some extra values\n",
        "country.Code[0]='AFG'"
      ],
      "metadata": {
        "id": "lKYHZ8p9WT8W"
      },
      "execution_count": 11,
      "outputs": []
    },
    {
      "cell_type": "code",
      "source": [
        "country"
      ],
      "metadata": {
        "colab": {
          "base_uri": "https://localhost:8080/",
          "height": 423
        },
        "id": "jJWrHB2YWxFu",
        "outputId": "2e101ede-eeeb-40a4-aaba-79462f8dead6"
      },
      "execution_count": 12,
      "outputs": [
        {
          "output_type": "execute_result",
          "data": {
            "text/plain": [
              "    Code        National Olympic Committee  \\\n",
              "0    AFG                       Afghanistan   \n",
              "1    ALB                           Albania   \n",
              "2    ALG                           Algeria   \n",
              "3    AND                           Andorra   \n",
              "4    ANG                            Angola   \n",
              "..   ...                               ...   \n",
              "201  VIE                           Vietnam   \n",
              "202  VIN  Saint Vincent and the Grenadines   \n",
              "203  YEM                             Yemen   \n",
              "204  ZAM                            Zambia   \n",
              "205  ZIM                          Zimbabwe   \n",
              "\n",
              "                                      Other codes used  \n",
              "0                                                  NaN  \n",
              "1                                                  NaN  \n",
              "2          AGR (1964)AGL (1968 S) from Spanish Argelia  \n",
              "3                                                  NaN  \n",
              "4    ANO (As referenced in IAAF World Championships...  \n",
              "..                                                 ...  \n",
              "201                          VET (1964)VNM (1968–1976)  \n",
              "202                                                NaN  \n",
              "203                                                NaN  \n",
              "204                    NRH (1964) as Northern Rhodesia  \n",
              "205                        RHO (1960–1972) as Rhodesia  \n",
              "\n",
              "[206 rows x 3 columns]"
            ],
            "text/html": [
              "\n",
              "  <div id=\"df-2d0c3840-48d3-4769-a972-718c49719347\">\n",
              "    <div class=\"colab-df-container\">\n",
              "      <div>\n",
              "<style scoped>\n",
              "    .dataframe tbody tr th:only-of-type {\n",
              "        vertical-align: middle;\n",
              "    }\n",
              "\n",
              "    .dataframe tbody tr th {\n",
              "        vertical-align: top;\n",
              "    }\n",
              "\n",
              "    .dataframe thead th {\n",
              "        text-align: right;\n",
              "    }\n",
              "</style>\n",
              "<table border=\"1\" class=\"dataframe\">\n",
              "  <thead>\n",
              "    <tr style=\"text-align: right;\">\n",
              "      <th></th>\n",
              "      <th>Code</th>\n",
              "      <th>National Olympic Committee</th>\n",
              "      <th>Other codes used</th>\n",
              "    </tr>\n",
              "  </thead>\n",
              "  <tbody>\n",
              "    <tr>\n",
              "      <th>0</th>\n",
              "      <td>AFG</td>\n",
              "      <td>Afghanistan</td>\n",
              "      <td>NaN</td>\n",
              "    </tr>\n",
              "    <tr>\n",
              "      <th>1</th>\n",
              "      <td>ALB</td>\n",
              "      <td>Albania</td>\n",
              "      <td>NaN</td>\n",
              "    </tr>\n",
              "    <tr>\n",
              "      <th>2</th>\n",
              "      <td>ALG</td>\n",
              "      <td>Algeria</td>\n",
              "      <td>AGR (1964)AGL (1968 S) from Spanish Argelia</td>\n",
              "    </tr>\n",
              "    <tr>\n",
              "      <th>3</th>\n",
              "      <td>AND</td>\n",
              "      <td>Andorra</td>\n",
              "      <td>NaN</td>\n",
              "    </tr>\n",
              "    <tr>\n",
              "      <th>4</th>\n",
              "      <td>ANG</td>\n",
              "      <td>Angola</td>\n",
              "      <td>ANO (As referenced in IAAF World Championships...</td>\n",
              "    </tr>\n",
              "    <tr>\n",
              "      <th>...</th>\n",
              "      <td>...</td>\n",
              "      <td>...</td>\n",
              "      <td>...</td>\n",
              "    </tr>\n",
              "    <tr>\n",
              "      <th>201</th>\n",
              "      <td>VIE</td>\n",
              "      <td>Vietnam</td>\n",
              "      <td>VET (1964)VNM (1968–1976)</td>\n",
              "    </tr>\n",
              "    <tr>\n",
              "      <th>202</th>\n",
              "      <td>VIN</td>\n",
              "      <td>Saint Vincent and the Grenadines</td>\n",
              "      <td>NaN</td>\n",
              "    </tr>\n",
              "    <tr>\n",
              "      <th>203</th>\n",
              "      <td>YEM</td>\n",
              "      <td>Yemen</td>\n",
              "      <td>NaN</td>\n",
              "    </tr>\n",
              "    <tr>\n",
              "      <th>204</th>\n",
              "      <td>ZAM</td>\n",
              "      <td>Zambia</td>\n",
              "      <td>NRH (1964) as Northern Rhodesia</td>\n",
              "    </tr>\n",
              "    <tr>\n",
              "      <th>205</th>\n",
              "      <td>ZIM</td>\n",
              "      <td>Zimbabwe</td>\n",
              "      <td>RHO (1960–1972) as Rhodesia</td>\n",
              "    </tr>\n",
              "  </tbody>\n",
              "</table>\n",
              "<p>206 rows × 3 columns</p>\n",
              "</div>\n",
              "      <button class=\"colab-df-convert\" onclick=\"convertToInteractive('df-2d0c3840-48d3-4769-a972-718c49719347')\"\n",
              "              title=\"Convert this dataframe to an interactive table.\"\n",
              "              style=\"display:none;\">\n",
              "        \n",
              "  <svg xmlns=\"http://www.w3.org/2000/svg\" height=\"24px\"viewBox=\"0 0 24 24\"\n",
              "       width=\"24px\">\n",
              "    <path d=\"M0 0h24v24H0V0z\" fill=\"none\"/>\n",
              "    <path d=\"M18.56 5.44l.94 2.06.94-2.06 2.06-.94-2.06-.94-.94-2.06-.94 2.06-2.06.94zm-11 1L8.5 8.5l.94-2.06 2.06-.94-2.06-.94L8.5 2.5l-.94 2.06-2.06.94zm10 10l.94 2.06.94-2.06 2.06-.94-2.06-.94-.94-2.06-.94 2.06-2.06.94z\"/><path d=\"M17.41 7.96l-1.37-1.37c-.4-.4-.92-.59-1.43-.59-.52 0-1.04.2-1.43.59L10.3 9.45l-7.72 7.72c-.78.78-.78 2.05 0 2.83L4 21.41c.39.39.9.59 1.41.59.51 0 1.02-.2 1.41-.59l7.78-7.78 2.81-2.81c.8-.78.8-2.07 0-2.86zM5.41 20L4 18.59l7.72-7.72 1.47 1.35L5.41 20z\"/>\n",
              "  </svg>\n",
              "      </button>\n",
              "      \n",
              "  <style>\n",
              "    .colab-df-container {\n",
              "      display:flex;\n",
              "      flex-wrap:wrap;\n",
              "      gap: 12px;\n",
              "    }\n",
              "\n",
              "    .colab-df-convert {\n",
              "      background-color: #E8F0FE;\n",
              "      border: none;\n",
              "      border-radius: 50%;\n",
              "      cursor: pointer;\n",
              "      display: none;\n",
              "      fill: #1967D2;\n",
              "      height: 32px;\n",
              "      padding: 0 0 0 0;\n",
              "      width: 32px;\n",
              "    }\n",
              "\n",
              "    .colab-df-convert:hover {\n",
              "      background-color: #E2EBFA;\n",
              "      box-shadow: 0px 1px 2px rgba(60, 64, 67, 0.3), 0px 1px 3px 1px rgba(60, 64, 67, 0.15);\n",
              "      fill: #174EA6;\n",
              "    }\n",
              "\n",
              "    [theme=dark] .colab-df-convert {\n",
              "      background-color: #3B4455;\n",
              "      fill: #D2E3FC;\n",
              "    }\n",
              "\n",
              "    [theme=dark] .colab-df-convert:hover {\n",
              "      background-color: #434B5C;\n",
              "      box-shadow: 0px 1px 3px 1px rgba(0, 0, 0, 0.15);\n",
              "      filter: drop-shadow(0px 1px 2px rgba(0, 0, 0, 0.3));\n",
              "      fill: #FFFFFF;\n",
              "    }\n",
              "  </style>\n",
              "\n",
              "      <script>\n",
              "        const buttonEl =\n",
              "          document.querySelector('#df-2d0c3840-48d3-4769-a972-718c49719347 button.colab-df-convert');\n",
              "        buttonEl.style.display =\n",
              "          google.colab.kernel.accessAllowed ? 'block' : 'none';\n",
              "\n",
              "        async function convertToInteractive(key) {\n",
              "          const element = document.querySelector('#df-2d0c3840-48d3-4769-a972-718c49719347');\n",
              "          const dataTable =\n",
              "            await google.colab.kernel.invokeFunction('convertToInteractive',\n",
              "                                                     [key], {});\n",
              "          if (!dataTable) return;\n",
              "\n",
              "          const docLinkHtml = 'Like what you see? Visit the ' +\n",
              "            '<a target=\"_blank\" href=https://colab.research.google.com/notebooks/data_table.ipynb>data table notebook</a>'\n",
              "            + ' to learn more about interactive tables.';\n",
              "          element.innerHTML = '';\n",
              "          dataTable['output_type'] = 'display_data';\n",
              "          await google.colab.output.renderOutput(dataTable, element);\n",
              "          const docLink = document.createElement('div');\n",
              "          docLink.innerHTML = docLinkHtml;\n",
              "          element.appendChild(docLink);\n",
              "        }\n",
              "      </script>\n",
              "    </div>\n",
              "  </div>\n",
              "  "
            ]
          },
          "metadata": {},
          "execution_count": 12
        }
      ]
    },
    {
      "cell_type": "markdown",
      "source": [
        "The reason for adding this dataset is beacause, we could see some countries have use different country codes for the specific time period.\n",
        "\n",
        "This data set will help to identify the old and new country codes in that cases.\n",
        "\n",
        "#Saving the datasets"
      ],
      "metadata": {
        "id": "p0tvsqyZW0gT"
      }
    },
    {
      "cell_type": "code",
      "source": [
        "# saving the dataframe\n",
        "data.to_csv('Athletics_record.csv')\n",
        "\n",
        "country.to_csv('Country_code.csv')"
      ],
      "metadata": {
        "id": "MvTql9O1dETm"
      },
      "execution_count": 13,
      "outputs": []
    },
    {
      "cell_type": "markdown",
      "source": [
        "#Things I've learnt\n",
        "\n",
        "- Basic concepts of web screaping using Beautiful soup\n",
        "- Findall() to get the html tags and sections\n",
        "- Using tables to extract wikipedia table infomration is very easy \n",
        "\n",
        "\n",
        "#Things to implement in future\n",
        "- Scraping multi pages in wikipedia using wikipedia and urllib2 pacakages\n",
        "- Including scraping of href links for the dataset\n",
        "- Scraping someother sites apart from wikipedia\n"
      ],
      "metadata": {
        "id": "Ba_6jDdJZyCi"
      }
    },
    {
      "cell_type": "markdown",
      "source": [
        "# References\n",
        "\n",
        "- https://www.youtube.com/watch?v=RKsLLG-bzEY&t=4592s\n",
        "- https://en.wikipedia.org/wiki/List_of_Asian_Games_medalists_in_athletics\n",
        "- https://jovian.ai/aakashns-6l3/scraping-github-topics-repositories-rough\n",
        "- https://www.w3resource.com/python-exercises/BeautifulSoup/python-beautifulsoup-exercise-9.php\n",
        "- https://www.pylenin.com/blogs/python-beautiful-soup/\n",
        "- https://medium.com/analytics-vidhya/web-scraping-a-wikipedia-table-into-a-dataframe-c52617e1f451\n",
        "- https://www.appsloveworld.com/pandas/100/144/how-to-extract-only-the-string-component-between-parenthesis\n",
        "- https://en.wikipedia.org/wiki/List_of_IOC_country_codes"
      ],
      "metadata": {
        "id": "b54wLyk-XUCX"
      }
    }
  ]
}